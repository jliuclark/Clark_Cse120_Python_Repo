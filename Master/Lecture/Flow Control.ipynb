{
  "cells": [
    {
      "metadata": {
        "slideshow": {
          "slide_type": "slide"
        }
      },
      "cell_type": "markdown",
      "source": "<div style=\"text-align: center\"><img src=\"https://www.python.org/static/img/python-logo.png\"></div>\n# Script & Flow Control"
    },
    {
      "metadata": {
        "slideshow": {
          "slide_type": "slide"
        }
      },
      "cell_type": "markdown",
      "source": "# Another Data Type - Boolean\n- Boolean is a data type that can be only `True` or `False`. For example, `pythonIsEasy = True`\n- Boolean in conjunction with logical and relational operators are often used as condition in flow control"
    },
    {
      "metadata": {
        "slideshow": {
          "slide_type": "slide"
        }
      },
      "cell_type": "markdown",
      "source": "# Boolean Operators - `and`, `or`, `not`\n- x `and` y: if x is `False`, then x, else y.  \n- x `or` y: if x is` False`, then y, else x.\n- `not` x: if x is `False`, then `True`, else `False`"
    },
    {
      "metadata": {
        "slideshow": {
          "slide_type": "slide"
        }
      },
      "cell_type": "markdown",
      "source": "# `and`, `or` - short-circuit operators\n- `and`: it only evaluates the second argument if the first one is `True`. \n- `or`: it only evaluates the second argument if the first one is `False`"
    },
    {
      "metadata": {
        "slideshow": {
          "slide_type": "fragment"
        },
        "trusted": true
      },
      "cell_type": "code",
      "source": "x = 5 # also test for 5, 15\ntest = (not(x % 3)) and (x % 5); \nprint('not(x % 3) is: ',not(x % 3) )\nprint('x%5 is:  ', x % 5)\nprint('test is: ', test)",
      "execution_count": 1,
      "outputs": [
        {
          "output_type": "stream",
          "text": "not(x % 3) is:  False\nx%5 is:   0\ntest is:  False\n",
          "name": "stdout"
        }
      ]
    },
    {
      "metadata": {
        "slideshow": {
          "slide_type": "slide"
        }
      },
      "cell_type": "markdown",
      "source": "# Relational Operators\n- A simple **comparison** that is evaluated as **Boolean**\n- The standard comparison operators are: `<` (less than), `>` (greater than), `==` (equal to), `<=` (less than or equal to), `>=` (greater than or equal to) and `!=` (not equal to)."
    },
    {
      "metadata": {
        "slideshow": {
          "slide_type": "slide"
        }
      },
      "cell_type": "markdown",
      "source": "# Student Exercise\nAn boolean expression that is evaluated as `True` only if a number is multiple of 3, but not multiple of 5"
    },
    {
      "metadata": {
        "slideshow": {
          "slide_type": "fragment"
        },
        "trusted": true
      },
      "cell_type": "code",
      "source": "x = 18\ntest = (x % 3) == 0 and (x % 5) != 0\nprint(test)",
      "execution_count": 15,
      "outputs": [
        {
          "output_type": "stream",
          "text": "True\n",
          "name": "stdout"
        }
      ]
    },
    {
      "metadata": {
        "slideshow": {
          "slide_type": "slide"
        }
      },
      "cell_type": "markdown",
      "source": "# Working with Python - Script Mode\n- Limitation of Interactive mode: When quit from the session, the definitions made (functions and variables) are lost.\n- Script Mode: \n    - save them in files/scripts and run a file/script as input for the interpreter.\n    - filename.**py**\n- Introducing IDLE Editor"
    },
    {
      "metadata": {
        "slideshow": {
          "slide_type": "slide"
        }
      },
      "cell_type": "markdown",
      "source": "# Loop\n- Loop is used to specify a sequence of statements once but the same sequence may be carried out many times in succession.\n- `for` Loop: **Collection-controlled**, to loop over each item in a collection and terminate when collection is run through\n- `while` loop: **Condition-controlled**, to loop till some condition is met and terminate\n- **Indefinite** Loop: Never terminate"
    },
    {
      "metadata": {
        "slideshow": {
          "slide_type": "slide"
        },
        "trusted": true
      },
      "cell_type": "code",
      "source": "#Print integers from 0 to 5.\n#Without using loop, 6 print statement\n#What if from 0 to 1,000? NOT SCALABLE!\nprint(0)\nprint(1)\nprint(2)\nprint(3)\nprint(4)\nprint(5)",
      "execution_count": 16,
      "outputs": [
        {
          "output_type": "stream",
          "text": "0\n1\n2\n3\n4\n5\n",
          "name": "stdout"
        }
      ]
    },
    {
      "metadata": {
        "slideshow": {
          "slide_type": "slide"
        },
        "trusted": true
      },
      "cell_type": "code",
      "source": "#Print integers from 0 to 5\n#With for loop, iterate over list[0,1,2,3,4,5] returned by range(0,6)\n#2 lines of code, scalable. range(0, 1001) for [0,1...,999,1000]\nfor x in range(0,6):\n    print(x)  ",
      "execution_count": 3,
      "outputs": [
        {
          "output_type": "stream",
          "text": "0\n1\n2\n3\n4\n5\n",
          "name": "stdout"
        }
      ]
    },
    {
      "metadata": {
        "slideshow": {
          "slide_type": "slide"
        }
      },
      "cell_type": "markdown",
      "source": "# Block\n- Every line in the body of the loop is indented: indentation is Python's way of grouping statements as **block** of code\n- Blocks of code are denoted by line indentation, which is rigidly **enforced**. \n- The number of spaces in the indentation is variable, but all statements within the block must be indented the same amount, either by tab or spaces"
    },
    {
      "metadata": {
        "slideshow": {
          "slide_type": "slide"
        },
        "trusted": true
      },
      "cell_type": "code",
      "source": "#Print integers from 0 to 5\n#With while loop, iterate while x<6; terminate when x=6\n#4 lines of code, scalable. x<1001 for [0,1...,999,1000]\nx = 0\nwhile (x < 6): #truth value testing\n    print(x)\n    x = x + 1 #what if omitting this line?",
      "execution_count": 5,
      "outputs": [
        {
          "output_type": "stream",
          "text": "0\n1\n2\n3\n4\n5\n",
          "name": "stdout"
        }
      ]
    },
    {
      "metadata": {
        "slideshow": {
          "slide_type": "slide"
        }
      },
      "cell_type": "markdown",
      "source": "# Truth value testing\n- A Boolean\n- `None` is `False`\n- An integer: Any **non-zero** integer value is `True`; zero is `False`\n- For a string or list value anything with a **non-zero length** is `True`; **empty** sequences are `False`"
    },
    {
      "metadata": {
        "slideshow": {
          "slide_type": "fragment"
        },
        "trusted": true
      },
      "cell_type": "code",
      "source": "if not \"\": print (\"Not an empty string\") \nif not []: print (\"Not an empty list\")\nif not 0: print(\"Not zero\")",
      "execution_count": 6,
      "outputs": [
        {
          "output_type": "stream",
          "text": "Not an empty string\nNot an empty list\nNot zero\n",
          "name": "stdout"
        }
      ]
    },
    {
      "metadata": {
        "slideshow": {
          "slide_type": "slide"
        },
        "trusted": true,
        "scrolled": true
      },
      "cell_type": "code",
      "source": "#Print integers from 0 to 5\n#With while(true) and break loop, iterate forever, but break out of loop and terminate when x=6\n#5 lines of code, scalable. if x== 1001 for [0,1...,999,1000]\nx = 0\nwhile (True):\n    if x == 6: break\n    print(x)\n    x = x+1",
      "execution_count": 6,
      "outputs": [
        {
          "output_type": "stream",
          "text": "0\n1\n2\n3\n4\n5\n",
          "name": "stdout"
        }
      ]
    },
    {
      "metadata": {
        "slideshow": {
          "slide_type": "slide"
        }
      },
      "cell_type": "markdown",
      "source": "# Student Exercise - `while` loop\nWrite a program to display an initial sub-sequence up to 20 of the Fibonacci series, i.e the sum of two elements defines the next. For example, 1,1,2,3,5...X(n) = X(n-1)+X(n-2)"
    },
    {
      "metadata": {
        "trusted": true,
        "slideshow": {
          "slide_type": "fragment"
        }
      },
      "cell_type": "code",
      "source": "# Fibonacci series: the sum of two elements defines the next.\na = 0; b = 1; # set up base\nwhile b < 20:  # condition  \n    print(b)\n    c = a + b \n    a = b\n    b = c",
      "execution_count": 22,
      "outputs": [
        {
          "output_type": "stream",
          "text": "1\n1\n2\n3\n5\n8\n13\n",
          "name": "stdout"
        }
      ]
    },
    {
      "metadata": {
        "slideshow": {
          "slide_type": "slide"
        }
      },
      "cell_type": "markdown",
      "source": "# Choice/Decision - `if..else`\n- Conditional constructs are to perform different computations or actions depending on whether a Boolean condition evaluates to be `True` or `False`. \n- `if-else` statement in Python is the most common construct that allows this.\n- `else` if optional. "
    },
    {
      "metadata": {
        "slideshow": {
          "slide_type": "fragment"
        },
        "trusted": true
      },
      "cell_type": "code",
      "source": "a = 3\nif a > 3:\n    print(\"a is greater than 3\")\nelse:#a < = 3\n    print(\"a is not greater than 3\")",
      "execution_count": 7,
      "outputs": [
        {
          "output_type": "stream",
          "text": "a is not greater than 3\n",
          "name": "stdout"
        }
      ]
    },
    {
      "metadata": {
        "slideshow": {
          "slide_type": "slide"
        }
      },
      "cell_type": "markdown",
      "source": "# Choice/Decision - `elif`\n- Short for `else if`, quivalent to **nested if**, but more compact and less excessive indentation.\n- Inserting as many as `elif` to give many choices as you need\n- Python's subtitute for `switch...case`in other languages"
    },
    {
      "metadata": {
        "slideshow": {
          "slide_type": "fragment"
        },
        "trusted": true
      },
      "cell_type": "code",
      "source": "a = 3\nif a > 3:\n    print(\"a is greater than 3\")\nelif a == 3:\n    print(\"a is equal to 3\")\nelse:# a < 3\n    print(\"a is less than 3\")",
      "execution_count": 8,
      "outputs": [
        {
          "output_type": "stream",
          "text": "a is equal to 3\n",
          "name": "stdout"
        }
      ]
    },
    {
      "metadata": {
        "slideshow": {
          "slide_type": "slide"
        }
      },
      "cell_type": "markdown",
      "source": "# Student Exercise\n- Rewrite preious example with elif using **nested if**"
    },
    {
      "metadata": {
        "slideshow": {
          "slide_type": "fragment"
        },
        "trusted": true
      },
      "cell_type": "code",
      "source": "a = 4\nif a > 3:\n    print(\"a is greater than 3\")\nelse:\n    if a == 3:\n        print(\"a is equal to 3\")\n    else:\n        print(\"a is less than 3\")",
      "execution_count": 3,
      "outputs": [
        {
          "output_type": "stream",
          "text": "a is greater than 3\n",
          "name": "stdout"
        }
      ]
    },
    {
      "metadata": {
        "slideshow": {
          "slide_type": "slide"
        }
      },
      "cell_type": "markdown",
      "source": "# Student Exercise\nWrite a program that takes percentage score from users and convert it to letter grade. A:\t90%-100%; B:\t80%-89%; C:\t70%-79%;D:\t60%-69%; F:\t0%-59%"
    },
    {
      "metadata": {
        "slideshow": {
          "slide_type": "fragment"
        },
        "trusted": true
      },
      "cell_type": "code",
      "source": "result = int(input(\"Please enter raw scores: \"))\n\nif result >= 90:\n    print(\"A\")\nelif result >= 80:    \n    print(\"B\")\nelif result >= 70:\n    print(\"C\")\nelif result >= 60:\n    print(\"D\")\nelse:                 \n    print(\"F\")",
      "execution_count": 9,
      "outputs": [
        {
          "output_type": "stream",
          "name": "stdout",
          "text": "Please enter raw scores: 98\nA\n"
        }
      ]
    },
    {
      "metadata": {
        "slideshow": {
          "slide_type": "slide"
        }
      },
      "cell_type": "markdown",
      "source": "# Student Exercise\nUse a `for` loop and `if` statement to identify and print the odd number in a list num_list that contains the following 10 numbers:\n76, 64, 25, 23,  4, 17, 56, 14, 90, 28"
    },
    {
      "metadata": {
        "slideshow": {
          "slide_type": "fragment"
        },
        "trusted": true
      },
      "cell_type": "code",
      "source": "num_list = [76, 64, 25, 23,  4, 17, 56, 14, 90, 28]\nfor x in num_list:\n    if x % 2 != 0:# even number: x%2 ==0; odd number: x%2!=0\n        print(x)",
      "execution_count": 11,
      "outputs": [
        {
          "output_type": "stream",
          "text": "25\n23\n17\n",
          "name": "stdout"
        }
      ]
    }
  ],
  "metadata": {
    "kernelspec": {
      "name": "python36",
      "display_name": "Python 3.6",
      "language": "python"
    },
    "language_info": {
      "mimetype": "text/x-python",
      "nbconvert_exporter": "python",
      "name": "python",
      "pygments_lexer": "ipython3",
      "version": "3.6.6",
      "file_extension": ".py",
      "codemirror_mode": {
        "version": 3,
        "name": "ipython"
      }
    },
    "celltoolbar": "Slideshow"
  },
  "nbformat": 4,
  "nbformat_minor": 1
}