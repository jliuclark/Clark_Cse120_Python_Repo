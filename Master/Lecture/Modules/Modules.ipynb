{
  "cells": [
    {
      "metadata": {
        "slideshow": {
          "slide_type": "slide"
        }
      },
      "cell_type": "markdown",
      "source": "<div style=\"text-align: center\"><img src=\"https://www.python.org/static/img/python-logo.png\"></div>\n# Modules"
    },
    {
      "metadata": {
        "slideshow": {
          "slide_type": "slide"
        }
      },
      "cell_type": "markdown",
      "source": "# The Evolution of Our Love for Python\n- Interactive Mode    \n- Script Mode\n- Functions    \n- Modules\n    - Logically organize Python code by grouping related code into a python file or module.\n    - As program gets longer, split it into several files for easier maintenance. or, \n    -  Use a handy function that you’ve written in several programs without copying its definition into each program.\n    "
    },
    {
      "metadata": {
        "slideshow": {
          "slide_type": "slide"
        }
      },
      "cell_type": "markdown",
      "source": "#  Modules\n- A module is a python file containing **logically related** python code\n    - file_name = module_name.**py**\n- `dir()` is used to find out what definitions a module include\n"
    },
    {
      "metadata": {
        "slideshow": {
          "slide_type": "fragment"
        },
        "trusted": true
      },
      "cell_type": "code",
      "source": "import math\nprint(dir(math))",
      "execution_count": 3,
      "outputs": [
        {
          "output_type": "stream",
          "text": "['__doc__', '__file__', '__loader__', '__name__', '__package__', '__spec__', 'acos', 'acosh', 'asin', 'asinh', 'atan', 'atan2', 'atanh', 'ceil', 'copysign', 'cos', 'cosh', 'degrees', 'e', 'erf', 'erfc', 'exp', 'expm1', 'fabs', 'factorial', 'floor', 'fmod', 'frexp', 'fsum', 'gamma', 'gcd', 'hypot', 'inf', 'isclose', 'isfinite', 'isinf', 'isnan', 'ldexp', 'lgamma', 'log', 'log10', 'log1p', 'log2', 'modf', 'nan', 'pi', 'pow', 'radians', 'sin', 'sinh', 'sqrt', 'tan', 'tanh', 'tau', 'trunc']\n",
          "name": "stdout"
        }
      ]
    },
    {
      "metadata": {
        "slideshow": {
          "slide_type": "slide"
        }
      },
      "cell_type": "markdown",
      "source": "# Modules - `import`\n- A module need to be **imported** before use. A module can be imported into \n    - other modules, or \n    - the **main** module, or \n    - an interactive instance of the interpreter(shell)\n- Variants of `import`:\n    - `import` module: import module(not functions), then use module name to access functions with `.` notation as `module.function`\n    - `from` module `import` function: import specific functions, then access functions directly\n    - `from` module `import` `*`: import all functions, then access functions directly"
    },
    {
      "metadata": {
        "slideshow": {
          "slide_type": "slide"
        }
      },
      "cell_type": "markdown",
      "source": "# Modules - Revisit Fibonacci Series\n- Two version of fib(n): print vs. return (see definition in Functions)\n- Logically related and can be organized in a module `fibo` in file fibo.py"
    },
    {
      "metadata": {
        "trusted": true,
        "slideshow": {
          "slide_type": "notes"
        }
      },
      "cell_type": "code",
      "source": "#fibo.py\ndef fib_print(n): # Define function - write Fibonacci series up to n\n    \"\"\"Print a Fibonacci series up to n.\"\"\"# Documentation string\n    a = 0; b = 1; # set up base\n    while b < n:  # condition  \n        print(b, end=' '); c = a + b; a = b; b = c   \n        \ndef fib_return(n): # Define function - write Fibonacci series up to n\n    \"\"\"Retunr a list containing a Fibonacci series up to n.\"\"\"# Documentation string\n    series = []#create an emply list for holding the series\n    a = 0; b = 1; # set up base\n    while b < n:  # condition  \n        series.append(b); c = a + b; a = b; b = c\n    return series       ",
      "execution_count": null,
      "outputs": []
    },
    {
      "metadata": {
        "trusted": true,
        "slideshow": {
          "slide_type": "fragment"
        }
      },
      "cell_type": "code",
      "source": "import fibo #import module, not functions\nfibo.fib_print(20) # use module to access function as module.function",
      "execution_count": 11,
      "outputs": [
        {
          "output_type": "stream",
          "text": "1 1 2 3 5 8 13 ",
          "name": "stdout"
        }
      ]
    },
    {
      "metadata": {
        "slideshow": {
          "slide_type": "fragment"
        },
        "trusted": true
      },
      "cell_type": "code",
      "source": "from fibo import fib_return#import function fib_return ONLY from module\nprint(fib_return(20))# access function directly",
      "execution_count": 6,
      "outputs": [
        {
          "output_type": "stream",
          "text": "[1, 1, 2, 3, 5, 8, 13]\n",
          "name": "stdout"
        }
      ]
    },
    {
      "metadata": {
        "slideshow": {
          "slide_type": "fragment"
        },
        "trusted": true
      },
      "cell_type": "code",
      "source": "from fibo import * #import all functions fib_return from module\nfib_print(20) # access any function directly\nprint(fib_return(20))",
      "execution_count": 8,
      "outputs": [
        {
          "output_type": "stream",
          "text": "1 1 2 3 5 8 13 [1, 1, 2, 3, 5, 8, 13]\n",
          "name": "stdout"
        }
      ]
    },
    {
      "metadata": {
        "slideshow": {
          "slide_type": "slide"
        }
      },
      "cell_type": "markdown",
      "source": "# Standard Modules\n- Python comes with a library of standard modules. For a breif tour- https://docs.python.org/3/tutorial/stdlib.html#mathematics\n- Commonly used ones: `math`, `datetime`"
    },
    {
      "metadata": {
        "slideshow": {
          "slide_type": "slide"
        }
      },
      "cell_type": "markdown",
      "source": "# Modules - `Reload`\n- `import` statements are executed only the **first** time the module name is encountered\n- For any module update after first `import`, use `reload`"
    },
    {
      "metadata": {
        "slideshow": {
          "slide_type": "fragment"
        },
        "trusted": true
      },
      "cell_type": "code",
      "source": "import importlib\nimportlib.reload(fibo)",
      "execution_count": 14,
      "outputs": [
        {
          "output_type": "execute_result",
          "execution_count": 14,
          "data": {
            "text/plain": "<module 'fibo' from '/home/nbuser/library/Master/Lecture/fibo.py'>"
          },
          "metadata": {}
        }
      ]
    },
    {
      "metadata": {
        "slideshow": {
          "slide_type": "slide"
        }
      },
      "cell_type": "markdown",
      "source": "# Standard Modules - `math`\n- The `math` module gives access to functions for floating point math\n- https://docs.python.org/3/library/math.html"
    },
    {
      "metadata": {
        "slideshow": {
          "slide_type": "fragment"
        },
        "trusted": true
      },
      "cell_type": "code",
      "source": "import math #import math module\nprint(math.cos(math.pi / 4)) # use math.cos and math.pi\nprint(math.log(1024,2)) # use math.log\nhelp(math.ceil) #find help on math.ceil",
      "execution_count": 12,
      "outputs": [
        {
          "output_type": "stream",
          "text": "0.7071067811865476\n10.0\nHelp on built-in function ceil in module math:\n\nceil(...)\n    ceil(x)\n    \n    Return the ceiling of x as an Integral.\n    This is the smallest integer >= x.\n\n",
          "name": "stdout"
        }
      ]
    },
    {
      "metadata": {
        "slideshow": {
          "slide_type": "slide"
        }
      },
      "cell_type": "markdown",
      "source": "# Standard Modules - `datetime`\n- The `datetime` module supplies classes for manipulating dates and times in both simple and complex ways. \n- https://docs.python.org/3/library/time.html  "
    },
    {
      "metadata": {
        "slideshow": {
          "slide_type": "fragment"
        },
        "trusted": true
      },
      "cell_type": "code",
      "source": "import datetime\nnow = datetime.date.today()\nprint(now)\nbirthday = datetime.date(1994, 7, 31)# dates support calendar arithmetic\nage = now - birthday\nage.days",
      "execution_count": 13,
      "outputs": [
        {
          "output_type": "stream",
          "text": "2020-04-28\n",
          "name": "stdout"
        },
        {
          "output_type": "execute_result",
          "execution_count": 13,
          "data": {
            "text/plain": "9403"
          },
          "metadata": {}
        }
      ]
    },
    {
      "metadata": {
        "trusted": true
      },
      "cell_type": "code",
      "source": "",
      "execution_count": null,
      "outputs": []
    }
  ],
  "metadata": {
    "kernelspec": {
      "name": "python36",
      "display_name": "Python 3.6",
      "language": "python"
    },
    "language_info": {
      "mimetype": "text/x-python",
      "nbconvert_exporter": "python",
      "name": "python",
      "pygments_lexer": "ipython3",
      "version": "3.6.6",
      "file_extension": ".py",
      "codemirror_mode": {
        "version": 3,
        "name": "ipython"
      }
    },
    "celltoolbar": "Slideshow"
  },
  "nbformat": 4,
  "nbformat_minor": 1
}