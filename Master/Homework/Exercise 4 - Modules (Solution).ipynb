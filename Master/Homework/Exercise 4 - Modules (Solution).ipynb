{
  "cells": [
    {
      "metadata": {
        "collapsed": true
      },
      "cell_type": "markdown",
      "source": "# Exercises"
    },
    {
      "metadata": {},
      "cell_type": "markdown",
      "source": "16 Feb 2018. Course release\n\n23 Feb 2018. Exercises covering the topic of gentle introduction\n\n2 Mar 2018. Exercises covering the topic of Flow control \n\n9 Mar 2018. Exercises  covering the topics of data structures and modules\n\n16 Mar 2018. Exercises covering input and outputs, and errors and exceptions\n\n23 Mar 2018. Capstone project 1\n\n30 Mar 2018. Capstone project 2 "
    },
    {
      "metadata": {},
      "cell_type": "markdown",
      "source": "***"
    },
    {
      "metadata": {},
      "cell_type": "markdown",
      "source": "# Modules"
    },
    {
      "metadata": {},
      "cell_type": "markdown",
      "source": "**Write a program that asks for a number from user, and prints out the sine, cosine, and tangent of the user inputted value.**\n\n_Example usage/output:\n    Enter a number to get the sine, cosine, and tangent of!\n    > 0.5\n    The sine of 0.5 is 0.4794\n    The cosine of 0.5 is 0.8776\n    The tangent of 0.5 is 0.5463_"
    },
    {
      "metadata": {
        "trusted": true
      },
      "cell_type": "code",
      "source": "",
      "execution_count": null,
      "outputs": []
    },
    {
      "metadata": {},
      "cell_type": "markdown",
      "source": "Write a module that print \"This is an odd number\" when the input is a odd number. Print the number of the number is even"
    },
    {
      "metadata": {
        "trusted": false
      },
      "cell_type": "code",
      "source": "def check_odd(num):\n    return print(\"This is an odd number\" if num % 2 else num)",
      "execution_count": 1,
      "outputs": []
    },
    {
      "metadata": {},
      "cell_type": "markdown",
      "source": "Write a module that sum all the numbers in a list\n\nlist: [4, 5, 6, 7, 3, 4, 6, 2, 4]"
    },
    {
      "metadata": {
        "trusted": true
      },
      "cell_type": "code",
      "source": "def sum_all(num):\n    sum_total = 0\n    for n in num:\n        sum_total += n\n    return sum_total",
      "execution_count": 1,
      "outputs": []
    },
    {
      "metadata": {
        "trusted": true
      },
      "cell_type": "code",
      "source": "sum_all([4, 5, 6, 7, 3, 4, 6, 2, 4])",
      "execution_count": 2,
      "outputs": [
        {
          "output_type": "execute_result",
          "execution_count": 2,
          "data": {
            "text/plain": "41"
          },
          "metadata": {}
        }
      ]
    },
    {
      "metadata": {},
      "cell_type": "markdown",
      "source": "Write a module that takes in two numbers, compare them and print the larger number"
    },
    {
      "metadata": {
        "trusted": false
      },
      "cell_type": "code",
      "source": "def compare_num(num1, num2):\n    return num1 if num1 > num2 else num2",
      "execution_count": 4,
      "outputs": []
    },
    {
      "metadata": {
        "trusted": false
      },
      "cell_type": "code",
      "source": "compare_num(1, 3)",
      "execution_count": 5,
      "outputs": [
        {
          "data": {
            "text/plain": "3"
          },
          "execution_count": 5,
          "metadata": {},
          "output_type": "execute_result"
        }
      ]
    },
    {
      "metadata": {},
      "cell_type": "markdown",
      "source": "***"
    }
  ],
  "metadata": {
    "kernelspec": {
      "name": "python36",
      "display_name": "Python 3.6",
      "language": "python"
    },
    "language_info": {
      "mimetype": "text/x-python",
      "nbconvert_exporter": "python",
      "name": "python",
      "pygments_lexer": "ipython3",
      "version": "3.6.6",
      "file_extension": ".py",
      "codemirror_mode": {
        "version": 3,
        "name": "ipython"
      }
    }
  },
  "nbformat": 4,
  "nbformat_minor": 2
}