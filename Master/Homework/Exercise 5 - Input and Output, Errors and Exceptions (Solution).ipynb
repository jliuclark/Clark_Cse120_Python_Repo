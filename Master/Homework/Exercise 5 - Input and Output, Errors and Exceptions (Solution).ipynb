{
 "cells": [
  {
   "cell_type": "markdown",
   "metadata": {
    "collapsed": true
   },
   "source": [
    "# Exercises"
   ]
  },
  {
   "cell_type": "markdown",
   "metadata": {},
   "source": [
    "16 Feb 2018. Course release\n",
    "\n",
    "23 Feb 2018. Exercises covering the topic of gentle introduction\n",
    "\n",
    "2 Mar 2018. Exercises covering the topic of Flow control \n",
    "\n",
    "9 Mar 2018. Exercises  covering the topics of data structures and modules\n",
    "\n",
    "16 Mar 2018. Exercises covering input and outputs, and errors and exceptions\n",
    "\n",
    "23 Mar 2018. Capstone project 1\n",
    "\n",
    "30 Mar 2018. Capstone project 2 "
   ]
  },
  {
   "cell_type": "markdown",
   "metadata": {},
   "source": [
    "***"
   ]
  },
  {
   "cell_type": "markdown",
   "metadata": {},
   "source": [
    "# Input and Output"
   ]
  },
  {
   "cell_type": "markdown",
   "metadata": {},
   "source": [
    "Write a table of square roots and cube roots from 1 to 11"
   ]
  },
  {
   "cell_type": "code",
   "execution_count": 1,
   "metadata": {},
   "outputs": [
    {
     "name": "stdout",
     "output_type": "stream",
     "text": [
      "1 1.0 1.0\n",
      "2 1.4142135623730951 1.2599210498948732\n",
      "3 1.7320508075688772 1.4422495703074083\n",
      "4 2.0 1.5874010519681994\n",
      "5 2.23606797749979 1.7099759466766968\n",
      "6 2.449489742783178 1.8171205928321397\n",
      "7 2.6457513110645907 1.912931182772389\n",
      "8 2.8284271247461903 2.0\n",
      "9 3.0 2.080083823051904\n",
      "10 3.1622776601683795 2.154434690031884\n"
     ]
    }
   ],
   "source": [
    "for x in range(1, 11):\n",
    "    print(x, x**(1/2), x**(1/3))"
   ]
  },
  {
   "cell_type": "markdown",
   "metadata": {},
   "source": [
    "Take the above exercise and print it in a more reader friendly format"
   ]
  },
  {
   "cell_type": "code",
   "execution_count": 2,
   "metadata": {},
   "outputs": [
    {
     "name": "stdout",
     "output_type": "stream",
     "text": [
      "  1 1.000000 1.000000\n",
      "  2 1.414214 1.259921\n",
      "  3 1.732051 1.442250\n",
      "  4 2.000000 1.587401\n",
      "  5 2.236068 1.709976\n",
      "  6 2.449490 1.817121\n",
      "  7 2.645751 1.912931\n",
      "  8 2.828427 2.000000\n",
      "  9 3.000000 2.080084\n",
      " 10 3.162278 2.154435\n"
     ]
    }
   ],
   "source": [
    "for x in range(1, 11):\n",
    "    print('{0:3} {1:f} {2:f}'.format(x, x**(1/2), x**(1/3)))"
   ]
  },
  {
   "cell_type": "markdown",
   "metadata": {},
   "source": [
    "Write the following strings to a file name called \"Bill.csv\"\n",
    "\n",
    "`Thanks Alex for the short summary`"
   ]
  },
  {
   "cell_type": "code",
   "execution_count": 3,
   "metadata": {},
   "outputs": [],
   "source": [
    "new_sentence = \"Thanks Alex for the short summary\"\n",
    "f = open('Bill.csv', 'w')\n",
    "f.write(new_sentence)\n",
    "f.close()"
   ]
  },
  {
   "cell_type": "markdown",
   "metadata": {},
   "source": [
    "Now, read the contents in \"Bill.csv\" and print to screen "
   ]
  },
  {
   "cell_type": "code",
   "execution_count": 4,
   "metadata": {},
   "outputs": [
    {
     "name": "stdout",
     "output_type": "stream",
     "text": [
      "['Thanks Alex for the short summary']\n"
     ]
    }
   ],
   "source": [
    "file_data = []\n",
    "with open('Bill.csv') as f:\n",
    "    for line in f:\n",
    "        file_data.append(line.rstrip('\\n'))\n",
    "f.closed\n",
    "print(file_data)"
   ]
  },
  {
   "cell_type": "markdown",
   "metadata": {},
   "source": [
    "***"
   ]
  },
  {
   "cell_type": "markdown",
   "metadata": {},
   "source": [
    "# Errors and Exceptions"
   ]
  },
  {
   "cell_type": "markdown",
   "metadata": {},
   "source": [
    "When writing a function, it is best to perform number validation. If users input a text, you will get an error when try to convert to an int.\n",
    "\n",
    "Write a program that ask user for two numbers. Add and print the result. \n",
    "\n",
    "If not a number is enter, return a error message.\n",
    "\n"
   ]
  },
  {
   "cell_type": "code",
   "execution_count": 20,
   "metadata": {
    "scrolled": true
   },
   "outputs": [
    {
     "name": "stdout",
     "output_type": "stream",
     "text": [
      "Number 1: 4\n",
      "Number 2: \n",
      "Please enter a numerical input\n",
      "Number 1: 4\n",
      "Number 2: 6\n",
      "The total is 10\n"
     ]
    }
   ],
   "source": [
    "while True:\n",
    "    num1 = 0\n",
    "    num2 = 0\n",
    "    try:\n",
    "        num1 = int(input(\"Number 1: \"))\n",
    "        num2 = int(input(\"Number 2: \"))\n",
    "        print(\"The total is {}\".format(num1 + num2))\n",
    "        break\n",
    "    except ValueError:\n",
    "        print(\"Please enter a numerical input\")\n",
    "    "
   ]
  },
  {
   "cell_type": "markdown",
   "metadata": {},
   "source": [
    "***"
   ]
  }
 ],
 "metadata": {
  "kernelspec": {
   "display_name": "Python 3.6",
   "language": "python",
   "name": "python36"
  },
  "language_info": {
   "codemirror_mode": {
    "name": "ipython",
    "version": 3
   },
   "file_extension": ".py",
   "mimetype": "text/x-python",
   "name": "python",
   "nbconvert_exporter": "python",
   "pygments_lexer": "ipython3",
   "version": "3.6.3"
  }
 },
 "nbformat": 4,
 "nbformat_minor": 2
}
