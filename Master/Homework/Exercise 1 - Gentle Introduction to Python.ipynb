{
  "cells": [
    {
      "metadata": {},
      "cell_type": "markdown",
      "source": "# Exercises"
    },
    {
      "metadata": {},
      "cell_type": "markdown",
      "source": "16 Feb 2018. Course release\n\n23 Feb 2018. Exercises covering the topic of gentle introduction\n\n2 Mar 2018. Exercises covering the topic of Flow control \n\n9 Mar 2018. Exercises  covering the topics of data structures and modules\n\n16 Mar 2018. Exercises covering input and outputs, and errors and exceptions\n\n23 Mar 2018. Capstone project 1\n\n30 Mar 2018. Capstone project 2 "
    },
    {
      "metadata": {},
      "cell_type": "markdown",
      "source": "***"
    },
    {
      "metadata": {},
      "cell_type": "markdown",
      "source": "# An Informal Introduction to Python"
    },
    {
      "metadata": {},
      "cell_type": "markdown",
      "source": "\n\n## Getting Used to the Jupyter Notebook Interface\n1. Print the version of Python or distribution you are using"
    },
    {
      "metadata": {
        "trusted": false
      },
      "cell_type": "code",
      "source": "",
      "execution_count": null,
      "outputs": []
    },
    {
      "metadata": {
        "trusted": false
      },
      "cell_type": "code",
      "source": "",
      "execution_count": null,
      "outputs": []
    },
    {
      "metadata": {},
      "cell_type": "markdown",
      "source": "***"
    },
    {
      "metadata": {},
      "cell_type": "markdown",
      "source": "## Using Python as a Calculator\n\nPerform the following computations:\n1. 3 + 4\n2. 5 / 6\n3. 22 / 7.\n4. 3 + 6 / 8\n5. 1 / 0\n\n\n*NB: The following are all stretch questions. It is not covered. You can google for the answer*\n\n1. How do you calculate the number 27's square and cube root?\n2. How to you convert a float (24.6) to integer? \n3. How do you convert an integer (5.6) to a hex number? \n\nExample: 1 / 2. / 4 * 7"
    },
    {
      "metadata": {
        "trusted": false
      },
      "cell_type": "code",
      "source": "1 / 2. / 4 * 7",
      "execution_count": 1,
      "outputs": [
        {
          "data": {
            "text/plain": "0.875"
          },
          "execution_count": 1,
          "metadata": {},
          "output_type": "execute_result"
        }
      ]
    },
    {
      "metadata": {
        "trusted": false
      },
      "cell_type": "code",
      "source": "",
      "execution_count": null,
      "outputs": []
    },
    {
      "metadata": {
        "trusted": false
      },
      "cell_type": "code",
      "source": "",
      "execution_count": null,
      "outputs": []
    },
    {
      "metadata": {
        "trusted": false
      },
      "cell_type": "code",
      "source": "",
      "execution_count": null,
      "outputs": []
    },
    {
      "metadata": {
        "trusted": false
      },
      "cell_type": "code",
      "source": "",
      "execution_count": null,
      "outputs": []
    },
    {
      "metadata": {
        "trusted": false
      },
      "cell_type": "code",
      "source": "",
      "execution_count": null,
      "outputs": []
    },
    {
      "metadata": {
        "trusted": false
      },
      "cell_type": "code",
      "source": "",
      "execution_count": null,
      "outputs": []
    },
    {
      "metadata": {
        "trusted": false
      },
      "cell_type": "code",
      "source": "",
      "execution_count": null,
      "outputs": []
    },
    {
      "metadata": {
        "trusted": false
      },
      "cell_type": "code",
      "source": "",
      "execution_count": null,
      "outputs": []
    },
    {
      "metadata": {
        "trusted": false
      },
      "cell_type": "code",
      "source": "",
      "execution_count": null,
      "outputs": []
    },
    {
      "metadata": {},
      "cell_type": "markdown",
      "source": "***"
    },
    {
      "metadata": {},
      "cell_type": "markdown",
      "source": "## Value Assignment\n\nAssign each of the following to a variable name:\n1. 99\n2. 3.14\n3. 1/7\n4. \"Hello World\"\n5. 4 + 6j\n\nExample: `latest_ios_version = \"11.2.5\"`"
    },
    {
      "metadata": {
        "trusted": false
      },
      "cell_type": "code",
      "source": "latest_ios_version = \"11.2.5\"",
      "execution_count": 2,
      "outputs": []
    },
    {
      "metadata": {
        "trusted": false
      },
      "cell_type": "code",
      "source": "",
      "execution_count": null,
      "outputs": []
    },
    {
      "metadata": {
        "trusted": false
      },
      "cell_type": "code",
      "source": "",
      "execution_count": null,
      "outputs": []
    },
    {
      "metadata": {
        "trusted": false
      },
      "cell_type": "code",
      "source": "",
      "execution_count": null,
      "outputs": []
    },
    {
      "metadata": {
        "trusted": false
      },
      "cell_type": "code",
      "source": "",
      "execution_count": null,
      "outputs": []
    },
    {
      "metadata": {
        "trusted": false
      },
      "cell_type": "code",
      "source": "",
      "execution_count": null,
      "outputs": []
    },
    {
      "metadata": {},
      "cell_type": "markdown",
      "source": "***"
    },
    {
      "metadata": {},
      "cell_type": "markdown",
      "source": "## Determine the data type\nTest the data type of the variable that you defined in the previous section (value assignment)\n\nExample: type(latest_ios_version)"
    },
    {
      "metadata": {
        "trusted": false
      },
      "cell_type": "code",
      "source": "type(latest_ios_version)",
      "execution_count": 3,
      "outputs": [
        {
          "data": {
            "text/plain": "str"
          },
          "execution_count": 3,
          "metadata": {},
          "output_type": "execute_result"
        }
      ]
    },
    {
      "metadata": {
        "trusted": false
      },
      "cell_type": "code",
      "source": "",
      "execution_count": null,
      "outputs": []
    },
    {
      "metadata": {
        "trusted": false
      },
      "cell_type": "code",
      "source": "",
      "execution_count": null,
      "outputs": []
    },
    {
      "metadata": {
        "trusted": false
      },
      "cell_type": "code",
      "source": "",
      "execution_count": null,
      "outputs": []
    },
    {
      "metadata": {
        "trusted": false
      },
      "cell_type": "code",
      "source": "",
      "execution_count": null,
      "outputs": []
    },
    {
      "metadata": {
        "trusted": false
      },
      "cell_type": "code",
      "source": "",
      "execution_count": null,
      "outputs": []
    },
    {
      "metadata": {},
      "cell_type": "markdown",
      "source": "***"
    },
    {
      "metadata": {},
      "cell_type": "markdown",
      "source": "## Strings"
    },
    {
      "metadata": {},
      "cell_type": "markdown",
      "source": "Input into the variable `sentence` the following string.\n\n\"Rising prices are more of a threat to the global economy this year than joblessness\"\n\nUsing slicing, extract\n\n1. Rising\n2. threat\n3. lessness\n4. ssensselboj naht raey siht ymonoce labolg eht ot taerht a fo erom era secirp gnisiR (Reverse the string. You will need to google this)\n5. gnisiR\n6. How long (number of characters) is `sentence`?\n\n*NB: The following are all stretch questions. It is covered.*\n\n1. We know that strings are immutable, how might you go about change a string in Python? Change `rain` to `raining`\n"
    },
    {
      "metadata": {
        "trusted": false
      },
      "cell_type": "code",
      "source": "",
      "execution_count": null,
      "outputs": []
    },
    {
      "metadata": {
        "trusted": false
      },
      "cell_type": "code",
      "source": "",
      "execution_count": null,
      "outputs": []
    },
    {
      "metadata": {
        "trusted": false
      },
      "cell_type": "code",
      "source": "",
      "execution_count": null,
      "outputs": []
    },
    {
      "metadata": {
        "trusted": false
      },
      "cell_type": "code",
      "source": "",
      "execution_count": null,
      "outputs": []
    },
    {
      "metadata": {
        "trusted": false
      },
      "cell_type": "code",
      "source": "",
      "execution_count": null,
      "outputs": []
    },
    {
      "metadata": {
        "trusted": false
      },
      "cell_type": "code",
      "source": "",
      "execution_count": null,
      "outputs": []
    },
    {
      "metadata": {
        "trusted": false
      },
      "cell_type": "code",
      "source": "",
      "execution_count": null,
      "outputs": []
    },
    {
      "metadata": {
        "trusted": false
      },
      "cell_type": "code",
      "source": "",
      "execution_count": null,
      "outputs": []
    },
    {
      "metadata": {
        "trusted": false
      },
      "cell_type": "code",
      "source": "",
      "execution_count": null,
      "outputs": []
    },
    {
      "metadata": {
        "trusted": false
      },
      "cell_type": "code",
      "source": "",
      "execution_count": null,
      "outputs": []
    },
    {
      "metadata": {
        "trusted": false
      },
      "cell_type": "code",
      "source": "",
      "execution_count": null,
      "outputs": []
    },
    {
      "metadata": {
        "trusted": false
      },
      "cell_type": "code",
      "source": "",
      "execution_count": null,
      "outputs": []
    },
    {
      "metadata": {
        "trusted": false
      },
      "cell_type": "code",
      "source": "",
      "execution_count": null,
      "outputs": []
    },
    {
      "metadata": {},
      "cell_type": "markdown",
      "source": "***"
    },
    {
      "metadata": {},
      "cell_type": "markdown",
      "source": "## Lists\n\n1. Create a list of odd numbers until 20\n2. Slice the first 5 odd numbers\n3. Change the 3rd odd number to 22\n4. Append [24, 26, 28, 30] to the end of the list created in 1.\n5. Construct a nested list to hold the following matrix, calling it matrix_b:\n\\begin{bmatrix}\n    1 & 2 \\\\\n    3 & 4 \\\\\n\\end{bmatrix}\n6. Multiply matrix_b from para 5 with 4. What do you get? Is that what you expected?\n7. Assign the matrix you just created first to `matrix_b`, and then assign `res = matrix_b`. Change res[1][0] to 42. What\nhappens to matrix_b? Is that behaviour expected?"
    },
    {
      "metadata": {},
      "cell_type": "markdown",
      "source": "References:\n* [Dan](https://dbader.org/blog/python-reverse-string)\n* [Rob](http://rlhick.people.wm.edu/stories/linear-algebra-python-basics.html)\n* [Chris](http://pbpython.com/)"
    },
    {
      "metadata": {
        "trusted": false
      },
      "cell_type": "code",
      "source": "",
      "execution_count": null,
      "outputs": []
    },
    {
      "metadata": {
        "trusted": false
      },
      "cell_type": "code",
      "source": "",
      "execution_count": null,
      "outputs": []
    },
    {
      "metadata": {
        "trusted": false
      },
      "cell_type": "code",
      "source": "",
      "execution_count": null,
      "outputs": []
    },
    {
      "metadata": {
        "trusted": false
      },
      "cell_type": "code",
      "source": "",
      "execution_count": null,
      "outputs": []
    },
    {
      "metadata": {
        "trusted": false
      },
      "cell_type": "code",
      "source": "",
      "execution_count": null,
      "outputs": []
    },
    {
      "metadata": {
        "trusted": false
      },
      "cell_type": "code",
      "source": "",
      "execution_count": null,
      "outputs": []
    },
    {
      "metadata": {
        "trusted": false
      },
      "cell_type": "code",
      "source": "",
      "execution_count": null,
      "outputs": []
    },
    {
      "metadata": {
        "trusted": false
      },
      "cell_type": "code",
      "source": "",
      "execution_count": null,
      "outputs": []
    },
    {
      "metadata": {
        "trusted": false
      },
      "cell_type": "code",
      "source": "",
      "execution_count": null,
      "outputs": []
    },
    {
      "metadata": {
        "trusted": false
      },
      "cell_type": "code",
      "source": "",
      "execution_count": null,
      "outputs": []
    },
    {
      "metadata": {
        "trusted": false
      },
      "cell_type": "code",
      "source": "",
      "execution_count": null,
      "outputs": []
    },
    {
      "metadata": {
        "trusted": false
      },
      "cell_type": "code",
      "source": "",
      "execution_count": null,
      "outputs": []
    },
    {
      "metadata": {},
      "cell_type": "markdown",
      "source": "***"
    },
    {
      "metadata": {},
      "cell_type": "markdown",
      "source": "## First Steps Towards Programming"
    },
    {
      "metadata": {},
      "cell_type": "markdown",
      "source": "Write a program that store the first 10 numbers that are divisable by 7 into a the variable called `div_7`. \n\n*NB: If you find this exercise challenging, that's okay. It is a stretch exercise. You should be able to tackle it after the flow control class.*"
    },
    {
      "metadata": {
        "trusted": false
      },
      "cell_type": "code",
      "source": "",
      "execution_count": null,
      "outputs": []
    },
    {
      "metadata": {},
      "cell_type": "markdown",
      "source": "***"
    }
  ],
  "metadata": {
    "kernelspec": {
      "name": "python36",
      "display_name": "Python 3.6",
      "language": "python"
    },
    "language_info": {
      "mimetype": "text/x-python",
      "nbconvert_exporter": "python",
      "name": "python",
      "pygments_lexer": "ipython3",
      "version": "3.6.6",
      "file_extension": ".py",
      "codemirror_mode": {
        "version": 3,
        "name": "ipython"
      }
    }
  },
  "nbformat": 4,
  "nbformat_minor": 2
}