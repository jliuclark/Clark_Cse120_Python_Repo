{
  "cells": [
    {
      "metadata": {
        "collapsed": true
      },
      "cell_type": "markdown",
      "source": "# Exercises"
    },
    {
      "metadata": {},
      "cell_type": "markdown",
      "source": "16 Feb 2018. Course release\n\n23 Feb 2018. Exercises covering the topic of gentle introduction\n\n2 Mar 2018. Exercises covering the topic of Flow control \n\n9 Mar 2018. Exercises  covering the topics of data structures and modules\n\n16 Mar 2018. Exercises covering input and outputs, and errors and exceptions\n\n23 Mar 2018. Capstone project 1\n\n30 Mar 2018. Capstone project 2 "
    },
    {
      "metadata": {},
      "cell_type": "markdown",
      "source": "***"
    },
    {
      "metadata": {},
      "cell_type": "markdown",
      "source": "# Data Structures\n"
    },
    {
      "metadata": {},
      "cell_type": "markdown",
      "source": "Add the number 99 to the end of [44, 55, 66, 77] and store the results in `fancy_list`. Print the result."
    },
    {
      "metadata": {
        "trusted": false
      },
      "cell_type": "code",
      "source": "fancy_list = [44, 55, 66, 77]\nfancy_list.append(99)",
      "execution_count": 1,
      "outputs": []
    },
    {
      "metadata": {
        "trusted": false
      },
      "cell_type": "code",
      "source": "fancy_list",
      "execution_count": 2,
      "outputs": [
        {
          "data": {
            "text/plain": "[44, 55, 66, 77, 99]"
          },
          "execution_count": 2,
          "metadata": {},
          "output_type": "execute_result"
        }
      ]
    },
    {
      "metadata": {},
      "cell_type": "markdown",
      "source": "Combined two lists.\n\n[11, 22, 33] and [432, 543, 654]"
    },
    {
      "metadata": {
        "trusted": false
      },
      "cell_type": "code",
      "source": "comb_list_1 = [11, 22, 33]",
      "execution_count": 3,
      "outputs": []
    },
    {
      "metadata": {
        "trusted": false
      },
      "cell_type": "code",
      "source": "comb_list_2 = [432, 543, 654]",
      "execution_count": 4,
      "outputs": []
    },
    {
      "metadata": {
        "trusted": false
      },
      "cell_type": "code",
      "source": "comb_list_1.extend(comb_list_2)",
      "execution_count": 5,
      "outputs": []
    },
    {
      "metadata": {
        "trusted": false
      },
      "cell_type": "code",
      "source": "comb_list_1",
      "execution_count": 6,
      "outputs": [
        {
          "data": {
            "text/plain": "[11, 22, 33, 432, 543, 654]"
          },
          "execution_count": 6,
          "metadata": {},
          "output_type": "execute_result"
        }
      ]
    },
    {
      "metadata": {},
      "cell_type": "markdown",
      "source": "Take [1, 3, 5, 7, 9] and insert 4 between 3 and 5"
    },
    {
      "metadata": {
        "trusted": false
      },
      "cell_type": "code",
      "source": "insert_list = [1, 3, 5, 7, 9]",
      "execution_count": 7,
      "outputs": []
    },
    {
      "metadata": {
        "trusted": false
      },
      "cell_type": "code",
      "source": "insert_list.insert(2, 4)",
      "execution_count": 8,
      "outputs": []
    },
    {
      "metadata": {
        "trusted": false
      },
      "cell_type": "code",
      "source": "insert_list",
      "execution_count": 9,
      "outputs": [
        {
          "data": {
            "text/plain": "[1, 3, 4, 5, 7, 9]"
          },
          "execution_count": 9,
          "metadata": {},
          "output_type": "execute_result"
        }
      ]
    },
    {
      "metadata": {},
      "cell_type": "markdown",
      "source": "Take [1, 3, 5, 7, 9] and remove 7"
    },
    {
      "metadata": {
        "trusted": false
      },
      "cell_type": "code",
      "source": "remove_list = [1, 3, 5, 7, 9]",
      "execution_count": 10,
      "outputs": []
    },
    {
      "metadata": {
        "trusted": false
      },
      "cell_type": "code",
      "source": "remove_list.remove(7)",
      "execution_count": 11,
      "outputs": []
    },
    {
      "metadata": {
        "trusted": false
      },
      "cell_type": "code",
      "source": "remove_list",
      "execution_count": 12,
      "outputs": [
        {
          "data": {
            "text/plain": "[1, 3, 5, 9]"
          },
          "execution_count": 12,
          "metadata": {},
          "output_type": "execute_result"
        }
      ]
    },
    {
      "metadata": {},
      "cell_type": "markdown",
      "source": "Remove 2 from [0, 2, 4, 6, 8] and store in the variable `residual`"
    },
    {
      "metadata": {
        "trusted": false
      },
      "cell_type": "code",
      "source": "pop_list = [0, 2, 4, 6, 8] ",
      "execution_count": 13,
      "outputs": []
    },
    {
      "metadata": {
        "trusted": false
      },
      "cell_type": "code",
      "source": "residual = pop_list.pop(1)",
      "execution_count": 14,
      "outputs": []
    },
    {
      "metadata": {
        "trusted": false
      },
      "cell_type": "code",
      "source": "residual",
      "execution_count": 15,
      "outputs": [
        {
          "data": {
            "text/plain": "2"
          },
          "execution_count": 15,
          "metadata": {},
          "output_type": "execute_result"
        }
      ]
    },
    {
      "metadata": {},
      "cell_type": "markdown",
      "source": "Store the value in `pop_list` in a new variable called `clear_list`\n\nUse a method to delete all the values from `clear_list`. Print it to see if you have been successful in deleting all the values\n"
    },
    {
      "metadata": {
        "trusted": false
      },
      "cell_type": "code",
      "source": "clear_list = pop_list",
      "execution_count": 16,
      "outputs": []
    },
    {
      "metadata": {
        "trusted": false
      },
      "cell_type": "code",
      "source": "clear_list",
      "execution_count": 17,
      "outputs": [
        {
          "data": {
            "text/plain": "[0, 4, 6, 8]"
          },
          "execution_count": 17,
          "metadata": {},
          "output_type": "execute_result"
        }
      ]
    },
    {
      "metadata": {
        "trusted": false
      },
      "cell_type": "code",
      "source": "clear_list.clear()",
      "execution_count": 18,
      "outputs": []
    },
    {
      "metadata": {
        "trusted": false
      },
      "cell_type": "code",
      "source": "clear_list",
      "execution_count": 19,
      "outputs": [
        {
          "data": {
            "text/plain": "[]"
          },
          "execution_count": 19,
          "metadata": {},
          "output_type": "execute_result"
        }
      ]
    },
    {
      "metadata": {},
      "cell_type": "markdown",
      "source": "Store the value in `remove_list` in a new variable called `list_index`\n\nLocate the index number of the value 5"
    },
    {
      "metadata": {
        "trusted": false
      },
      "cell_type": "code",
      "source": "list_index = remove_list\nlist_index",
      "execution_count": 20,
      "outputs": [
        {
          "data": {
            "text/plain": "[1, 3, 5, 9]"
          },
          "execution_count": 20,
          "metadata": {},
          "output_type": "execute_result"
        }
      ]
    },
    {
      "metadata": {
        "trusted": false
      },
      "cell_type": "code",
      "source": "list_index.index(5)",
      "execution_count": 21,
      "outputs": [
        {
          "data": {
            "text/plain": "2"
          },
          "execution_count": 21,
          "metadata": {},
          "output_type": "execute_result"
        }
      ]
    },
    {
      "metadata": {},
      "cell_type": "markdown",
      "source": "Store [1, 3, 3, 5, 2, 4] in a new variable called `repeat_me`\n\nCount the number of times 3 occur in `repeat_me`"
    },
    {
      "metadata": {
        "trusted": false
      },
      "cell_type": "code",
      "source": "repeat_me = [1, 3, 3, 5, 2, 4]",
      "execution_count": 22,
      "outputs": []
    },
    {
      "metadata": {
        "trusted": false
      },
      "cell_type": "code",
      "source": "repeat_me.count(3)",
      "execution_count": 23,
      "outputs": [
        {
          "data": {
            "text/plain": "2"
          },
          "execution_count": 23,
          "metadata": {},
          "output_type": "execute_result"
        }
      ]
    },
    {
      "metadata": {},
      "cell_type": "markdown",
      "source": "Rearrange the numbers in `repeat_me` in descending order"
    },
    {
      "metadata": {
        "trusted": false
      },
      "cell_type": "code",
      "source": "repeat_me.reverse()",
      "execution_count": 24,
      "outputs": []
    },
    {
      "metadata": {
        "trusted": false
      },
      "cell_type": "code",
      "source": "repeat_me",
      "execution_count": 25,
      "outputs": [
        {
          "data": {
            "text/plain": "[4, 2, 5, 3, 3, 1]"
          },
          "execution_count": 25,
          "metadata": {},
          "output_type": "execute_result"
        }
      ]
    },
    {
      "metadata": {},
      "cell_type": "markdown",
      "source": "Rearrange the numbers in `repeat_me` in ascending order"
    },
    {
      "metadata": {
        "trusted": false
      },
      "cell_type": "code",
      "source": "repeat_me.sort()",
      "execution_count": 26,
      "outputs": []
    },
    {
      "metadata": {
        "trusted": false
      },
      "cell_type": "code",
      "source": "repeat_me",
      "execution_count": 27,
      "outputs": [
        {
          "data": {
            "text/plain": "[1, 2, 3, 3, 4, 5]"
          },
          "execution_count": 27,
          "metadata": {},
          "output_type": "execute_result"
        }
      ]
    },
    {
      "metadata": {},
      "cell_type": "markdown",
      "source": "## List Comprehensions"
    },
    {
      "metadata": {},
      "cell_type": "markdown",
      "source": "Harry Porter would like to work out the different combinations from the following 4 numbers\n\n[22, 10, 44, 65]\n\nThis is to help him pick a lock. Help him to solve this puzzle by using list comprehension"
    },
    {
      "metadata": {
        "scrolled": true,
        "trusted": false
      },
      "cell_type": "code",
      "source": "combs = []\nclass_1 = [22, 10, 44, 65]\n\nfor stud_1 in class_1:\n    for stud_2 in class_1:\n        if stud_1 != stud_2:\n            combs.append((stud_1, stud_2))\n\ncombs",
      "execution_count": 28,
      "outputs": [
        {
          "data": {
            "text/plain": "[(22, 10),\n (22, 44),\n (22, 65),\n (10, 22),\n (10, 44),\n (10, 65),\n (44, 22),\n (44, 10),\n (44, 65),\n (65, 22),\n (65, 10),\n (65, 44)]"
          },
          "execution_count": 28,
          "metadata": {},
          "output_type": "execute_result"
        }
      ]
    },
    {
      "metadata": {
        "trusted": false
      },
      "cell_type": "code",
      "source": "[(stud_1, stud_2) for stud_1 in class_1 for stud_2 in class_1 if stud_1 != stud_2]",
      "execution_count": 29,
      "outputs": [
        {
          "data": {
            "text/plain": "[(22, 10),\n (22, 44),\n (22, 65),\n (10, 22),\n (10, 44),\n (10, 65),\n (44, 22),\n (44, 10),\n (44, 65),\n (65, 22),\n (65, 10),\n (65, 44)]"
          },
          "execution_count": 29,
          "metadata": {},
          "output_type": "execute_result"
        }
      ]
    },
    {
      "metadata": {},
      "cell_type": "markdown",
      "source": "Write a program to create a tuple and store it in a variable called `tuple_data`"
    },
    {
      "metadata": {
        "trusted": false
      },
      "cell_type": "code",
      "source": "tuple_data = (99, 44, 55, 77, 33, 44)",
      "execution_count": 30,
      "outputs": []
    },
    {
      "metadata": {
        "trusted": false
      },
      "cell_type": "code",
      "source": "tuple_data",
      "execution_count": 31,
      "outputs": [
        {
          "data": {
            "text/plain": "(99, 44, 55, 77, 33, 44)"
          },
          "execution_count": 31,
          "metadata": {},
          "output_type": "execute_result"
        }
      ]
    },
    {
      "metadata": {},
      "cell_type": "markdown",
      "source": "Unpack `tuple_data` into several variables."
    },
    {
      "metadata": {
        "trusted": false
      },
      "cell_type": "code",
      "source": "a, c, b, d, e, f = tuple_data",
      "execution_count": 32,
      "outputs": []
    },
    {
      "metadata": {
        "trusted": false
      },
      "cell_type": "code",
      "source": "a",
      "execution_count": 33,
      "outputs": [
        {
          "data": {
            "text/plain": "99"
          },
          "execution_count": 33,
          "metadata": {},
          "output_type": "execute_result"
        }
      ]
    },
    {
      "metadata": {},
      "cell_type": "markdown",
      "source": "Add an item `66` to `tuple_data`"
    },
    {
      "metadata": {
        "trusted": false
      },
      "cell_type": "code",
      "source": "tuple_data = tuple_data + (66,)",
      "execution_count": 34,
      "outputs": []
    },
    {
      "metadata": {
        "trusted": false
      },
      "cell_type": "code",
      "source": "tuple_data",
      "execution_count": 35,
      "outputs": [
        {
          "data": {
            "text/plain": "(99, 44, 55, 77, 33, 44, 66)"
          },
          "execution_count": 35,
          "metadata": {},
          "output_type": "execute_result"
        }
      ]
    },
    {
      "metadata": {},
      "cell_type": "markdown",
      "source": "Find the unique work in the following list called `data`"
    },
    {
      "metadata": {
        "trusted": false
      },
      "cell_type": "code",
      "source": "data = [\"must\", \"have\", \"all\", \"in\", \"my\", \"Feeling\", \"all\", \"the\", \"highs\", \"feeling\", \"all\", \"the\", \"pain\", \"Let\"]",
      "execution_count": 36,
      "outputs": []
    },
    {
      "metadata": {
        "trusted": false
      },
      "cell_type": "code",
      "source": "set(data)",
      "execution_count": 37,
      "outputs": [
        {
          "data": {
            "text/plain": "{'Feeling',\n 'Let',\n 'all',\n 'feeling',\n 'have',\n 'highs',\n 'in',\n 'must',\n 'my',\n 'pain',\n 'the'}"
          },
          "execution_count": 37,
          "metadata": {},
          "output_type": "execute_result"
        }
      ]
    },
    {
      "metadata": {},
      "cell_type": "markdown",
      "source": "Calculate the number of unque words in the list `data`"
    },
    {
      "metadata": {
        "trusted": false
      },
      "cell_type": "code",
      "source": "len(set(data))",
      "execution_count": 38,
      "outputs": [
        {
          "data": {
            "text/plain": "11"
          },
          "execution_count": 38,
          "metadata": {},
          "output_type": "execute_result"
        }
      ]
    },
    {
      "metadata": {},
      "cell_type": "markdown",
      "source": "***"
    }
  ],
  "metadata": {
    "kernelspec": {
      "name": "python36",
      "display_name": "Python 3.6",
      "language": "python"
    },
    "language_info": {
      "mimetype": "text/x-python",
      "nbconvert_exporter": "python",
      "name": "python",
      "pygments_lexer": "ipython3",
      "version": "3.6.6",
      "file_extension": ".py",
      "codemirror_mode": {
        "version": 3,
        "name": "ipython"
      }
    }
  },
  "nbformat": 4,
  "nbformat_minor": 2
}