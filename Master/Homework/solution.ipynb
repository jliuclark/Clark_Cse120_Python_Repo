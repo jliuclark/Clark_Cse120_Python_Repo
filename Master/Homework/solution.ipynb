{
  "cells": [
    {
      "metadata": {
        "collapsed": true
      },
      "cell_type": "markdown",
      "source": "8.1.   Write a program to display all odd numbers from a range that is given by the user using input(). For example, if the user gives (5,11), the expected output is: 5, 7, 9, 11. Note: range start and end are inclusive."
    },
    {
      "metadata": {
        "trusted": true
      },
      "cell_type": "code",
      "source": "def display_odd_range(start, end):    \n    for x in range(int(start), int(end)+1):\n        if x%2 != 0: #odd number can't be divided by 2\n            print(x)\n\nlow = input(\"Enter range start: \")\nhigh = input(\"Enter range end: \")\ndisplay_odd_range(low, high)",
      "execution_count": null,
      "outputs": []
    },
    {
      "metadata": {
        "trusted": true
      },
      "cell_type": "code",
      "source": "start = input(\"Enter range start: \")\nend = input(\"Enter range end: \")\n\nstart = int(start)\nend = int(end)\n\nif start%2 == 0: start = start + 1 #if start is even, start + 1 gives the odd\n\nfor x in range(start, end+1, 2):#from start (odd) skip every 2, it gives all odds\n    print(x)",
      "execution_count": null,
      "outputs": []
    },
    {
      "metadata": {},
      "cell_type": "markdown",
      "source": "X 8.2.\tWrite a conversion program for converting Celsius to Fahrenheit. Print out the Fahrenheit values as integers. \nHint: Formula - f = 9/5*c + 32 \nAssume: c =0,1,2,3,4,5 \nYour output should look like this. 32, 33, 35, 37, 39, 41 "
    },
    {
      "metadata": {
        "trusted": true
      },
      "cell_type": "code",
      "source": "def celsius_to_fehrenheit(c):\n    f = (9/5) * int(c) + 32\n    print(str(c) + \" Celsius degree -> \" + str(int(f)) + \" Fahrenheit degree\")\n    \nc = input (\"Enter a Celsius degree: \")\ncelsius_to_fehrenheit(c)",
      "execution_count": null,
      "outputs": []
    },
    {
      "metadata": {},
      "cell_type": "markdown",
      "source": "8.3.\tWrite a program to print the lyrics to the song “99 Bottles of Beer”. (Source: http://www.99-bottles-of-beer.net/lyrics.html) The output should begin with the following two verses:\n\n99 bottles of beer on the wall, 99 bottles of beer.\nTake one down, pass it around, 98 bottles of beer on the wall.\n\n98 bottles of beer on the wall, 98 bottles of beer.\nTake one down, pass it around, 97 bottles of beer on the wall.\n\nThis should continue, going down by one bottle, until the number of bottles reaches zero, at which point the following verse should be printed:\n\nNo more bottles of beer on the wall, no more bottles of beer.\nGo to the store and buy some more, 99 bottles of beer on the wall.\n\nHint: Using what has been taught in this chapter, this can be done in only 7 lines of code! "
    },
    {
      "metadata": {
        "trusted": true
      },
      "cell_type": "code",
      "source": "for x in range(1, 100):\n    print(str(100-x) + \" bottles of beer on the wall, \" + str(100-x) + \" bottles of beer.\")\n    if 100-(x+1) != 0:\n        print(\"Take one down, pass it around, \" + str(100-(x+1)) + \" bottles of beer on the wall.\\n\")       \n    else:\n        print(\"Take one down, pass it around, no more bottles of beer on the wall.\\n\")  \n    \nprint(\"\"\"No more bottles of beer on the wall, no more bottles of beer.\nGo to the store and buy some more, 99 bottles of beer on the wall.\"\"\")",
      "execution_count": null,
      "outputs": []
    },
    {
      "metadata": {},
      "cell_type": "markdown",
      "source": "8.4.\tWrite a program that asks the user to enter a password. If they type the word “penguin”, the program should print “Access Granted”. If they type anything else, the program should give the user up to three trials to print “Access Denied.”"
    },
    {
      "metadata": {
        "trusted": true
      },
      "cell_type": "code",
      "source": "pw = input(\"Enter password: \")\ni = 1\nlimit = 3\n\nwhile i <= limit: # up to 3 trials\n    if pw == \"penguin\":\n        print(\"Access Granted\")\n        break\n    elif i == limit:\n        print(\"Access Denied\")\n        break\n    else:\n        pw = input(\"Enter password again: \")\n        i = i + 1",
      "execution_count": null,
      "outputs": []
    },
    {
      "metadata": {},
      "cell_type": "markdown",
      "source": "X 8.5.\tAsk for a word from the user using input() and convert it to binary and hex. Hint: use help() to find out the usage of ord(), hex() and bin() functions. For example: \nEnter a word: abc\n\nExpected Output:\nWord is: abc\nIn hex: 0x61 0x62 0x63\nIn binary: 0b1100001 0b1100010 0b1100011"
    },
    {
      "metadata": {
        "scrolled": true,
        "trusted": true
      },
      "cell_type": "code",
      "source": "word = input(\"Enter a word: \")\nprint(\"Word is: \" + word)\nh = \"\"\nb = \"\"\n\nfor x in word:\n    h += hex(ord(x)) + \" \"\n    b += bin(ord(x)) + \" \"\n\nprint(\"In hex: \" + h)\nprint(\"In binray: \" + b)",
      "execution_count": null,
      "outputs": []
    },
    {
      "metadata": {},
      "cell_type": "markdown",
      "source": "8.6.\tAsk for a monetary amount from user in dollars, and then display exact changes for this amount using the smallest number of coins. For example, $0.97 shows 3 quarters, 2 dimes, and 2 pennies. "
    },
    {
      "metadata": {
        "trusted": true
      },
      "cell_type": "code",
      "source": "dollars = input(\"Enter a amount in dollars: \")\ncents = float(dollars) * 100\n\n# As we need minimum number of changes, the change order needs to be quarters, dimes, nickels, and cents\nquarters = int(cents/25)\ncents = int(cents%25) # cents remaining after change into quarters\n\ndimes = int(cents/10)\ncents = int(cents%10)\n\nnickles = int(cents/5)\ncents = int(cents%5)\n\nprint(str(dollars) + \" is changed to \" \\\n      + str(quarters) + \" quarters, \"\\\n      + str(dimes) + \" dimes, \"\\\n      + str(nickles) +\" nickles, \"\\\n      +str(cents) + \" cents.\" )",
      "execution_count": null,
      "outputs": []
    },
    {
      "metadata": {
        "trusted": true
      },
      "cell_type": "code",
      "source": "#  notice that the process of change coins of different value are same, \n#  we can make it into a function that can be called with different coin value\ndef change_it(cents, value):\n    num = int(cents/value)\n    cents = int(cents%value)\n    return num, cents # return a tuple with number of coins and cents left\n\ndollars = input(\"Enter a amount in dollars: \")\ncents = float(dollars) * 100\nnum_cents = [-1, cents]#a tuple to hold result returned from function\nvalue = [25, 10, 5]#list of coin value to loop over, for mininium need to go from big->small value\nresult = []#list to hold changed coins and cents left after each iteration\n\nfor x in value:# cycle though list of coin value\n    num_cents = change_it(num_cents[1], x)\n    result.append(num_cents)\n\nprint(str(dollars) + \" is changed to \" \\\n      + str(result[0][0]) + \" quarters, \"\\\n      + str(result[1][0]) + \" dimes, \"\\\n      + str(result[2][0]) +\" nickles, \"\\\n      +str(result[2][1]) + \" cents.\" )",
      "execution_count": null,
      "outputs": []
    },
    {
      "metadata": {},
      "cell_type": "markdown",
      "source": "8.7.\tOhms Law. Write a function that take input of r1 and r2 (two resistors), and v (voltage) and connection type (series or parrallel) and calculates the total current I. "
    },
    {
      "metadata": {
        "trusted": true
      },
      "cell_type": "code",
      "source": "def ohms_law(r1, r2, v, connection):\n    if connection == \"s\":# series\n        r = float(r1) + float(r2)\n        i = float(v)/r\n        print(\"When \" + str(r1) + \" ohms and \" + str(r2) + \" ohms in series \"\\\n              \"with \" + str(v) + \" volt, \"\\\n             \"the current is \" + str(i) + \" amps.\")\n    elif connection == \"p\":# parallel\n        r = 1/(1/float(r1)+1/float(r2))\n        i = float(v)/r\n        print(\"When \" + str(r1) + \" ohms and \" + str(r2) + \" ohms in parallel \"\\\n              \"with \" + str(v) + \" volt, \"\\\n             \"the current is \" + str(i) + \" amps.\")\n    else: \n        print(\"invalid connection type\")\n        \n# ohms_law(10.5, 10.5, 5.6, \"p\") \n# ohms_law(10.5, 10.5, 5.6, \"s\")  \nr1 = input(\"Enter r1: \")\nr2 = input(\"Enter r2: \")\nv = input(\"Enter voltage: \")\nc = input(\"Enter connection type - s/p: \")\nohms_law(r1, r2, v, c) \n",
      "execution_count": null,
      "outputs": []
    },
    {
      "metadata": {},
      "cell_type": "markdown",
      "source": "8.8   \tWrite a function that takes radius r, and calculates and returns the volume of a sphere for r &gt; 0; return 0 other wise.  V = 4/3 πr^3"
    },
    {
      "metadata": {
        "trusted": true
      },
      "cell_type": "code",
      "source": "from math import pi\n\ndef sphere_volume(r):\n    r = float(r)\n    if r > 0:\n        return(4/3*pi*pow(r,3))\n    else:\n        return 0\n        \nr = input(\"Enter a radius: \")\nprint(\"The volume for a sphere with radius of \" + str(r)+ \" is \" + str(sphere_volume(r)) )",
      "execution_count": null,
      "outputs": []
    },
    {
      "metadata": {
        "trusted": true
      },
      "cell_type": "code",
      "source": "",
      "execution_count": null,
      "outputs": []
    }
  ],
  "metadata": {
    "kernelspec": {
      "name": "python36",
      "display_name": "Python 3.6",
      "language": "python"
    },
    "language_info": {
      "mimetype": "text/x-python",
      "nbconvert_exporter": "python",
      "name": "python",
      "pygments_lexer": "ipython3",
      "version": "3.6.6",
      "file_extension": ".py",
      "codemirror_mode": {
        "version": 3,
        "name": "ipython"
      }
    }
  },
  "nbformat": 4,
  "nbformat_minor": 2
}