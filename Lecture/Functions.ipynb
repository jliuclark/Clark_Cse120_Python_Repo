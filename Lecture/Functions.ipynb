{
  "cells": [
    {
      "metadata": {
        "slideshow": {
          "slide_type": "slide"
        }
      },
      "cell_type": "markdown",
      "source": "<div style=\"text-align: center\"><img src=\"https://www.python.org/static/img/python-logo.png\"></div>\n# Functions "
    },
    {
      "metadata": {
        "slideshow": {
          "slide_type": "slide"
        }
      },
      "cell_type": "markdown",
      "source": "# Functions\n- Functions in programming languages are **self-contained** “mini-programs” that are dedicated for a specific task\n- Use in two steps: **Define** and **Call**"
    },
    {
      "metadata": {
        "slideshow": {
          "slide_type": "slide"
        }
      },
      "cell_type": "markdown",
      "source": "# Function - Define and Call\n- Similar to math functions, but in Python sytax rather than math formula. \n    - Math function\n        - Define: y = f(a,b,c) = a + b + c\n        - Call: y = f(3,2,5) = 3 + 2 + 5 = 10\n    - Python function"
    },
    {
      "metadata": {
        "slideshow": {
          "slide_type": "slide"
        },
        "trusted": true
      },
      "cell_type": "code",
      "source": "# define: def + function_name + arguments (a, b, c)\ndef return_sum_of_numbers(a, b, c):\n    \"\"\"\n    Summary Line: A function that adds three numbers and return the result  \n    Extended description: so simple. Nothing to explain more:)   \n    Arguments:\n        a, b, c(int or float):three numbers to add        \n    Returns:\n        int or float: the result of adding three numbers\n    \"\"\"\n    result = a + b + c\n    return result\n\ny = return_sum_of_numbers(3,2,5); print(2 * y)# call: function_name(inputs: 3->a, 2->b, 5->c). Nothing happens w/o calling\nprint(2 * return_sum_of_numbers(3,2,5))# returned value can be used as a variable to pass in to another fuction as inputs\nhelp(return_sum_of_numbers)# documentation string",
      "execution_count": 4,
      "outputs": [
        {
          "output_type": "stream",
          "text": "20\n20\nHelp on function return_sum_of_numbers in module __main__:\n\nreturn_sum_of_numbers(a, b, c)\n    Summary Line: A function that adds three numbers and return the result  \n    Extended description: so simple. Nothing to explain more:)   \n    Arguments:\n        a, b, c(int or float):three numbers to add        \n    Returns:\n        int or float: the result of adding three numbers\n\n",
          "name": "stdout"
        }
      ]
    },
    {
      "metadata": {
        "slideshow": {
          "slide_type": "slide"
        }
      },
      "cell_type": "markdown",
      "source": "# Student Exercise - Function\n- Rewrite the program for Fibonacci series by creating a function that writes the Fibonacci series to an **arbitrary** boundary."
    },
    {
      "metadata": {
        "trusted": true,
        "slideshow": {
          "slide_type": "fragment"
        }
      },
      "cell_type": "code",
      "source": "a = 0; b = 1; # set up base\nwhile b < 20:  # condition  \n    print(b, end=' '); c = a + b; a = b; b = c",
      "execution_count": null,
      "outputs": []
    },
    {
      "metadata": {
        "trusted": true,
        "slideshow": {
          "slide_type": "fragment"
        }
      },
      "cell_type": "code",
      "source": "def fib(n): # Define function - write Fibonacci series up to n\n    \"\"\"Print a Fibonacci series up to n.\"\"\"# Documentation string\n    a = 0; b = 1; # set up base\n    while b < n:  # condition  \n        print(b, end=' '); c = a + b; a = b; b = c        \n        \nfib(20)# Now call the function we just defined\nfib(200)# Call the function whenever needed w/o rewriting the code\nprint(fib(20))",
      "execution_count": 2,
      "outputs": [
        {
          "output_type": "stream",
          "text": "1 1 2 3 5 8 13 1 1 2 3 5 8 13 21 34 55 89 144 1 1 2 3 5 8 13 None\n",
          "name": "stdout"
        }
      ]
    },
    {
      "metadata": {
        "slideshow": {
          "slide_type": "slide"
        }
      },
      "cell_type": "markdown",
      "source": "# Function - `return`\n- Explicit `return` is optional\n- If no explicit return, funtion return a value `None`"
    },
    {
      "metadata": {
        "slideshow": {
          "slide_type": "slide"
        }
      },
      "cell_type": "markdown",
      "source": "# Student Exercise - Function with explicit return\nRewrite the function for Fibonacci series by returning a list of numbers of the Fibonacci series"
    },
    {
      "metadata": {
        "slideshow": {
          "slide_type": "fragment"
        },
        "trusted": true
      },
      "cell_type": "code",
      "source": "def fib(n): # Define function - write Fibonacci series up to n\n    \"\"\"Retunr a list containing a Fibonacci series up to n.\"\"\"# Documentation string\n    series = []#create an emply list for holding the series\n    a = 0; b = 1; # set up base\n    while b < n:  # condition  \n        series.append(b); c = a + b; a = b; b = c\n    return series\n        \nprint(fib(20))# Now call the function we just defined",
      "execution_count": 11,
      "outputs": [
        {
          "output_type": "stream",
          "text": "[1, 1, 2, 3, 5, 8, 13]\n",
          "name": "stdout"
        }
      ]
    },
    {
      "metadata": {
        "slideshow": {
          "slide_type": "slide"
        }
      },
      "cell_type": "markdown",
      "source": "# Built-in Functions\n- Built-in Functions are already defined by Python, thus call directly\n- A complete list of built-in functions: https://docs.python.org/3/library/functions.html\n- Getting help - `help()`\n- Revisiting a more powerful `print()`\n- Manipulating data types - `type()`, `int()`, `float()` and `str()`\n- Getting user input - `input()`"
    },
    {
      "metadata": {
        "slideshow": {
          "slide_type": "slide"
        }
      },
      "cell_type": "markdown",
      "source": "# Built-in Functions - `help()`\n- Get information for any built-in or user defined functions, classes, modules etc\n- Information is built on **documentation strings**"
    },
    {
      "metadata": {
        "slideshow": {
          "slide_type": "fragment"
        },
        "trusted": true
      },
      "cell_type": "code",
      "source": "help(print)#get help on built-in function\nhelp(return_sum_of_numbers)#get help on user defined function",
      "execution_count": 5,
      "outputs": [
        {
          "output_type": "stream",
          "text": "Help on built-in function print in module builtins:\n\nprint(...)\n    print(value, ..., sep=' ', end='\\n', file=sys.stdout, flush=False)\n    \n    Prints the values to a stream, or to sys.stdout by default.\n    Optional keyword arguments:\n    file:  a file-like object (stream); defaults to the current sys.stdout.\n    sep:   string inserted between values, default a space.\n    end:   string appended after the last value, default a newline.\n    flush: whether to forcibly flush the stream.\n\nHelp on function return_sum_of_numbers in module __main__:\n\nreturn_sum_of_numbers(a, b, c)\n    Summary Line: A function that adds three numbers and return the result  \n    Extended description: so simple. Nothing to explain more:)   \n    Arguments:\n        a, b, c(int or float):three numbers to add        \n    Returns:\n        int or float: the result of adding three numbers\n\n",
          "name": "stdout"
        }
      ]
    },
    {
      "metadata": {
        "slideshow": {
          "slide_type": "slide"
        }
      },
      "cell_type": "markdown",
      "source": "# Built-in Functions - a more powerful `print()`\n- Using **format string** to display string in certain format. Commonly used ones are:\n    - `d`: Signed Decimal Int\n    - `e` or `E`: Exponential notation with 'e' or 'E'\n    - `f`: Floating point real number. \n    - `s`: String\n- Review special characters such as `\\n`, `\\t`\n    "
    },
    {
      "metadata": {
        "slideshow": {
          "slide_type": "fragment"
        },
        "trusted": true
      },
      "cell_type": "code",
      "source": "a = 11; b = 12.34567; c= \"Hello World\"\nprint(\"%010d\\t%2x\\t%8.3f\\t%.3e\\t%s\" % (a, a, b, b, c))# using format operator %\nprint(f\"{a:10d}\\t{a:2X}\\t{b:8.4f}\\t{b:.4E}\\t{c:s}\")#m.n -(the minimum total width):(the number of digits after the decimal point) ",
      "execution_count": 33,
      "outputs": [
        {
          "output_type": "stream",
          "text": "0000000011\t b\t  12.346\t1.235e+01\tHello World\n        11\t B\t 12.3457\t1.2346E+01\tHello World\n",
          "name": "stdout"
        }
      ]
    },
    {
      "metadata": {
        "slideshow": {
          "slide_type": "slide"
        }
      },
      "cell_type": "markdown",
      "source": "# Built-in Functions - Manipulating data types\n- `type()`: returns the type\n- `int()`, `float()`, `str()` etc: converting or casting to other types"
    },
    {
      "metadata": {
        "slideshow": {
          "slide_type": "slide"
        }
      },
      "cell_type": "markdown",
      "source": "# Built-in Functions - `type()`\n- Getting type or confirm/compare type"
    },
    {
      "metadata": {
        "slideshow": {
          "slide_type": "fragment"
        },
        "trusted": true
      },
      "cell_type": "code",
      "source": "x = \"This is a string\"\ny = 1\nz = True\na = 1.17\nb = [x, y, z, a]\nprint (type(x), type(y), type(z), type(a), type(b)) \nprint (\"Is this true:\", type(y) == int)",
      "execution_count": 6,
      "outputs": [
        {
          "output_type": "stream",
          "text": "<class 'str'> <class 'int'> <class 'bool'> <class 'float'> <class 'list'>\nIs this true: True\n",
          "name": "stdout"
        }
      ]
    },
    {
      "metadata": {
        "slideshow": {
          "slide_type": "slide"
        }
      },
      "cell_type": "markdown",
      "source": "# Built-in Functions - `int()`, `float()`, `str()` etc\n- Convering/Casting types"
    },
    {
      "metadata": {
        "slideshow": {
          "slide_type": "fragment"
        },
        "trusted": true
      },
      "cell_type": "code",
      "source": "print(int(\"13\"), end =';'); print(str(13))# string <-> int(base 10)\nprint(int(\"0b1101\", 2), end =';'); print(bin(13)) # string <-> int(base 2)\nprint(int(\"0xd\", 16), end =';'); print(hex(13)) # string <-> int(base 16)\n\nprint(chr(97), end =';'); print(ord(\"a\")) # unicode <-> char\n\nprint(int(3.0), end = ';'); print(float(3)) # float <-> int",
      "execution_count": 26,
      "outputs": [
        {
          "output_type": "stream",
          "text": "13;13\n13;0b1101\n13;0xd\na;97\n3;3.0\n",
          "name": "stdout"
        }
      ]
    },
    {
      "metadata": {
        "slideshow": {
          "slide_type": "slide"
        }
      },
      "cell_type": "markdown",
      "source": "# Built-in Functions - `input()`\n- `input()` returns **string** from input prompt\n-  To use returned string for calculation, convert to numbers"
    },
    {
      "metadata": {
        "slideshow": {
          "slide_type": "fragment"
        },
        "trusted": true
      },
      "cell_type": "code",
      "source": "name = input('My name is ')\nprint('Ah, so your name is ', name)",
      "execution_count": 34,
      "outputs": [
        {
          "output_type": "stream",
          "name": "stdout",
          "text": "My name is jing\nAh, so your name is  jing\n"
        }
      ]
    },
    {
      "metadata": {
        "slideshow": {
          "slide_type": "fragment"
        },
        "trusted": true
      },
      "cell_type": "code",
      "source": "# add two number input by user\na = input(\"Enter number a: \")\nb = input(\"Enter number b: \")\nprint(a + b) # incorrect! a, b are strings. Thus a+b returns a new string combining a and b\nprint(int(a) + int(b)) #convert string a, b to numerical values before calculation",
      "execution_count": 29,
      "outputs": [
        {
          "output_type": "stream",
          "name": "stdout",
          "text": "Enter number a: 4\nEnter number b: 5\n45\n9\n"
        }
      ]
    }
  ],
  "metadata": {
    "kernelspec": {
      "name": "python36",
      "display_name": "Python 3.6",
      "language": "python"
    },
    "language_info": {
      "mimetype": "text/x-python",
      "nbconvert_exporter": "python",
      "name": "python",
      "pygments_lexer": "ipython3",
      "version": "3.6.6",
      "file_extension": ".py",
      "codemirror_mode": {
        "version": 3,
        "name": "ipython"
      }
    },
    "celltoolbar": "Slideshow"
  },
  "nbformat": 4,
  "nbformat_minor": 1
}