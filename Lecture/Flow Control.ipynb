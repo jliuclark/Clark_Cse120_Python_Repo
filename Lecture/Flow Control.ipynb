{
  "cells": [
    {
      "metadata": {
        "slideshow": {
          "slide_type": "slide"
        }
      },
      "cell_type": "markdown",
      "source": "<div style=\"text-align: center\"><img src=\"https://www.python.org/static/img/python-logo.png\"></div>\n# Flow Control"
    },
    {
      "metadata": {
        "slideshow": {
          "slide_type": "slide"
        }
      },
      "cell_type": "markdown",
      "source": "# Another Data Type - Boolean\n- Boolean is a data type that can be only `True` or `False`. For example, `pythonIsEasy = True`\n- Truth value testing\n    - Any non-zero integer value is `True`; zero is `False`\n    - For a string or list value anything with a non-zero length is `True`; empty sequences are `False`\n- Boolean in conjunction with logical and relational operators are often used as condition in flow control"
    },
    {
      "metadata": {
        "slideshow": {
          "slide_type": "slide"
        }
      },
      "cell_type": "markdown",
      "source": "# Boolean Operators\n- Work with Booleans: and, or, not\n- x `and` y: if x is `False`, then x, else y.  \n    - A **short-circuit** operator: it only evaluates the second argument if the first one is `True`. \n- x `or` y: if x is` False`, then y, else x.\n    - A **short-circuit** operator: it only evaluates the second argument if the first one is `False`.\n- `not` x: if x is `False`, then `True`, else `False`"
    },
    {
      "metadata": {
        "slideshow": {
          "slide_type": "fragment"
        },
        "trusted": true
      },
      "cell_type": "code",
      "source": "x = 15 # also test for 5, 15\ntest = (not(x % 3)) and (x % 5)\nprint('not(x % 3) is: ',not(x % 3) )\nprint('x%5 is:  ', x % 5)\nprint('test is: ', test)",
      "execution_count": 10,
      "outputs": [
        {
          "output_type": "stream",
          "text": "not(x % 3) is:  True\nx%5 is:   0\ntest is:  0\n",
          "name": "stdout"
        }
      ]
    },
    {
      "metadata": {
        "slideshow": {
          "slide_type": "slide"
        }
      },
      "cell_type": "markdown",
      "source": "# Relational Operators\n- A simple comparison that is evaluated as Boolean\n- The standard comparison operators are: `<` (less than), `>` (greater than), `==` (equal to), `<=` (less than or equal to), `>=` (greater than or equal to) and `!=` (not equal to)."
    },
    {
      "metadata": {
        "slideshow": {
          "slide_type": "slide"
        }
      },
      "cell_type": "markdown",
      "source": "# Student Exercise\nAn boolean expression that is evaluated as `True` only if a number is multiple of 3, but not multiple of 5"
    },
    {
      "metadata": {
        "slideshow": {
          "slide_type": "fragment"
        },
        "trusted": true
      },
      "cell_type": "code",
      "source": "x = 18\nflag = (x % 3) == 0 and (x % 5) != 0\nprint(flag)",
      "execution_count": 11,
      "outputs": [
        {
          "output_type": "stream",
          "text": "True\n",
          "name": "stdout"
        }
      ]
    },
    {
      "metadata": {},
      "cell_type": "markdown",
      "source": "# Working with Python - Script Mode\n- Limitation of Interactive mode: When quit from the session, the definitions made (functions and variables) are lost.\n- Script Mode: \n    - save them in files/scripts and run a file/script as input for the interpreter.\n    - filename.**py**\n- Introducing IDLE Editor"
    },
    {
      "metadata": {
        "slideshow": {
          "slide_type": "slide"
        }
      },
      "cell_type": "markdown",
      "source": "# Loop\n- Loop is used to specify a sequence of statements once but the same sequence may be carried out many times in succession.\n- `for` Loop: **Collection-controlled**, to loop over each item in a collection and terminate when collection is run through\n- `while` loop: **Condition-controlled**, to loop till some condition is met and terminate\n- **Indefinite** Loop: Never terminate"
    },
    {
      "metadata": {
        "slideshow": {
          "slide_type": "slide"
        },
        "trusted": true
      },
      "cell_type": "code",
      "source": "#Print integers from 0 to 5.\n#Without using loop, 6 print statement\n#What if from 0 to 1,000? NOT SCALABLE!\nprint(0)\nprint(1)\nprint(2)\nprint(3)\nprint(4)\nprint(5)",
      "execution_count": 5,
      "outputs": [
        {
          "output_type": "stream",
          "text": "0\n1\n2\n3\n4\n5\n",
          "name": "stdout"
        }
      ]
    },
    {
      "metadata": {
        "slideshow": {
          "slide_type": "slide"
        },
        "trusted": true
      },
      "cell_type": "code",
      "source": "#Print integers from 0 to 5\n#With for loop, iterate over list[0,1,2,3,4,5] returned by range(0,6)\n#2 lines of code, scalable. range(0, 1001) for [0,1...,999,1000]\nfor x in range(0,6):\n    print(x)  ",
      "execution_count": 4,
      "outputs": [
        {
          "output_type": "stream",
          "text": "0\n1\n2\n3\n4\n5\n",
          "name": "stdout"
        }
      ]
    },
    {
      "metadata": {},
      "cell_type": "markdown",
      "source": "# Block\n- Every line in the body of the loop is indented: indentation is Python's way of grouping statements as **block** of code\n- Blocks of code are denoted by line indentation, which is rigidly enforced. \n- The number of spaces in the indentation is variable, but all statements within the block must be indented the same amount, either by tab or spaces"
    },
    {
      "metadata": {
        "slideshow": {
          "slide_type": "slide"
        },
        "trusted": true
      },
      "cell_type": "code",
      "source": "#Print integers from 0 to 5\n#With while loop, iterate while x<6; terminate when x=6\n#4 lines of code, scalable. x<1001 for [0,1...,999,1000]\nx = 0\nwhile (x < 6):\n    print(x)\n    x = x+1 #what if omitting this line?",
      "execution_count": null,
      "outputs": []
    },
    {
      "metadata": {
        "slideshow": {
          "slide_type": "slide"
        },
        "trusted": true,
        "scrolled": true
      },
      "cell_type": "code",
      "source": "#Print integers from 0 to 5\n#With while(true) and break loop, iterate forever, but break out of loop and terminate when x=6\n#5 lines of code, scalable. if x== 1001 for [0,1...,999,1000]\nx = 0\nwhile (True):\n    if x == 6: break\n    print(x)\n    x = x+1",
      "execution_count": 6,
      "outputs": [
        {
          "output_type": "stream",
          "text": "0\n1\n2\n3\n4\n5\n",
          "name": "stdout"
        }
      ]
    },
    {
      "metadata": {
        "slideshow": {
          "slide_type": "slide"
        }
      },
      "cell_type": "markdown",
      "source": "# Student Exercise - `for` loop\nAsk for a word from the user using input() and convert it to binary and hex. Hint: use help() to find out the usage of ord(), hex() and bin() functions. For example: Enter a word: abc\nExpected Output: Word is: abc In hex: 0x61 0x62 0x63 In binary: 0b1100001 0b1100010 0b1100011"
    },
    {
      "metadata": {
        "slideshow": {
          "slide_type": "fragment"
        },
        "trusted": true
      },
      "cell_type": "code",
      "source": "word = input(\"Enter a word: \")\nprint(\"Word is: \" + word)\nh = \"\"\nb = \"\"\n\nfor x in word:\n    h += hex(ord(x)) + \" \"\n    b += bin(ord(x)) + \" \"\n\nprint(\"In hex: \" + h)\nprint(\"In binray: \" + b)",
      "execution_count": 25,
      "outputs": [
        {
          "output_type": "stream",
          "name": "stdout",
          "text": "Enter a word: word\nWord is: word\nIn hex: 0x77 0x6f 0x72 0x64 \nIn binray: 0b1110111 0b1101111 0b1110010 0b1100100 \n"
        }
      ]
    },
    {
      "metadata": {
        "slideshow": {
          "slide_type": "slide"
        }
      },
      "cell_type": "markdown",
      "source": "# Student Exercise - `while` loop\nWrite a program to display an initial sub-sequence up to 20 of the Fibonacci series, i.e the sum of two elements defines the next. For example, 1,1,2,3,5...X(n) = X(n-1)+X(n-2)"
    },
    {
      "metadata": {
        "trusted": true,
        "slideshow": {
          "slide_type": "fragment"
        }
      },
      "cell_type": "code",
      "source": "# Fibonacci series:\n# the sum of two elements defines the next.\na = 0; b = 1; # set up base\n\nwhile b < 20:  # condition  \n    print(b)\n    c = a + b \n    a = b\n    b = c",
      "execution_count": 24,
      "outputs": [
        {
          "output_type": "stream",
          "text": "1\n1\n2\n3\n5\n8\n13\n",
          "name": "stdout"
        }
      ]
    },
    {
      "metadata": {
        "slideshow": {
          "slide_type": "slide"
        }
      },
      "cell_type": "markdown",
      "source": "# Choice/Decision - `if..else`\n- Conditional constructs are to perform different computations or actions depending on whether a Boolean condition evaluates to be true or false. \n- `if-else` statement in Python is the most common construct that allows this.\n- `else` if optional. "
    },
    {
      "metadata": {
        "slideshow": {
          "slide_type": "fragment"
        },
        "trusted": true
      },
      "cell_type": "code",
      "source": "a = 3\nif a > 3:\n    print(\"a is greater than 3\")\nelse:\n    print(\"a is not greater than 3\")",
      "execution_count": 7,
      "outputs": [
        {
          "output_type": "stream",
          "text": "a is not greater than 3\n",
          "name": "stdout"
        }
      ]
    },
    {
      "metadata": {
        "slideshow": {
          "slide_type": "slide"
        }
      },
      "cell_type": "markdown",
      "source": "# Choice/Decision - `elif`\n- Short for `else if`, quivalent to **nested if**, but more compact and less excessive indentation.\n- Inserting as many as `elif` to give many choices as you need\n- Python's subtitute for `switch...case`in other languages"
    },
    {
      "metadata": {
        "slideshow": {
          "slide_type": "fragment"
        },
        "trusted": true
      },
      "cell_type": "code",
      "source": "a = 3\nif a > 3:\n    print(\"a is greater than 3\")\nelif a == 3:\n    print(\"a is equal to 3\")\nelse:\n    print(\"a is less than 3\")",
      "execution_count": 8,
      "outputs": [
        {
          "output_type": "stream",
          "text": "a is equal to 3\n",
          "name": "stdout"
        }
      ]
    },
    {
      "metadata": {
        "slideshow": {
          "slide_type": "slide"
        }
      },
      "cell_type": "markdown",
      "source": "# Student Exercise\n- Rewrite preious example with elif using **nested if**"
    },
    {
      "metadata": {
        "slideshow": {
          "slide_type": "fragment"
        },
        "trusted": true
      },
      "cell_type": "code",
      "source": "a = 3\nif a > 3:\n    print(\"a is greater than 3\")\nelse:\n    if a == 3:\n        print(\"a is equal to 3\")\n    else:\n        print(\"a is less than 3\")",
      "execution_count": 9,
      "outputs": [
        {
          "output_type": "stream",
          "text": "a is equal to 3\n",
          "name": "stdout"
        }
      ]
    },
    {
      "metadata": {
        "slideshow": {
          "slide_type": "slide"
        }
      },
      "cell_type": "markdown",
      "source": "# Student Exercise\nOhms Law. Write a program that take input of r1 and r2 (two resistors), and v (voltage) and connection type (series or parrallel) and calculates the total current I."
    },
    {
      "metadata": {
        "slideshow": {
          "slide_type": "fragment"
        },
        "trusted": true
      },
      "cell_type": "code",
      "source": "r1 = input(\"Enter r1: \")\nr2 = input(\"Enter r2: \")\nv = input(\"Enter voltage: \")\nc = input(\"Enter connection type - s/p: \")\nif c == \"s\":# series\n    r = float(r1) + float(r2)\n    i = float(v)/r\n    print(\"When \" + str(r1) + \" ohms and \" + str(r2) + \" ohms in series \"\\\n          \"with \" + str(v) + \" volt, \"\\\n         \"the current is \" + str(i) + \" amps.\")\nelif c == \"p\":# parallel\n    r = 1/(1/float(r1)+1/float(r2))\n    i = float(v)/r\n    print(\"When \" + str(r1) + \" ohms and \" + str(r2) + \" ohms in parallel \"\\\n          \"with \" + str(v) + \" volt, \"\\\n         \"the current is \" + str(i) + \" amps.\")\nelse: \n    print(\"invalid connection type\")",
      "execution_count": 30,
      "outputs": [
        {
          "output_type": "stream",
          "name": "stdout",
          "text": "Enter r1: 8\nEnter r2: 8\nEnter voltage: 9\nEnter connection type - s/p: p\nWhen 8 ohms and 8 ohms in parallel with 9 volt, the current is 2.25 amps.\n"
        }
      ]
    },
    {
      "metadata": {
        "slideshow": {
          "slide_type": "notes"
        }
      },
      "cell_type": "markdown",
      "source": "## Learn more\n\nStrings:\n\n- [Text Sequence Type - str](https://docs.python.org/3.5/library/stdtypes.html#textseq): Strings are examples of *sequence types*, and support the common operations supported by such types.\n- [String Methods](https://docs.python.org/3.5/library/stdtypes.html#string-methods): Strings support a large number of methods for basic transformations and searching.\n- [Format String Syntax](https://docs.python.org/3.5/library/string.html#formatstrings): Information about string formatting with [`str.format()`](https://docs.python.org/3.5/library/string.html#formatstrings).\n- [`printf`-style String Formatting](https://docs.python.org/3.5/library/stdtypes.html#old-string-formatting): The old formatting operations invoked when strings and Unicode strings are the left operand of the `%` operator.\n\nContinue the tutorial on python.org (try pasting the code into a notebook!):\n\n- [More Control Flow Tools](https://docs.python.org/3.6/tutorial/controlflow.html)\n- [Data Structures](Data Structures)\n- [Modules](https://docs.python.org/3.6/tutorial/modules.html)\n- [Input and Output](https://docs.python.org/3.6/tutorial/inputoutput.html)"
    }
  ],
  "metadata": {
    "kernelspec": {
      "name": "python36",
      "display_name": "Python 3.6",
      "language": "python"
    },
    "language_info": {
      "mimetype": "text/x-python",
      "nbconvert_exporter": "python",
      "name": "python",
      "pygments_lexer": "ipython3",
      "version": "3.6.6",
      "file_extension": ".py",
      "codemirror_mode": {
        "version": 3,
        "name": "ipython"
      }
    },
    "celltoolbar": "Slideshow"
  },
  "nbformat": 4,
  "nbformat_minor": 1
}