{
 "cells": [
  {
   "cell_type": "markdown",
   "metadata": {
    "slideshow": {
     "slide_type": "slide"
    }
   },
   "source": [
    "<div style=\"text-align: center;\"><img src=\"https://www.python.org/static/img/python-logo.png\"></div>\n",
    "# Modules"
   ]
  },
  {
   "cell_type": "markdown",
   "metadata": {
    "slideshow": {
     "slide_type": "slide"
    }
   },
   "source": [
    "# The Evolution of Our Love for Python\n",
    "- Interactive Mode    \n",
    "- Script Mode\n",
    "- Functions    \n",
    "- Modules\n",
    "    - Logically organize Python code by grouping related code into a python file or module.\n",
    "    - As program gets longer, split it into several files for easier maintenance. or, \n",
    "    -  Use a handy function that you’ve written in several programs without copying its definition into each program.\n",
    "    "
   ]
  },
  {
   "cell_type": "markdown",
   "metadata": {
    "slideshow": {
     "slide_type": "slide"
    }
   },
   "source": [
    "#  Modules\n",
    "- A module is a python file containing **logically related** python code\n",
    "    - file_name = module_name.**py**\n",
    "- `dir()` is used to find out what definitions a module include\n"
   ]
  },
  {
   "cell_type": "code",
   "execution_count": 3,
   "metadata": {
    "slideshow": {
     "slide_type": "fragment"
    }
   },
   "outputs": [
    {
     "name": "stdout",
     "output_type": "stream",
     "text": [
      "['__doc__', '__file__', '__loader__', '__name__', '__package__', '__spec__', 'acos', 'acosh', 'asin', 'asinh', 'atan', 'atan2', 'atanh', 'ceil', 'copysign', 'cos', 'cosh', 'degrees', 'e', 'erf', 'erfc', 'exp', 'expm1', 'fabs', 'factorial', 'floor', 'fmod', 'frexp', 'fsum', 'gamma', 'gcd', 'hypot', 'inf', 'isclose', 'isfinite', 'isinf', 'isnan', 'ldexp', 'lgamma', 'log', 'log10', 'log1p', 'log2', 'modf', 'nan', 'pi', 'pow', 'radians', 'sin', 'sinh', 'sqrt', 'tan', 'tanh', 'tau', 'trunc']\n"
     ]
    }
   ],
   "source": [
    "import math\n",
    "print(dir(math))"
   ]
  },
  {
   "cell_type": "markdown",
   "metadata": {
    "slideshow": {
     "slide_type": "slide"
    }
   },
   "source": [
    "# Modules - `import`\n",
    "- A module need to be **imported** before use. A module can be imported into \n",
    "    - other modules, or \n",
    "    - the **main** module, or \n",
    "    - an interactive instance of the interpreter(shell)\n",
    "- Variants of `import`:\n",
    "    - `import` module: import module(not functions), then use module name to access functions with `.` notation as `module.function`\n",
    "    - `from` module `import` function: import specific functions, then access functions directly\n",
    "    - `from` module `import` `*`: import all functions, then access functions directly"
   ]
  },
  {
   "cell_type": "markdown",
   "metadata": {
    "slideshow": {
     "slide_type": "slide"
    }
   },
   "source": [
    "# Modules - Revisit Fibonacci Series\n",
    "- Two version of fib(n): print vs. return (see definition in Functions)\n",
    "- Logically related and can be organized in a module `fibo` in file fibo.py"
   ]
  },
  {
   "cell_type": "code",
   "execution_count": null,
   "metadata": {
    "slideshow": {
     "slide_type": "notes"
    }
   },
   "outputs": [],
   "source": [
    "#fibo.py\n",
    "def fib_print(n): # Define function - write Fibonacci series up to n\n",
    "    \"\"\"Print a Fibonacci series up to n.\"\"\"# Documentation string\n",
    "    a = 0; b = 1; # set up base\n",
    "    while b < n:  # condition  \n",
    "        print(b, end=' '); c = a + b; a = b; b = c   \n",
    "        \n",
    "def fib_return(n): # Define function - write Fibonacci series up to n\n",
    "    \"\"\"Retunr a list containing a Fibonacci series up to n.\"\"\"# Documentation string\n",
    "    series = []#create an emply list for holding the series\n",
    "    a = 0; b = 1; # set up base\n",
    "    while b < n:  # condition  \n",
    "        series.append(b); c = a + b; a = b; b = c\n",
    "    return series       "
   ]
  },
  {
   "cell_type": "code",
   "execution_count": 11,
   "metadata": {
    "slideshow": {
     "slide_type": "fragment"
    }
   },
   "outputs": [
    {
     "name": "stdout",
     "output_type": "stream",
     "text": [
      "1 1 2 3 5 8 13 "
     ]
    }
   ],
   "source": [
    "import fibo #import module, not functions\n",
    "fibo.fib_print(20) # use module to access function as module.function"
   ]
  },
  {
   "cell_type": "code",
   "execution_count": 6,
   "metadata": {
    "slideshow": {
     "slide_type": "fragment"
    }
   },
   "outputs": [
    {
     "name": "stdout",
     "output_type": "stream",
     "text": [
      "[1, 1, 2, 3, 5, 8, 13]\n"
     ]
    }
   ],
   "source": [
    "from fibo import fib_return#import function fib_return ONLY from module\n",
    "print(fib_return(20))# access function directly"
   ]
  },
  {
   "cell_type": "code",
   "execution_count": 8,
   "metadata": {
    "slideshow": {
     "slide_type": "fragment"
    }
   },
   "outputs": [
    {
     "name": "stdout",
     "output_type": "stream",
     "text": [
      "1 1 2 3 5 8 13 [1, 1, 2, 3, 5, 8, 13]\n"
     ]
    }
   ],
   "source": [
    "from fibo import * #import all functions fib_return from module\n",
    "fib_print(20) # access any function directly\n",
    "print(fib_return(20))"
   ]
  },
  {
   "cell_type": "markdown",
   "metadata": {
    "slideshow": {
     "slide_type": "slide"
    }
   },
   "source": [
    "# Standard Modules\n",
    "- Python comes with a library of standard modules. For a breif tour- https://docs.python.org/3/tutorial/stdlib.html#mathematics\n",
    "- Commonly used ones: `math`, `datetime`"
   ]
  },
  {
   "cell_type": "markdown",
   "metadata": {
    "slideshow": {
     "slide_type": "slide"
    }
   },
   "source": [
    "# Modules - `Reload`\n",
    "- `import` statements are executed only the **first** time the module name is encountered\n",
    "- For any module update after first `import`, use `reload`"
   ]
  },
  {
   "cell_type": "code",
   "execution_count": 14,
   "metadata": {
    "slideshow": {
     "slide_type": "fragment"
    }
   },
   "outputs": [
    {
     "data": {
      "text/plain": [
       "<module 'fibo' from '/home/nbuser/library/Master/Lecture/fibo.py'>"
      ]
     },
     "execution_count": 14,
     "metadata": {},
     "output_type": "execute_result"
    }
   ],
   "source": [
    "import importlib\n",
    "importlib.reload(fibo)"
   ]
  },
  {
   "cell_type": "markdown",
   "metadata": {
    "slideshow": {
     "slide_type": "slide"
    }
   },
   "source": [
    "# Standard Modules - `math`\n",
    "- The `math` module gives access to functions for floating point math\n",
    "- https://docs.python.org/3/library/math.html"
   ]
  },
  {
   "cell_type": "code",
   "execution_count": 12,
   "metadata": {
    "slideshow": {
     "slide_type": "fragment"
    }
   },
   "outputs": [
    {
     "name": "stdout",
     "output_type": "stream",
     "text": [
      "0.7071067811865476\n",
      "10.0\n",
      "Help on built-in function ceil in module math:\n",
      "\n",
      "ceil(...)\n",
      "    ceil(x)\n",
      "    \n",
      "    Return the ceiling of x as an Integral.\n",
      "    This is the smallest integer >= x.\n",
      "\n"
     ]
    }
   ],
   "source": [
    "import math #import math module\n",
    "print(math.cos(math.pi / 4)) # use math.cos and math.pi\n",
    "print(math.log(1024,2)) # use math.log\n",
    "help(math.ceil) #find help on math.ceil"
   ]
  },
  {
   "cell_type": "markdown",
   "metadata": {
    "slideshow": {
     "slide_type": "slide"
    }
   },
   "source": [
    "# Standard Modules - `datetime`\n",
    "- The `datetime` module supplies classes for manipulating dates and times in both simple and complex ways. \n",
    "- https://docs.python.org/3/library/time.html  "
   ]
  },
  {
   "cell_type": "code",
   "execution_count": 13,
   "metadata": {
    "slideshow": {
     "slide_type": "fragment"
    }
   },
   "outputs": [
    {
     "name": "stdout",
     "output_type": "stream",
     "text": [
      "2020-04-28\n"
     ]
    },
    {
     "data": {
      "text/plain": [
       "9403"
      ]
     },
     "execution_count": 13,
     "metadata": {},
     "output_type": "execute_result"
    }
   ],
   "source": [
    "import datetime\n",
    "now = datetime.date.today()\n",
    "print(now)\n",
    "birthday = datetime.date(1994, 7, 31)# dates support calendar arithmetic\n",
    "age = now - birthday\n",
    "age.days"
   ]
  },
  {
   "cell_type": "code",
   "execution_count": null,
   "metadata": {},
   "outputs": [],
   "source": []
  }
 ],
 "metadata": {
  "celltoolbar": "Slideshow",
  "kernelspec": {
   "display_name": "Python 3.6",
   "language": "python",
   "name": "python36"
  },
  "language_info": {
   "codemirror_mode": {
    "name": "ipython",
    "version": 3
   },
   "file_extension": ".py",
   "mimetype": "text/x-python",
   "name": "python",
   "nbconvert_exporter": "python",
   "pygments_lexer": "ipython3",
   "version": "3.6.6"
  }
 },
 "nbformat": 4,
 "nbformat_minor": 1
}
