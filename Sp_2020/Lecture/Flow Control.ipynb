{
 "cells": [
  {
   "cell_type": "markdown",
   "metadata": {
    "slideshow": {
     "slide_type": "slide"
    }
   },
   "source": [
    "<div style=\"text-align: center;\"><img src=\"https://www.python.org/static/img/python-logo.png\"></div>\n",
    "# Script &amp; Flow Control"
   ]
  },
  {
   "cell_type": "markdown",
   "metadata": {
    "slideshow": {
     "slide_type": "slide"
    }
   },
   "source": [
    "# Another Data Type - Boolean\n",
    "- Boolean is a data type that can be only `True` or `False`. For example, `pythonIsEasy = True`\n",
    "- Boolean in conjunction with logical and relational operators are often used as condition in flow control"
   ]
  },
  {
   "cell_type": "markdown",
   "metadata": {
    "slideshow": {
     "slide_type": "slide"
    }
   },
   "source": [
    "# Boolean Operators - `and`, `or`, `not`\n",
    "- x `and` y: if x is `False`, then x, else y.  \n",
    "- x `or` y: if x is` False`, then y, else x.\n",
    "- `not` x: if x is `False`, then `True`, else `False`"
   ]
  },
  {
   "cell_type": "markdown",
   "metadata": {
    "slideshow": {
     "slide_type": "slide"
    }
   },
   "source": [
    "# `and`, `or` - short-circuit operators\n",
    "- `and`: it only evaluates the second argument if the first one is `True`. \n",
    "- `or`: it only evaluates the second argument if the first one is `False`"
   ]
  },
  {
   "cell_type": "code",
   "execution_count": 14,
   "metadata": {
    "slideshow": {
     "slide_type": "fragment"
    }
   },
   "outputs": [
    {
     "name": "stdout",
     "output_type": "stream",
     "text": [
      "not(x % 3) is:  True\n",
      "x%5 is:   0\n",
      "test is:  0\n"
     ]
    }
   ],
   "source": [
    "x = 15 # also test for 5, 15\n",
    "test = (not(x % 3)) and (x % 5); \n",
    "print('not(x % 3) is: ',not(x % 3) )\n",
    "print('x%5 is:  ', x % 5)\n",
    "print('test is: ', test)"
   ]
  },
  {
   "cell_type": "markdown",
   "metadata": {
    "slideshow": {
     "slide_type": "slide"
    }
   },
   "source": [
    "# Relational Operators\n",
    "- A simple **comparison** that is evaluated as **Boolean**\n",
    "- The standard comparison operators are: `&lt;` (less than), `&gt;` (greater than), `==` (equal to), `&lt;=` (less than or equal to), `&gt;=` (greater than or equal to) and `!=` (not equal to)."
   ]
  },
  {
   "cell_type": "markdown",
   "metadata": {
    "slideshow": {
     "slide_type": "slide"
    }
   },
   "source": [
    "# Student Exercise\n",
    "An boolean expression that is evaluated as `True` only if a number is multiple of 3, but not multiple of 5"
   ]
  },
  {
   "cell_type": "code",
   "execution_count": 15,
   "metadata": {
    "slideshow": {
     "slide_type": "fragment"
    }
   },
   "outputs": [
    {
     "name": "stdout",
     "output_type": "stream",
     "text": [
      "True\n"
     ]
    }
   ],
   "source": [
    "x = 18\n",
    "test = (x % 3) == 0 and (x % 5) != 0\n",
    "print(test)"
   ]
  },
  {
   "cell_type": "markdown",
   "metadata": {
    "slideshow": {
     "slide_type": "slide"
    }
   },
   "source": [
    "# Working with Python - Script Mode\n",
    "- Limitation of Interactive mode: When quit from the session, the definitions made (functions and variables) are lost.\n",
    "- Script Mode: \n",
    "    - save them in files/scripts and run a file/script as input for the interpreter.\n",
    "    - filename.**py**\n",
    "- Introducing IDLE Editor"
   ]
  },
  {
   "cell_type": "markdown",
   "metadata": {
    "slideshow": {
     "slide_type": "slide"
    }
   },
   "source": [
    "# Loop\n",
    "- Loop is used to specify a sequence of statements once but the same sequence may be carried out many times in succession.\n",
    "- `for` Loop: **Collection-controlled**, to loop over each item in a collection and terminate when collection is run through\n",
    "- `while` loop: **Condition-controlled**, to loop till some condition is met and terminate\n",
    "- **Indefinite** Loop: Never terminate"
   ]
  },
  {
   "cell_type": "code",
   "execution_count": 16,
   "metadata": {
    "slideshow": {
     "slide_type": "slide"
    }
   },
   "outputs": [
    {
     "name": "stdout",
     "output_type": "stream",
     "text": [
      "0\n",
      "1\n",
      "2\n",
      "3\n",
      "4\n",
      "5\n"
     ]
    }
   ],
   "source": [
    "#Print integers from 0 to 5.\n",
    "#Without using loop, 6 print statement\n",
    "#What if from 0 to 1,000? NOT SCALABLE!\n",
    "print(0)\n",
    "print(1)\n",
    "print(2)\n",
    "print(3)\n",
    "print(4)\n",
    "print(5)"
   ]
  },
  {
   "cell_type": "code",
   "execution_count": 17,
   "metadata": {
    "slideshow": {
     "slide_type": "slide"
    }
   },
   "outputs": [
    {
     "name": "stdout",
     "output_type": "stream",
     "text": [
      "0\n",
      "1\n",
      "2\n",
      "3\n",
      "4\n",
      "5\n"
     ]
    }
   ],
   "source": [
    "#Print integers from 0 to 5\n",
    "#With for loop, iterate over list[0,1,2,3,4,5] returned by range(0,6)\n",
    "#2 lines of code, scalable. range(0, 1001) for [0,1...,999,1000]\n",
    "for x in range(0,6):\n",
    "    print(x)  "
   ]
  },
  {
   "cell_type": "markdown",
   "metadata": {
    "slideshow": {
     "slide_type": "slide"
    }
   },
   "source": [
    "# Block\n",
    "- Every line in the body of the loop is indented: indentation is Python's way of grouping statements as **block** of code\n",
    "- Blocks of code are denoted by line indentation, which is rigidly **enforced**. \n",
    "- The number of spaces in the indentation is variable, but all statements within the block must be indented the same amount, either by tab or spaces"
   ]
  },
  {
   "cell_type": "code",
   "execution_count": 18,
   "metadata": {
    "slideshow": {
     "slide_type": "slide"
    }
   },
   "outputs": [
    {
     "name": "stdout",
     "output_type": "stream",
     "text": [
      "0\n",
      "1\n",
      "2\n",
      "3\n",
      "4\n",
      "5\n"
     ]
    }
   ],
   "source": [
    "#Print integers from 0 to 5\n",
    "#With while loop, iterate while x<6; terminate when x=6\n",
    "#4 lines of code, scalable. x<1001 for [0,1...,999,1000]\n",
    "x = 0\n",
    "while (x < 6): #truth value testing\n",
    "    print(x)\n",
    "    x = x + 1 #what if omitting this line?"
   ]
  },
  {
   "cell_type": "markdown",
   "metadata": {
    "slideshow": {
     "slide_type": "slide"
    }
   },
   "source": [
    "# Truth value testing\n",
    "- A Boolean\n",
    "- `None` is `False`\n",
    "- An integer: Any **non-zero** integer value is `True`; zero is `False`\n",
    "- For a string or list value anything with a **non-zero length** is `True`; **empty** sequences are `False`"
   ]
  },
  {
   "cell_type": "code",
   "execution_count": 21,
   "metadata": {
    "slideshow": {
     "slide_type": "fragment"
    }
   },
   "outputs": [
    {
     "name": "stdout",
     "output_type": "stream",
     "text": [
      "Not an empty string\n",
      "Not an empty list\n",
      "Not zero\n"
     ]
    }
   ],
   "source": [
    "if not \"\": print (\"Not an empty string\") \n",
    "if not []: print (\"Not an empty list\")\n",
    "if not 0: print(\"Not zero\")"
   ]
  },
  {
   "cell_type": "code",
   "execution_count": 6,
   "metadata": {
    "scrolled": true,
    "slideshow": {
     "slide_type": "slide"
    }
   },
   "outputs": [
    {
     "name": "stdout",
     "output_type": "stream",
     "text": [
      "0\n",
      "1\n",
      "2\n",
      "3\n",
      "4\n",
      "5\n"
     ]
    }
   ],
   "source": [
    "#Print integers from 0 to 5\n",
    "#With while(true) and break loop, iterate forever, but break out of loop and terminate when x=6\n",
    "#5 lines of code, scalable. if x== 1001 for [0,1...,999,1000]\n",
    "x = 0\n",
    "while (True):\n",
    "    if x == 6: break\n",
    "    print(x)\n",
    "    x = x+1"
   ]
  },
  {
   "cell_type": "markdown",
   "metadata": {
    "slideshow": {
     "slide_type": "slide"
    }
   },
   "source": [
    "# Student Exercise - `while` loop\n",
    "Write a program to display an initial sub-sequence up to 20 of the Fibonacci series, i.e the sum of two elements defines the next. For example, 1,1,2,3,5...X(n) = X(n-1)+X(n-2)"
   ]
  },
  {
   "cell_type": "code",
   "execution_count": 22,
   "metadata": {
    "slideshow": {
     "slide_type": "fragment"
    }
   },
   "outputs": [
    {
     "name": "stdout",
     "output_type": "stream",
     "text": [
      "1\n",
      "1\n",
      "2\n",
      "3\n",
      "5\n",
      "8\n",
      "13\n"
     ]
    }
   ],
   "source": [
    "# Fibonacci series: the sum of two elements defines the next.\n",
    "a = 0; b = 1; # set up base\n",
    "while b < 20:  # condition  \n",
    "    print(b)\n",
    "    c = a + b \n",
    "    a = b\n",
    "    b = c"
   ]
  },
  {
   "cell_type": "markdown",
   "metadata": {
    "slideshow": {
     "slide_type": "slide"
    }
   },
   "source": [
    "# Choice/Decision - `if..else`\n",
    "- Conditional constructs are to perform different computations or actions depending on whether a Boolean condition evaluates to be `True` or `False`. \n",
    "- `if-else` statement in Python is the most common construct that allows this.\n",
    "- `else` if optional. "
   ]
  },
  {
   "cell_type": "code",
   "execution_count": 7,
   "metadata": {
    "slideshow": {
     "slide_type": "fragment"
    }
   },
   "outputs": [
    {
     "name": "stdout",
     "output_type": "stream",
     "text": [
      "a is not greater than 3\n"
     ]
    }
   ],
   "source": [
    "a = 3\n",
    "if a > 3:\n",
    "    print(\"a is greater than 3\")\n",
    "else:\n",
    "    print(\"a is not greater than 3\")"
   ]
  },
  {
   "cell_type": "markdown",
   "metadata": {
    "slideshow": {
     "slide_type": "slide"
    }
   },
   "source": [
    "# Choice/Decision - `elif`\n",
    "- Short for `else if`, quivalent to **nested if**, but more compact and less excessive indentation.\n",
    "- Inserting as many as `elif` to give many choices as you need\n",
    "- Python's subtitute for `switch...case`in other languages"
   ]
  },
  {
   "cell_type": "code",
   "execution_count": 8,
   "metadata": {
    "slideshow": {
     "slide_type": "fragment"
    }
   },
   "outputs": [
    {
     "name": "stdout",
     "output_type": "stream",
     "text": [
      "a is equal to 3\n"
     ]
    }
   ],
   "source": [
    "a = 3\n",
    "if a > 3:\n",
    "    print(\"a is greater than 3\")\n",
    "elif a == 3:\n",
    "    print(\"a is equal to 3\")\n",
    "else:\n",
    "    print(\"a is less than 3\")"
   ]
  },
  {
   "cell_type": "markdown",
   "metadata": {
    "slideshow": {
     "slide_type": "slide"
    }
   },
   "source": [
    "# Student Exercise\n",
    "- Rewrite preious example with elif using **nested if**"
   ]
  },
  {
   "cell_type": "code",
   "execution_count": 9,
   "metadata": {
    "slideshow": {
     "slide_type": "fragment"
    }
   },
   "outputs": [
    {
     "name": "stdout",
     "output_type": "stream",
     "text": [
      "a is equal to 3\n"
     ]
    }
   ],
   "source": [
    "a = 3\n",
    "if a > 3:\n",
    "    print(\"a is greater than 3\")\n",
    "else:\n",
    "    if a == 3:\n",
    "        print(\"a is equal to 3\")\n",
    "    else:\n",
    "        print(\"a is less than 3\")"
   ]
  },
  {
   "cell_type": "markdown",
   "metadata": {
    "slideshow": {
     "slide_type": "slide"
    }
   },
   "source": [
    "# Student Exercise\n",
    "Write a program that takes percentage score from users and convert it to letter grade. A:\t90%-100%; B:\t80%-89%; C:\t70%-79%;D:\t60%-69%; F:\t0%-59%"
   ]
  },
  {
   "cell_type": "code",
   "execution_count": 9,
   "metadata": {
    "slideshow": {
     "slide_type": "fragment"
    }
   },
   "outputs": [
    {
     "name": "stdout",
     "output_type": "stream",
     "text": [
      "Please enter raw scores: 98\n",
      "A\n"
     ]
    }
   ],
   "source": [
    "result = int(input(\"Please enter raw scores: \"))\n",
    "\n",
    "if result >= 90:\n",
    "    print(\"A\")\n",
    "elif result >= 80:    \n",
    "    print(\"B\")\n",
    "elif result >= 70:\n",
    "    print(\"C\")\n",
    "elif result >= 60:\n",
    "    print(\"D\")\n",
    "else:                 \n",
    "    print(\"F\")"
   ]
  },
  {
   "cell_type": "markdown",
   "metadata": {
    "slideshow": {
     "slide_type": "slide"
    }
   },
   "source": [
    "# Student Exercise\n",
    "Use a `for` loop and `if` statement to identify and print the odd number in a list num_list that contains the following 10 numbers:\n",
    "76, 64, 25, 23,  4, 17, 56, 14, 90, 28"
   ]
  },
  {
   "cell_type": "code",
   "execution_count": 11,
   "metadata": {
    "slideshow": {
     "slide_type": "fragment"
    }
   },
   "outputs": [
    {
     "name": "stdout",
     "output_type": "stream",
     "text": [
      "25\n",
      "23\n",
      "17\n"
     ]
    }
   ],
   "source": [
    "num_list = [76, 64, 25, 23,  4, 17, 56, 14, 90, 28]\n",
    "for x in num_list:\n",
    "    if x % 2 != 0:\n",
    "        print(x)"
   ]
  }
 ],
 "metadata": {
  "celltoolbar": "Slideshow",
  "kernelspec": {
   "display_name": "Python 3.6",
   "language": "python",
   "name": "python36"
  },
  "language_info": {
   "codemirror_mode": {
    "name": "ipython",
    "version": 3
   },
   "file_extension": ".py",
   "mimetype": "text/x-python",
   "name": "python",
   "nbconvert_exporter": "python",
   "pygments_lexer": "ipython3",
   "version": "3.6.6"
  }
 },
 "nbformat": 4,
 "nbformat_minor": 1
}
