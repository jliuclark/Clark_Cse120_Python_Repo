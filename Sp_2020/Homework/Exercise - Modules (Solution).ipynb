{
  "cells": [
    {
      "metadata": {
        "collapsed": true
      },
      "cell_type": "markdown",
      "source": "# Exercises - Modules"
    },
    {
      "metadata": {},
      "cell_type": "markdown",
      "source": "Name: Solution"
    },
    {
      "metadata": {},
      "cell_type": "markdown",
      "source": "1. Change notebook name to include your name. For example, Exercises - Modules(Jing Liu)\n2. Type your answers in the code cells below. \n    - A code cell can contain multiple lines of code. \n    - You need to run the cell to verify the answers. \n    - Make sure to match the answers in the same order of questions."
    },
    {
      "metadata": {},
      "cell_type": "markdown",
      "source": "***"
    },
    {
      "metadata": {},
      "cell_type": "markdown",
      "source": "Write a program that asks for a number from user, and prints out the sine, cosine, and tangent of the user inputted value. Make the output formatted with **4 places** after the decimal point.\n\n_Example usage/output:_\n\n_Enter a number to get the sine, cosine, and tangent of!_     \n\n_> 0.5_\n\n_The sine of 0.5 is 0.4794_\n\n_The cosine of 0.5 is 0.8776_\n\n_The tangent of 0.5 is 0.5463_"
    },
    {
      "metadata": {
        "trusted": true
      },
      "cell_type": "code",
      "source": "import math\n\nnum = input(\"Enter a number to get the sine, cosine and tangent of!\\n >\")\nprint(f\"The sine of {num} is {math.sin(float(num)):.4f}\")\nprint(f\"The cosine of {num} is {math.cos(float(num)):.4f}\")\nprint(f\"The tangent of {num} is {math.tan(float(num)):.4f}\")",
      "execution_count": 1,
      "outputs": [
        {
          "output_type": "stream",
          "name": "stdout",
          "text": "Enter a number to get the sine, cosine and tangent of!\n >0.5\nThe sine of 0.5 is 0.4794\nThe cosine of 0.5 is 0.8776\nThe tangent of 0.5 is 0.5463\n"
        }
      ]
    },
    {
      "metadata": {},
      "cell_type": "markdown",
      "source": "***"
    },
    {
      "metadata": {
        "slideshow": {
          "slide_type": "fragment"
        }
      },
      "cell_type": "markdown",
      "source": "As we learned that module is a python file to organize logically related code. Write a module `temprature_convertor` in file _temprature_convertor.py_ that contains two  related functions `Celsius_to_Fahrenheit` and `Fahrenheit_to_Celsius` that converts temperatures: \n- `Celsius_to_Fahrenheit`: take temprature in Celsius and convert to Fahrenheit\n- `Fahrenheit_to_Celsius`: take temprature in Fahrenheit and convert to Celsius\n\nWrite main.py, where you do the following:\n- import `temprature_convertor` module\n- use functions in `temprature_convertor` module to convert integer temprature in Celsius in range (-5c,5c) and convert integer temprature in Fahrenheit(45f, 55f) and display the results in 2 places after decimal point. Note: ranges are inclusive\n\n_Example output:_\n\n_5 in Celsius -> 41.00 in Fehrenheit_\n\n_45 in Fehrenheit -> 7.22 in Celsius_"
    },
    {
      "metadata": {
        "trusted": true
      },
      "cell_type": "code",
      "source": "# Module: temprature_convertor\ndef Celsius_to_Fehrenheit(c):\n    return ((9/5) * int(c) + 32)  \n\ndef Fehrenheit_to_Celsius(f):\n    return ((int(f) - 32) * 5/9)",
      "execution_count": null,
      "outputs": []
    },
    {
      "metadata": {
        "trusted": true
      },
      "cell_type": "code",
      "source": "import temprature_convertor\n\nfor c in range(-5, 6):\n    print('%d in Celsius -> %.2f in Fehrenheit' % (c, temprature_convertor.Celsius_to_Fehrenheit(c))) \n    \nfor f in range(45, 56):\n    print('%d in Fehrenheit -> %.2f in Celsius' % (f, temprature_convertor.Fehrenheit_to_Celsius(f)))",
      "execution_count": 8,
      "outputs": [
        {
          "output_type": "stream",
          "text": "-5 in Celsius -> 23.00 in Fehrenheit\n-4 in Celsius -> 24.80 in Fehrenheit\n-3 in Celsius -> 26.60 in Fehrenheit\n-2 in Celsius -> 28.40 in Fehrenheit\n-1 in Celsius -> 30.20 in Fehrenheit\n0 in Celsius -> 32.00 in Fehrenheit\n1 in Celsius -> 33.80 in Fehrenheit\n2 in Celsius -> 35.60 in Fehrenheit\n3 in Celsius -> 37.40 in Fehrenheit\n4 in Celsius -> 39.20 in Fehrenheit\n5 in Celsius -> 41.00 in Fehrenheit\n45 in Fehrenheit -> 7.22 in Celsius\n46 in Fehrenheit -> 7.78 in Celsius\n47 in Fehrenheit -> 8.33 in Celsius\n48 in Fehrenheit -> 8.89 in Celsius\n49 in Fehrenheit -> 9.44 in Celsius\n50 in Fehrenheit -> 10.00 in Celsius\n51 in Fehrenheit -> 10.56 in Celsius\n52 in Fehrenheit -> 11.11 in Celsius\n53 in Fehrenheit -> 11.67 in Celsius\n54 in Fehrenheit -> 12.22 in Celsius\n55 in Fehrenheit -> 12.78 in Celsius\n",
          "name": "stdout"
        }
      ]
    },
    {
      "metadata": {},
      "cell_type": "markdown",
      "source": "***"
    }
  ],
  "metadata": {
    "kernelspec": {
      "name": "python36",
      "display_name": "Python 3.6",
      "language": "python"
    },
    "language_info": {
      "mimetype": "text/x-python",
      "nbconvert_exporter": "python",
      "name": "python",
      "pygments_lexer": "ipython3",
      "version": "3.6.6",
      "file_extension": ".py",
      "codemirror_mode": {
        "version": 3,
        "name": "ipython"
      }
    }
  },
  "nbformat": 4,
  "nbformat_minor": 2
}