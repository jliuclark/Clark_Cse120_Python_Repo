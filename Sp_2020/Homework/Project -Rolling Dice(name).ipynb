{
  "cells": [
    {
      "metadata": {
        "collapsed": true
      },
      "cell_type": "markdown",
      "source": "# Project - Rolling Dice (70 pts)"
    },
    {
      "metadata": {},
      "cell_type": "markdown",
      "source": "Name: Write your name here"
    },
    {
      "metadata": {
        "slideshow": {
          "slide_type": "fragment"
        }
      },
      "cell_type": "markdown",
      "source": "1. Change notebook name to include your name. For example, Project - Rolling Dice(Jing Liu)\n2. Type your answers in the code cells below. \n    - A code cell can contain multiple lines of code. \n    - You need to run the cell to verify the answers. \n    - Make sure to match the answers in the same order of questions."
    },
    {
      "metadata": {},
      "cell_type": "markdown",
      "source": "***"
    },
    {
      "metadata": {
        "slideshow": {
          "slide_type": "fragment"
        }
      },
      "cell_type": "markdown",
      "source": "This project is to imitate a revised version of a rolling dice game.  Here is how it works:\n\n1. The game starts by asking the user how many dice to roll. For example, the user chooses 2 dice\n2. The number of dice are rolled independent of one another.  The number of each dice should be generated in a random fashion (1-6). For example, Dice A -  3 and Dice B - 6 for 2 dice\n3. The user has up to three chances to guess the total of dice rolled. For example 3 + 6= 9 for 2 dice\n4. If the user guess is wrong, give the user a hint that if the actual number is higher or lower than the guessed number.\n5. The game should keep going till user choose to exit.\n\n(10 pts) Use the 1st cell(code) for function definitions for rolling dice\n\n(30 pts) Use the 2nd cell(code) for main program for the game\n\n(10 * 3 pts) Use the 3rd - 5th cell(text) for three **most import** test cases you run to validate your program, and **explain** why these case are important. Testing is essenital for writing code. Try to select tests in a **methodical** fashion.\n\n_Example output_\n\n_How many dice do you like to roll? 2_\n\n_Enter a guessed number: 11_\n\n_Too High_\n\n_2 chance(s) left_\n\n_Enter a guessed number again: 5_\n\n_Too Low_\n\n_1 chance(s) left_\n\n_Enter a guessed number again: 7_\n\n_Too Low_\n\n_0 chance(s) left_\n\n_You lost_\n\n_Try again? (Y/N) y_\n\n_How many dice do you like to roll? 1_\n\n_Enter a guessed number: 5_\n\n_Too High_\n\n_2 chance(s) left_\n\n_Enter a guessed number again: 3_\n\n_Too High_\n\n_1 chance(s) left_\n\n_Enter a guessed number again: 2_\n\n_Guess right! You Won!_\n\n_Try again? (Y/N) n_\n\n_Game Over_"
    },
    {
      "metadata": {
        "trusted": true
      },
      "cell_type": "code",
      "source": "# function definition for rolling dice",
      "execution_count": null,
      "outputs": []
    },
    {
      "metadata": {
        "trusted": true
      },
      "cell_type": "code",
      "source": "# main program\n",
      "execution_count": null,
      "outputs": []
    },
    {
      "metadata": {},
      "cell_type": "raw",
      "source": "Test Case #1:"
    },
    {
      "metadata": {},
      "cell_type": "raw",
      "source": "Test Case #2: "
    },
    {
      "metadata": {},
      "cell_type": "raw",
      "source": "Test Case #3: "
    },
    {
      "metadata": {
        "trusted": true
      },
      "cell_type": "code",
      "source": "",
      "execution_count": null,
      "outputs": []
    }
  ],
  "metadata": {
    "kernelspec": {
      "name": "python36",
      "display_name": "Python 3.6",
      "language": "python"
    },
    "language_info": {
      "mimetype": "text/x-python",
      "nbconvert_exporter": "python",
      "name": "python",
      "pygments_lexer": "ipython3",
      "version": "3.6.6",
      "file_extension": ".py",
      "codemirror_mode": {
        "version": 3,
        "name": "ipython"
      }
    }
  },
  "nbformat": 4,
  "nbformat_minor": 2
}