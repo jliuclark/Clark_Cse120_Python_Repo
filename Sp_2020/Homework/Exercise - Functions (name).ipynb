{
  "cells": [
    {
      "metadata": {
        "collapsed": true
      },
      "cell_type": "markdown",
      "source": "# Exercises - Functions (60 pts)"
    },
    {
      "metadata": {},
      "cell_type": "markdown",
      "source": "Name: Write your name here"
    },
    {
      "metadata": {},
      "cell_type": "markdown",
      "source": "1. Change notebook name to include your name. For example, Exercises - Functions(Jing Liu)\n2. Type your answers in the code cells below. \n    - A code cell can contain multiple lines of code. \n    - You need to run the cell to verify the answers. \n    - Make sure to match the answers in the same order of questions."
    },
    {
      "metadata": {},
      "cell_type": "markdown",
      "source": "***"
    },
    {
      "metadata": {},
      "cell_type": "markdown",
      "source": "**Celsius to Fahrenheit Convertor (20 pts)**\n\nUse the 1st cell to define a function named as `Celsius_to_Fahrenheit` that \n- Takes temperature in Celsius as argument\n- Converts and **returns** Celsius to Fahrenheit\n- Use **document string** clearly specify what this function does, argument and return value. \n\nUse the 2nd cell to write a main program that\n- Use help(Celsius_to_Fahrenheit) to verify the documentation for this function\n- Takes temperature in Celsius input from users\n- Call `Celsius_to_Fahrenheit` to get the temperature in Fahrenheit\n- Print out the Fahrenheit values as **integers**. _Example output: 1 Celsius degree -> 33 Fahrenheit degree_\n\nHint: Formula - f = 9/5*c + 32 Assume: For c = 0,1,2,3,4,5, f = 32, 33, 35, 37, 39, 41"
    },
    {
      "metadata": {
        "trusted": true
      },
      "cell_type": "code",
      "source": "def Celsius_to_Fahrenheit(c):\n    f = 9/5*c + 32\n    return f",
      "execution_count": 3,
      "outputs": []
    },
    {
      "metadata": {
        "trusted": true
      },
      "cell_type": "code",
      "source": "c = 0\nf = 32\nprint(f\"{c} Celsius degree -> {f} Fehenheit degree\")\n",
      "execution_count": 1,
      "outputs": [
        {
          "output_type": "stream",
          "text": "0 Celsius degree -> 32 Fehenheit degree\n",
          "name": "stdout"
        }
      ]
    },
    {
      "metadata": {},
      "cell_type": "markdown",
      "source": "***"
    },
    {
      "metadata": {},
      "cell_type": "markdown",
      "source": "**Built-in functions (10 pts)**\nWrite a program that asks for a word from the user using input() and convert it to binary and hex. Hint: you can google or use help() to find out the usage of ord(), hex() and bin() functions. For example: \n\n_Enter a word: abc_\n\nExpected Output:\n\n_Word is: abc_\n\n_In hex: 0x61 0x62 0x63_\n\n_In binary: 0b1100001 0b1100010 0b1100011_"
    },
    {
      "metadata": {
        "trusted": true
      },
      "cell_type": "code",
      "source": "word = 'b'\nfor x in word:\n    print(hex(ord(x)))\n    print(bin(ord(x)))\n\nhelp(hex)\nhelp(bin)\nhelp(ord)",
      "execution_count": 12,
      "outputs": [
        {
          "output_type": "stream",
          "text": "0x62\n0b1100010\nHelp on built-in function hex in module builtins:\n\nhex(number, /)\n    Return the hexadecimal representation of an integer.\n    \n    >>> hex(12648430)\n    '0xc0ffee'\n\nHelp on built-in function bin in module builtins:\n\nbin(number, /)\n    Return the binary representation of an integer.\n    \n    >>> bin(2796202)\n    '0b1010101010101010101010'\n\nHelp on built-in function ord in module builtins:\n\nord(c, /)\n    Return the Unicode code point for a one-character string.\n\n",
          "name": "stdout"
        }
      ]
    },
    {
      "metadata": {},
      "cell_type": "markdown",
      "source": "***"
    },
    {
      "metadata": {},
      "cell_type": "markdown",
      "source": "**Letter Grade Convertor (30 pts)**\n\nUse the 1st cell to define a function named as `Raw_to_Letter_Grade` that \n- Takes raw grade as argument\n- You can assume the input passed in as raw grade are integers, but you need to validate if raw grade is beyond (0,100) are `Invalid`\n- Converts and **returns** Letter grade, based on the following algorithm (all range is inclusive):\n    * Letter Grade:\tPercentage\n    * A:\t90%-100%\n    * B:\t80%-89%\n    * C:\t70%-79%\n    * D:\t60%-69%\n    * F:\t0%-59%\n    * Invalid: other\n\nUse the 2nd cell to write a main program that\n- Creat a list for the grade roster with 10 students and their raw grade, as _[Elsa, 98], [Oscar, -6], [Jonny, 70], [Sophia, 89], [Fiona, 60] , [Zach, 69], [Wendy,100], [Kevin, 105], [Regis, 80], [Reina, 79]\n- Call `Raw_to_Letter_Grade` to get the lettered grade for **each** student\n- Print out the grade for whole class as following format as a **table**(including the header): \n\n    No.  Name        Raw        Letter\n    1.   Elsa        98               A\n    2.   Oscar       85               B\n  \n    ..."
    },
    {
      "metadata": {
        "trusted": true
      },
      "cell_type": "code",
      "source": "roster = [['Elsa', 98], ['Oscar', 85]]\nid = 0\n\nfor s in roster:\n    id = id + 1\n    print(s[0])\n    print(Raw_to_Letter_Grade(s[1]))\n    ",
      "execution_count": 8,
      "outputs": [
        {
          "output_type": "stream",
          "text": "Elsa\n98\nOscar\n85\n",
          "name": "stdout"
        }
      ]
    },
    {
      "metadata": {
        "trusted": true
      },
      "cell_type": "code",
      "source": "def Raw_To_Letter_Grade(grade):\n    letter_grade = -1\n    if grade > 90:\n        print(grade)\n        letter_grade = 'A'\n        ....\n        \n    return letter_grade\n    ",
      "execution_count": null,
      "outputs": []
    },
    {
      "metadata": {},
      "cell_type": "markdown",
      "source": "***"
    }
  ],
  "metadata": {
    "kernelspec": {
      "name": "python36",
      "display_name": "Python 3.6",
      "language": "python"
    },
    "language_info": {
      "mimetype": "text/x-python",
      "nbconvert_exporter": "python",
      "name": "python",
      "pygments_lexer": "ipython3",
      "version": "3.6.6",
      "file_extension": ".py",
      "codemirror_mode": {
        "version": 3,
        "name": "ipython"
      }
    }
  },
  "nbformat": 4,
  "nbformat_minor": 2
}