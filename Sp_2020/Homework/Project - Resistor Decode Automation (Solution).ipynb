{
  "cells": [
    {
      "metadata": {
        "collapsed": true,
        "slideshow": {
          "slide_type": "fragment"
        }
      },
      "cell_type": "markdown",
      "source": "# Project - Resistor Decode Automation (40 pts)"
    },
    {
      "metadata": {},
      "cell_type": "markdown",
      "source": "Name: Solution"
    },
    {
      "metadata": {},
      "cell_type": "markdown",
      "source": "1. Change notebook name to include your name. For example, Exercises - Resistor Decode Automation(Jing Liu)\n2. Type your answers in the code cells below. \n    - A code cell can contain multiple lines of code. \n    - You need to run the cell to verify the answers. \n    - Make sure to match the answers in the same order of questions."
    },
    {
      "metadata": {},
      "cell_type": "markdown",
      "source": "***"
    },
    {
      "metadata": {},
      "cell_type": "markdown",
      "source": "**Resistor Decode (40 pts)**\n\nOne of the most important uses of Python is **automation**. Python can help us automate repetitious and tedious work, such as resistor decode in the _Resistor Decode_ Quiz.\n\n(20 pts) Use the 1st cell to define a function named as `Resistor_Decode` that \n- Takes 4 color bands on a resistor as arguments, \n- Converts and **returns** a list containing the norminal value and tolerance in ohms of this resistor\n- Use **document string** clearly specify what this function does, arguments and return value\n- Feel free to define any other functions as building blocks\n\n(20 pts) Use the 2nd cell to write a main program that\n- Make a list of resistors with bands for all the questions you got from Resistor Decode Quiz, as follows: \n\n`resistors = [['Red', 'Red', 'Red', 'Gold'], \\\n             ['Brown', 'Black', 'Black', 'Silver'], \\\n             ['Orange', 'Yellow', 'Green', 'None'], \\\n             ['Green', 'Black', 'Green', 'Silver'],\\\n             ['Violet', 'Green', 'Blue', 'Gold'], \\\n             ['Brown', 'Green', 'Orange', 'None'], \\\n             ['Red', 'Orange', 'Yellow', 'Silver'], \\\n             ['Blue', 'Black', 'Blue', 'Gold'], \\\n             ['Brown', 'Black', 'Green', 'Silver']]`\n             \n- Use `Resistor_Decode` you defined in first cell to get the resistor norminal value and tolerance in ohms for each resistor from the list `resistors`\n- Display the result of the resistor value as **two places** after decimal point for each resistor with a table, including header\n\n_Example output:_\n\n_Resitor Color Bands\t\tNorminal\tTolerance_\n\n_Red, Red, Red, Gold\t\t2200.00\t\t110.00_\n\n...\n\n- Testing: `resistors` list also serves as test cases for the function you defined for resistor decode. Verify the output is consistent with manual calculation from _Resistor Decode_ Quiz."
    },
    {
      "metadata": {
        "trusted": true
      },
      "cell_type": "code",
      "source": "def value_band(color):\n    if color == \"Black\":\n        value = 0\n    elif color == \"Brown\":\n        value = 1\n    elif color == \"Red\":\n        value = 2\n    elif color == \"Orange\":\n        value = 3\n    elif color == \"Yellow\":\n        value = 4\n    elif color == \"Green\":\n        value = 5\n    elif color == \"Blue\":\n        value = 6\n    elif color == \"Violet\":\n        value = 7\n    elif color == \"Gray\":\n        value = 8\n    elif color == \"White\":\n        value = 9\n    else:\n        value = -1\n    return value\n        \ndef multiplier_band(value, color):\n    if color == \"Black\":\n        value *= 10**0\n    elif color == \"Brown\":\n        value *= 10**1\n    elif color == \"Red\":\n        value *= 10**2\n    elif color == \"Orange\":\n        value *= 10**3\n    elif color == \"Yellow\":\n        value *= 10**4\n    elif color == \"Green\":\n        value *= 10**5\n    elif color == \"Blue\":\n        value *= 10**6\n    elif color == \"Violet\":\n        value *= 10**7\n    elif color == \"Gray\":\n        value *= 10**8\n    elif color == \"White\":\n        value *= 10**9\n    else:\n        value = -1\n    return value\n\ndef multiplier_band(value, color):\n    if color == \"Black\":\n        value *= 10**0\n    elif color == \"Brown\":\n        value *= 10**1\n    elif color == \"Red\":\n        value *= 10**2\n    elif color == \"Orange\":\n        value *= 10**3\n    elif color == \"Yellow\":\n        value *= 10**4\n    elif color == \"Green\":\n        value *= 10**5\n    elif color == \"Blue\":\n        value *= 10**6\n    elif color == \"Violet\":\n        value *= 10**7\n    elif color == \"Gray\":\n        value *= 10**8\n    elif color == \"White\":\n        value *= 10**9\n    else:\n        value = -1\n    return value\n\ndef tolerance_band(value, color):\n    if color == \"Gold\":\n        value *= 0.05\n    elif color == \"Silver\":\n        value *= 0.1\n    elif color == \"None\":\n        value *= 0.2\n    else:\n        value = -1\n    return value\n        \ndef Resistor_Decode(first, second, third, fourth):\n    \"\"\"\n    A function that converts Celsius to Fehrenheit and return the Fehrenheit result  \n      \n    Arguments:\n        first(string): 1st band (value) \n        second(string): 2nd band (value) \n        third(string): 3rd band (multiplier) \n        fourth(string): 4th band (tolerance) \n    Returns:\n       list: [nominal, tolerance]\n    \"\"\"\n    resistor = []\n    norminal = multiplier_band((value_band(first)*10 + value_band(second)), third)\n    tolerance = tolerance_band(norminal, fourth)\n    resistor.append(norminal)\n    resistor.append(tolerance)\n    return resistor",
      "execution_count": 69,
      "outputs": []
    },
    {
      "metadata": {
        "trusted": true
      },
      "cell_type": "code",
      "source": "help(Resistor_Decode)\nresistors = [['Red', 'Red', 'Red', 'Gold'], \\\n             ['Brown', 'Black', 'Black', 'Silver'], \\\n             ['Orange', 'Yellow', 'Green', 'None'], \\\n             ['Green', 'Black', 'Green', 'Silver'],\\\n             ['Violet', 'Green', 'Blue', 'Gold'], \\\n             ['Brown', 'Green', 'Orange', 'None'], \\\n             ['Red', 'Orange', 'Yellow', 'Silver'], \\\n             ['Blue', 'Black', 'Blue', 'Gold'], \\\n             ['Brown', 'Black', 'Green', 'Silver']]\nheader = print('Resitor Color Bands\\t\\tNorminal\\tTolerance')\nfor r in resistors:\n    resistor = Resistor_Decode(r[0], r[1], r[2], r[3])\n    print(f'{r[0]}, {r[1]}, {r[2]}, {r[3]}\\t\\t{resistor[0]:.2f}\\t\\t{resistor[1]:.2f}')",
      "execution_count": 71,
      "outputs": [
        {
          "output_type": "stream",
          "text": "Help on function Resistor_Decode in module __main__:\n\nResistor_Decode(first, second, third, fourth)\n    A function that converts Celsius to Fehrenheit and return the Fehrenheit result  \n      \n    Arguments:\n        first(string): 1st band (value) \n        second(string): 2nd band (value) \n        third(string): 3rd band (multiplier) \n        fourth(string): 4th band (tolerance) \n    Returns:\n       list: [nominal, tolerance]\n\nResitor Color Bands\t\tNorminal\tTolerance\nRed, Red, Red, Gold\t\t2200.00\t\t110.00\nBrown, Black, Black, Silver\t\t10.00\t\t1.00\nOrange, Yellow, Green, None\t\t3400000.00\t\t680000.00\nGreen, Black, Green, Silver\t\t5000000.00\t\t500000.00\nViolet, Green, Blue, Gold\t\t75000000.00\t\t3750000.00\nBrown, Green, Orange, None\t\t15000.00\t\t3000.00\nRed, Orange, Yellow, Silver\t\t230000.00\t\t23000.00\nBlue, Black, Blue, Gold\t\t60000000.00\t\t3000000.00\nBrown, Black, Green, Silver\t\t1000000.00\t\t100000.00\n",
          "name": "stdout"
        }
      ]
    },
    {
      "metadata": {},
      "cell_type": "markdown",
      "source": "***"
    }
  ],
  "metadata": {
    "kernelspec": {
      "name": "python36",
      "display_name": "Python 3.6",
      "language": "python"
    },
    "language_info": {
      "mimetype": "text/x-python",
      "nbconvert_exporter": "python",
      "name": "python",
      "pygments_lexer": "ipython3",
      "version": "3.6.6",
      "file_extension": ".py",
      "codemirror_mode": {
        "version": 3,
        "name": "ipython"
      }
    }
  },
  "nbformat": 4,
  "nbformat_minor": 2
}