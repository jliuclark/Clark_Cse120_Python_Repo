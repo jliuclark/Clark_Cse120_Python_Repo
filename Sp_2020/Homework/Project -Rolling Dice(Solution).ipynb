{
  "cells": [
    {
      "metadata": {
        "collapsed": true
      },
      "cell_type": "markdown",
      "source": "# Project - Rolling Dice (70 pts)"
    },
    {
      "metadata": {},
      "cell_type": "markdown",
      "source": "Name: Solution"
    },
    {
      "metadata": {
        "slideshow": {
          "slide_type": "fragment"
        }
      },
      "cell_type": "markdown",
      "source": "1. Change notebook name to include your name. For example, Project - Rolling Dice(Jing Liu)\n2. Type your answers in the code cells below. \n    - A code cell can contain multiple lines of code. \n    - You need to run the cell to verify the answers. \n    - Make sure to match the answers in the same order of questions."
    },
    {
      "metadata": {},
      "cell_type": "markdown",
      "source": "***"
    },
    {
      "metadata": {
        "slideshow": {
          "slide_type": "fragment"
        }
      },
      "cell_type": "markdown",
      "source": "This project is to imitate a revised version of a rolling dice game.  Here is how it works:\n\n1. The game starts by asking the user how many dice to roll. For example, the user chooses 2 dice\n2. The number of dice are rolled independent of one another.  The number of each dice should be generated in a random fashion (1-6). For example, Dice A -  3 and Dice B - 6 for 2 dice\n3. The user has up to three chances to guess the total of dice rolled. For example 3 + 6= 9 for 2 dice\n4. If the user guess is wrong, give the user a hint that if the actual number is higher or lower than the guessed number.\n5. The game should keep going till user choose to exit.\n\n(10 pts) Use the 1st cell(code) for function definitions for rolling dice\n\n(30 pts) Use the 2nd cell(code) for main program for the game\n\n(10 * 3 pts) Use the 3rd - 5th cell(text) for three **most import** test cases you run to validate your program, and **explain** why these case are important. Testing is essenital for writing code. Try to select tests in a **methodical** fashion.\n\n_Example output_\n\n_How many dice do you like to roll? 2_\n\n_Enter a guessed number: 11_\n\n_Too High_\n\n_2 chance(s) left_\n\n_Enter a guessed number again: 5_\n\n_Too Low_\n\n_1 chance(s) left_\n\n_Enter a guessed number again: 7_\n\n_Too Low_\n\n_0 chance(s) left_\n\n_You lost_\n\n_Try again? (Y/N) y_\n\n_How many dice do you like to roll? 1_\n\n_Enter a guessed number: 5_\n\n_Too High_\n\n_2 chance(s) left_\n\n_Enter a guessed number again: 3_\n\n_Too High_\n\n_1 chance(s) left_\n\n_Enter a guessed number again: 2_\n\n_Guess right! You Won!_\n\n_Try again? (Y/N) n_\n\n_Game Over_"
    },
    {
      "metadata": {
        "trusted": true
      },
      "cell_type": "code",
      "source": "# Module: roll_dice\nimport random\ndef roll_a_dice():\n    return (random.randint(1,6))\n\ndef roll_2_dice():\n    return(roll_a_dice() + roll_a_dice())\n\ndef roll_n_dice(n):\n    total = 0\n    for i in range(1, n+1):\n        total += roll_a_dice()\n    return total        ",
      "execution_count": 2,
      "outputs": []
    },
    {
      "metadata": {
        "trusted": true
      },
      "cell_type": "code",
      "source": "num_of_dice = input('How many dice do you like to roll? ')\ntotal = roll_n_dice(int(num_of_dice))\n# print(total)\n\nplaying = True\nchances = 3\nguess = input(\"Enter a guessed number: \")\n\nwhile (playing):\n    while(chances > 0):\n        if int(guess) == total:\n            print('Guess right! You Won!');break\n        elif int(guess) > total:\n            print('Too High')\n        else:\n            print('Too Low')\n        chances -= 1 \n        print(str(chances) + ' chance(s) left')\n        if chances > 0:\n            guess = input(\"Enter a guessed number again: \")\n        else:\n            print(\"You lost\")\n\n    try_again = input(\"Try again? (Y/N) \")\n    if try_again == 'Y' or try_again == 'y':\n        playing == True\n        chances = 3\n        num_of_dice = input('How many dice do you like to roll? ')\n        total = roll_n_dice(int(num_of_dice))\n#         print(total)\n        guess = input(\"Enter a guessed number: \")\n    else:\n        playing = False\n        print('Game Over')",
      "execution_count": 3,
      "outputs": [
        {
          "output_type": "stream",
          "name": "stdout",
          "text": "How many dice do you like to roll? 2\nEnter a guessed number: 11\nToo High\n2 chance(s) left\nEnter a guessed number again: 5\nToo Low\n1 chance(s) left\nEnter a guessed number again: 7\nToo Low\n0 chance(s) left\nYou lost\nTry again? (Y/N) y\nHow many dice do you like to roll? 1\nEnter a guessed number: 5\nToo High\n2 chance(s) left\nEnter a guessed number again: 3\nToo High\n1 chance(s) left\nEnter a guessed number again: 2\nGuess right! You Won!\nTry again? (Y/N) n\nGame Over\n"
        }
      ]
    },
    {
      "metadata": {},
      "cell_type": "raw",
      "source": "Test Case #1:\nHow many dice do you like to roll? 2\nEnter a guessed number: 11\nToo High\n2 chance(s) left\nEnter a guessed number again: 5\nToo Low\n1 chance(s) left\nEnter a guessed number again: 7\nToo Low\n0 chance(s) left\nYou lost\nTry again? (Y/N) y\nHow many dice do you like to roll? 1\nEnter a guessed number: 5\nToo High\n2 chance(s) left\nEnter a guessed number again: 3\nToo High\n1 chance(s) left\nEnter a guessed number again: 2\nGuess right! You Won!\nTry again? (Y/N) n\nGame Over"
    },
    {
      "metadata": {},
      "cell_type": "raw",
      "source": "Test Case #2: How many dice do you like to roll? 2\nEnter a guessed number: 11\nToo High\n2 chance(s) left\nEnter a guessed number again: 5\nToo Low\n1 chance(s) left\nEnter a guessed number again: 7\nToo Low\n0 chance(s) left\nYou lost\nTry again? (Y/N) y\nHow many dice do you like to roll? 1\nEnter a guessed number: 5\nToo High\n2 chance(s) left\nEnter a guessed number again: 3\nToo High\n1 chance(s) left\nEnter a guessed number again: 2\nGuess right! You Won!\nTry again? (Y/N) n\nGame Over"
    },
    {
      "metadata": {},
      "cell_type": "raw",
      "source": "Test Case #3: How many dice do you like to roll? 2\nEnter a guessed number: 11\nToo High\n2 chance(s) left\nEnter a guessed number again: 5\nToo Low\n1 chance(s) left\nEnter a guessed number again: 7\nToo Low\n0 chance(s) left\nYou lost\nTry again? (Y/N) y\nHow many dice do you like to roll? 1\nEnter a guessed number: 5\nToo High\n2 chance(s) left\nEnter a guessed number again: 3\nToo High\n1 chance(s) left\nEnter a guessed number again: 2\nGuess right! You Won!\nTry again? (Y/N) n\nGame Over"
    },
    {
      "metadata": {
        "trusted": true
      },
      "cell_type": "code",
      "source": "",
      "execution_count": null,
      "outputs": []
    }
  ],
  "metadata": {
    "kernelspec": {
      "name": "python36",
      "display_name": "Python 3.6",
      "language": "python"
    },
    "language_info": {
      "mimetype": "text/x-python",
      "nbconvert_exporter": "python",
      "name": "python",
      "pygments_lexer": "ipython3",
      "version": "3.6.6",
      "file_extension": ".py",
      "codemirror_mode": {
        "version": 3,
        "name": "ipython"
      }
    }
  },
  "nbformat": 4,
  "nbformat_minor": 2
}