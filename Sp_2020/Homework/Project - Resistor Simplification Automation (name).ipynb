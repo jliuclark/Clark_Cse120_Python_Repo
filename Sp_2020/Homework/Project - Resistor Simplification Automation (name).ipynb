{
  "cells": [
    {
      "metadata": {
        "collapsed": true,
        "slideshow": {
          "slide_type": "fragment"
        }
      },
      "cell_type": "markdown",
      "source": "# Project - Resistor Simplification Automation (40 pts)"
    },
    {
      "metadata": {},
      "cell_type": "markdown",
      "source": "Name: Write your name here"
    },
    {
      "metadata": {},
      "cell_type": "markdown",
      "source": "1. Change notebook name to include your name. For example, Exercises - Resistor Decode Simplification(Jing Liu)\n2. Type your answers in the code cells below. \n    - A code cell can contain multiple lines of code. \n    - You need to run the cell to verify the answers. \n    - Make sure to match the answers in the same order of questions."
    },
    {
      "metadata": {},
      "cell_type": "markdown",
      "source": "***"
    },
    {
      "metadata": {},
      "cell_type": "markdown",
      "source": "**Resistor Simplification (40 pts)**\n\nOne of the most important uses of Python is **automation**. Python can help us automate repetitious and tedious work, such as simplifying resistors in series and in parallel\n\n**Data structure**: Organizing properties related to a resistor in a structure, such as list or tuple.\n- A resistor is associated with a label, the resistance value, voltage across the resistor and current through the resistor.\n- Before we analyze the circuit, we often do not know the voltage and current. Therefore, use a **list** of two items as _[label, resistance]_ to represent a resistor to start with, for example, `r116 = ['r116', 10]` \n- After analyzing the circuit, we can expand the list by the calculated voltage and current. For example, `r116 = ['r116', 10, v116, i116]`\n\n(20 pts) Use the 1st cell to define a function named as `Resistor_Simplification` that \n- take two resistors as r1(list) and r2(list),  and connection type (`'s'` for series or `'p'` for parallel) as arguments, \n- if you like to be more adventuous, you can define your function to take variable number of resistors, which will make your circuit analysis significantly easier with less function calls. We didn't cover this in class. You will need google how to do it.\n- Calculate and **return** the equivalent resistor(list) based on connection type\n- Use **document string** clearly specify what this function does, arguments and return value\n- Feel free to define any other functions as building blocks\n- Print detailed information for what simplification is being done, as follows,\n_Example output:_\n\n_R1(ohms)\t     R2(ohms)  S/P\t  Req(ohms)_\n\n_r111(10.00)\tr107(10.00)\ts\t[r111, r107] (20.00 ohms)_\n\n\n(20 pts) Use the 2nd cell to write a main program that\n\n- Use `Resistor_Decode` you defined in 1st cell to Calculate the total equvalent resistor of the circuit given in canvas assignment\n- Calculate the total current drawn from power supply.    \n- Calculate the voltage and resistance for each resistor, and store them in the same list for that resistor.\n- Display the result as **two places** after decimal point\n\n_Example output:_\n\n_The equivalent resistance is xx.xx_\n\n_The total current is xx.xx_\n\n_R(ohms)\t\t\tV(Volts)\t\tI(Amps)_\n\n_r116(10.00)\t\t xx.xx\t\t xx.xx_\n\n...\n\n- Testing: Verify the output is consistent with manual calculation."
    },
    {
      "metadata": {
        "trusted": true
      },
      "cell_type": "code",
      "source": "def Resistor_Simplification(r1, r2, c)\n\ndef Resistor_Simplification(c, argv*)",
      "execution_count": null,
      "outputs": []
    },
    {
      "metadata": {
        "trusted": true
      },
      "cell_type": "code",
      "source": "",
      "execution_count": null,
      "outputs": []
    },
    {
      "metadata": {},
      "cell_type": "markdown",
      "source": "***"
    }
  ],
  "metadata": {
    "kernelspec": {
      "name": "python36",
      "display_name": "Python 3.6",
      "language": "python"
    },
    "language_info": {
      "mimetype": "text/x-python",
      "nbconvert_exporter": "python",
      "name": "python",
      "pygments_lexer": "ipython3",
      "version": "3.6.6",
      "file_extension": ".py",
      "codemirror_mode": {
        "version": 3,
        "name": "ipython"
      }
    }
  },
  "nbformat": 4,
  "nbformat_minor": 2
}