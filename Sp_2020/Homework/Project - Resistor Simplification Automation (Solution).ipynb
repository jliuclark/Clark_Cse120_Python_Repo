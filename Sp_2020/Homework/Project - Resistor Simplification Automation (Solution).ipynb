{
  "cells": [
    {
      "metadata": {
        "collapsed": true,
        "slideshow": {
          "slide_type": "fragment"
        }
      },
      "cell_type": "markdown",
      "source": "# Project - Resistor Simplification Automation (40 pts)"
    },
    {
      "metadata": {},
      "cell_type": "markdown",
      "source": "Name: Solution"
    },
    {
      "metadata": {},
      "cell_type": "markdown",
      "source": "1. Change notebook name to include your name. For example, Exercises - Resistor Decode Simplification(Jing Liu)\n2. Type your answers in the code cells below. \n    - A code cell can contain multiple lines of code. \n    - You need to run the cell to verify the answers. \n    - Make sure to match the answers in the same order of questions."
    },
    {
      "metadata": {},
      "cell_type": "markdown",
      "source": "***"
    },
    {
      "metadata": {},
      "cell_type": "markdown",
      "source": "**Resistor Simplification (40 pts)**\n\nOne of the most important uses of Python is **automation**. Python can help us automate repetitious and tedious work, such as simplifying resistors in series and in parallel\n\n**Data structure**: Organizing properties related to a resistor in a structure, such as list or tuple.\n- A resistor is associated with a label, the resistance value, voltage across the resistor and current through the resistor.\n- Before we analyze the circuit, we often do not know the voltage and current. Therefore, use a **list** of two items as _[label, resistance]_ to represent a resistor to start with, for example, `r116 = ['r116', 10]` \n- After analyzing the circuit, we can expand the list by the calculated voltage and current. For example, `r116 = ['r116', 10, v116, i116]`\n\n(20 pts) Use the 1st cell to define a function named as `Resistor_Simplification` that \n- take two resistors as r1(list) and r2(list),  and connection type (`'s'` for series or `'p'` for parallel) as arguments, \n- if you like to be more adventuous, you can define your function to take variable number of resistors, which will make your circuit analysis significantly easier with less function calls. We didn't cover this in class. You will need google how to do it.\n- Calculate and **return** the equivalent resistor(list) based on connection type\n- Use **document string** clearly specify what this function does, arguments and return value\n- Feel free to define any other functions as building blocks\n- Print detailed information for what simplification is being done, as follows,\n_Example output:_\n\n_R1(ohms)\t     R2(ohms)  S/P\t  Req(ohms)_\n\n_r111(10.00)\tr107(10.00)\ts\t[r111, r107] (20.00 ohms)_\n\n\n(20 pts) Use the 2nd cell to write a main program that\n\n- Use `Resistor_Decode` you defined in 1st cell to Calculate the total equvalent resistor of the circuit given in canvas assignment\n- Calculate the total current drawn from power supply.    \n- Calculate the voltage and resistance for each resistor, and store them in the same list for that resistor.\n- Display the result as **two places** after decimal point\n\n_Example output:_\n\n_The equivalent resistance is xx.xx_\n\n_The total current is xx.xx_\n\n_R(ohms)\t\t\tV(Volts)\t\tI(Amps)_\n\n_r116(10.00)\t\t xx.xx\t\t xx.xx_\n\n...\n\n- Testing: Verify the output is consistent with manual calculation."
    },
    {
      "metadata": {
        "trusted": true
      },
      "cell_type": "code",
      "source": "def Resistor_Simplification(r1, r2, c):\n    if c == \"s\":# series\n        r = r1[1] + r2[1]     \n    elif c == \"p\":# parallel\n        r = 1/(1/r1[1] + 1/r2[1])\n    else: \n        r = -1\n        c = \"invalid\"\n    label = '[' + r1[0] + ', ' + r2[0] +']'\n    req = []\n    req.append(label)  \n    req.append(r)\n    print(f'{r1[0]}({r1[1]:5.2f})\\t\\t{r2[0]}({r2[1]:5.2f})\\t\\t{c}\\t\\t{req[0]}({req[1]:5.2f})\\n')\n    return req",
      "execution_count": 29,
      "outputs": []
    },
    {
      "metadata": {
        "trusted": true
      },
      "cell_type": "code",
      "source": "def Resistor_Simplification(c, *argv):\n    r = 0; temp = 0\n    if c == \"s\":# series\n        for arg in argv: \n            r += arg[1]     \n    elif c == \"p\":# parallel\n        for arg in argv:          \n            temp += 1/arg[1]\n        r = 1/temp\n    else: \n        r = -1\n        c = \"invalid\"\n    \n    label = '['\n    for arg in argv: \n        label += arg[0] + ','     \n    label += ']'\n    req = []\n    req.append(label)  \n    req.append(r)\n    \n    i = 0\n    for arg in argv: \n        i += 1\n        print(f'R{i}(ohms)\\t\\t', end = ''),\n    print(f'S/P\\t\\tReq(ohms)')\n   \n    for arg in argv: \n        print(f'{arg[0]}({arg[1]:5.2f})\\t\\t', end = ''),\n    print(f'{c}\\t\\t{req[0]}({req[1]:5.2f})\\n')\n    #print(f'{r1[0]}({r1[1]:5.2f})\\t\\t{r2[0]}({r2[1]:5.2f})\\t\\t{c}\\t\\t{req[0]}({req[1]:5.2f})\\n')\n    return req",
      "execution_count": 39,
      "outputs": []
    },
    {
      "metadata": {
        "trusted": true
      },
      "cell_type": "code",
      "source": "r116 = ['r116', 10]\nr117 = ['r117', 10]\nr115 = ['r115', 10]\nr114 = ['r114', 10]\nr109 = ['r109', 10]\nr110 = ['r110', 10]\nr112 = ['r112', 10]\nr113 = ['r113', 10]\nr108 = ['r108', 10]\nr107 = ['r107', 10]\nr111 = ['r111', 10]\n#header = print('R1(ohms)\\t\\t\\tR2(ohms\\t\\t\\tS/P\\tReq(ohms)\\n')\nr_111_107_108 = Resistor_Simplification('s', r111, r107, r108)\n# r_111_107_108 = Resistor_Simplification(r_111_107, r108, 's')\n# r_111_107_108_113 = Resistor_Simplification(r_111_107_108, r113, 'p')\nr_111_107_108_113_112 = Resistor_Simplification('p', r_111_107_108, r112, r113)\n# r_111_107_108_113_112_110 = Resistor_Simplification(r_111_107_108_113_112, r110, 's')\nr_111_107_108_113_112_110_109 = Resistor_Simplification('s', r_111_107_108_113_112, r109, r110)\nr_115_114 = Resistor_Simplification('s', r115, r114)\nr_111_107_108_113_112_110_109_115_114 = Resistor_Simplification('p', r_111_107_108_113_112_110_109, r_115_114)\n# r_111_107_108_113_112_110_109_115_114_117 = Resistor_Simplification(r_111_107_108_113_112_110_109_115_114, r117, 's')\nr = Resistor_Simplification('s', r_111_107_108_113_112_110_109_115_114, r117, r116)\nprint(f'The equivalent resistance is {r[1]:.2f}\\n')\n      \ni = 10/r[1]\nprint(f'The total current is {i:.2f}\\n')\n\nresistors = []\n#r116\nv1 = r116[1] * i\nr116.append(v1)\nr116.append(i)\nresistors.append(r116)\n\n#r117\nv2 = r117[1] * i\nr117.append(v2)\nr117.append(i)\nresistors.append(r117)\n\n#r_111_107_108_113_110_109_115_114\n#v3 =  r_111_107_108_113_110_109_115_114[1] * i\nv3 = 10 - v1 - v2\ni1 = v3/r_115_114[1]\nv9 = i1 * r115[1]\nr115.append(v9)\nr115.append(i1)\nresistors.append(r115)\n\nv4 = i1 * r114[1]\nr114.append(v4)\nr114.append(i1)\nresistors.append(r114)\n\ni2 = i - i1\nv5 = i2 * r109[1]\nr109.append(v5)\nr109.append(i2)\nresistors.append(r109)\n\nv6 = i2 * r110[1]\nr110.append(v6)\nr110.append(i2)\nresistors.append(r110)\n\nv7 = v3 - v5 - v6\ni3 = v7/r112[1]\nr112.append(v7)\nr112.append(i3)\nresistors.append(r112)\n\ni4 = v7/r113[1]\nr113.append(v7)\nr113.append(i4)\nresistors.append(r113)\n\ni5 = i2 - i3 - i4\nv8 = i5 * r108[1]\nr108.append(v8)\nr108.append(i5)\nresistors.append(r108)\n\nv8 = i5 * r107[1]\nr107.append(v8)\nr107.append(i5)\nresistors.append(r107)\n\nv8 = i5 * r111[1]\nr111.append(v8)\nr111.append(i5)\nresistors.append(r111)\n\nheader = print('R(ohms)\\t\\t\\tV(Volts)\\t\\tI(Amps)\\n')\nfor r in resistors:\n    print(f'{r[0]}({r[1]:5.2f})\\t\\t{r[2]:5.2f}\\t\\t{r[3]:5.2f}\\n')",
      "execution_count": 40,
      "outputs": [
        {
          "output_type": "stream",
          "text": "R1(ohms)\t\tR2(ohms)\t\tR3(ohms)\t\tS/P\t\tReq(ohms)\nr111(10.00)\t\tr107(10.00)\t\tr108(10.00)\t\ts\t\t[r111,r107,r108,](30.00)\n\nR1(ohms)\t\tR2(ohms)\t\tR3(ohms)\t\tS/P\t\tReq(ohms)\n[r111,r107,r108,](30.00)\t\tr112(10.00)\t\tr113(10.00)\t\tp\t\t[[r111,r107,r108,],r112,r113,]( 4.29)\n\nR1(ohms)\t\tR2(ohms)\t\tR3(ohms)\t\tS/P\t\tReq(ohms)\n[[r111,r107,r108,],r112,r113,]( 4.29)\t\tr109(10.00)\t\tr110(10.00)\t\ts\t\t[[[r111,r107,r108,],r112,r113,],r109,r110,](24.29)\n\nR1(ohms)\t\tR2(ohms)\t\tS/P\t\tReq(ohms)\nr115(10.00)\t\tr114(10.00)\t\ts\t\t[r115,r114,](20.00)\n\nR1(ohms)\t\tR2(ohms)\t\tS/P\t\tReq(ohms)\n[[[r111,r107,r108,],r112,r113,],r109,r110,](24.29)\t\t[r115,r114,](20.00)\t\tp\t\t[[[[r111,r107,r108,],r112,r113,],r109,r110,],[r115,r114,],](10.97)\n\nR1(ohms)\t\tR2(ohms)\t\tR3(ohms)\t\tS/P\t\tReq(ohms)\n[[[[r111,r107,r108,],r112,r113,],r109,r110,],[r115,r114,],](10.97)\t\tr117(10.00)\t\tr116(10.00)\t\ts\t\t[[[[[r111,r107,r108,],r112,r113,],r109,r110,],[r115,r114,],],r117,r116,](30.97)\n\nThe equivalent resistance is 30.97\n\nThe total current is 0.32\n\nR(ohms)\t\t\tV(Volts)\t\tI(Amps)\n\nr116(10.00)\t\t 3.23\t\t 0.32\n\nr117(10.00)\t\t 3.23\t\t 0.32\n\nr115(10.00)\t\t 1.77\t\t 0.18\n\nr114(10.00)\t\t 1.77\t\t 0.18\n\nr109(10.00)\t\t 1.46\t\t 0.15\n\nr110(10.00)\t\t 1.46\t\t 0.15\n\nr112(10.00)\t\t 0.63\t\t 0.06\n\nr113(10.00)\t\t 0.63\t\t 0.06\n\nr108(10.00)\t\t 0.21\t\t 0.02\n\nr107(10.00)\t\t 0.21\t\t 0.02\n\nr111(10.00)\t\t 0.21\t\t 0.02\n\n",
          "name": "stdout"
        }
      ]
    },
    {
      "metadata": {
        "trusted": true
      },
      "cell_type": "code",
      "source": "r116 = ['r116', 10]\nr117 = ['r117', 10]\nr115 = ['r115', 10]\nr114 = ['r114', 10]\nr109 = ['r109', 10]\nr110 = ['r110', 10]\nr112 = ['r112', 10]\nr113 = ['r113', 10]\nr108 = ['r108', 10]\nr107 = ['r107', 10]\nr111 = ['r111', 10]\nheader = print('R1(ohms)\\t\\t\\tR2(ohms\\t\\t\\tS/P\\tReq(ohms)\\n')\nr_111_107 = Resistor_Simplification(r111, r107, 's')\nr_111_107_108 = Resistor_Simplification(r_111_107, r108, 's')\nr_111_107_108_113 = Resistor_Simplification(r_111_107_108, r113, 'p')\nr_111_107_108_113_112 = Resistor_Simplification(r_111_107_108_113, r112, 'p')\nr_111_107_108_113_112_110 = Resistor_Simplification(r_111_107_108_113_112, r110, 's')\nr_111_107_108_113_112_110_109 = Resistor_Simplification(r_111_107_108_113_112_110, r109, 's')\nr_115_114 = Resistor_Simplification(r115, r114, 's')\nr_111_107_108_113_112_110_109_115_114 = Resistor_Simplification(r_111_107_108_113_112_110_109, r_115_114, 'p')\nr_111_107_108_113_112_110_109_115_114_117 = Resistor_Simplification(r_111_107_108_113_112_110_109_115_114, r117, 's')\nr = Resistor_Simplification(r_111_107_108_113_112_110_109_115_114_117, r116, 's')\nprint(f'The equivalent resistance is {r[1]:.2f}\\n')\n      \ni = 10/r[1]\nprint(f'The total current is {i:.2f}\\n')\n\nresistors = []\n#r116\nv1 = r116[1] * i\nr116.append(v1)\nr116.append(i)\nresistors.append(r116)\n\n#r117\nv2 = r117[1] * i\nr117.append(v2)\nr117.append(i)\nresistors.append(r117)\n\n#r_111_107_108_113_110_109_115_114\n#v3 =  r_111_107_108_113_110_109_115_114[1] * i\nv3 = 10 - v1 - v2\ni1 = v3/r_115_114[1]\nv9 = i1 * r115[1]\nr115.append(v9)\nr115.append(i1)\nresistors.append(r115)\n\nv4 = i1 * r114[1]\nr114.append(v4)\nr114.append(i1)\nresistors.append(r114)\n\ni2 = i - i1\nv5 = i2 * r109[1]\nr109.append(v5)\nr109.append(i2)\nresistors.append(r109)\n\nv6 = i2 * r110[1]\nr110.append(v6)\nr110.append(i2)\nresistors.append(r110)\n\nv7 = v3 - v5 - v6\ni3 = v7/r112[1]\nr112.append(v7)\nr112.append(i3)\nresistors.append(r112)\n\ni4 = v7/r113[1]\nr113.append(v7)\nr113.append(i4)\nresistors.append(r113)\n\ni5 = i2 - i3 - i4\nv8 = i5 * r108[1]\nr108.append(v8)\nr108.append(i5)\nresistors.append(r108)\n\nv8 = i5 * r107[1]\nr107.append(v8)\nr107.append(i5)\nresistors.append(r107)\n\nv8 = i5 * r111[1]\nr111.append(v8)\nr111.append(i5)\nresistors.append(r111)\n\nheader = print('R(ohms)\\t\\t\\tV(Volts)\\t\\tI(Amps)\\n')\nfor r in resistors:\n    print(f'{r[0]}({r[1]:5.2f})\\t\\t{r[2]:5.2f}\\t\\t{r[3]:5.2f}\\n')",
      "execution_count": 43,
      "outputs": [
        {
          "output_type": "stream",
          "text": "R1(ohms)\t\t\tR2(ohms\t\t\tS/P\tReq(ohms)\n\nr111(10.00)\t\tr107(10.00)\t\ts\t\t[r111, r107](20.00)\n\n[r111, r107](20.00)\t\tr108(10.00)\t\ts\t\t[[r111, r107], r108](30.00)\n\n[[r111, r107], r108](30.00)\t\tr113(10.00)\t\tp\t\t[[[r111, r107], r108], r113]( 7.50)\n\n[[[r111, r107], r108], r113]( 7.50)\t\tr112(10.00)\t\tp\t\t[[[[r111, r107], r108], r113], r112]( 4.29)\n\n[[[[r111, r107], r108], r113], r112]( 4.29)\t\tr110(10.00)\t\ts\t\t[[[[[r111, r107], r108], r113], r112], r110](14.29)\n\n[[[[[r111, r107], r108], r113], r112], r110](14.29)\t\tr109(10.00)\t\ts\t\t[[[[[[r111, r107], r108], r113], r112], r110], r109](24.29)\n\nr115(10.00)\t\tr114(10.00)\t\ts\t\t[r115, r114](20.00)\n\n[[[[[[r111, r107], r108], r113], r112], r110], r109](24.29)\t\t[r115, r114](20.00)\t\tp\t\t[[[[[[[r111, r107], r108], r113], r112], r110], r109], [r115, r114]](10.97)\n\n[[[[[[[r111, r107], r108], r113], r112], r110], r109], [r115, r114]](10.97)\t\tr117(10.00)\t\ts\t\t[[[[[[[[r111, r107], r108], r113], r112], r110], r109], [r115, r114]], r117](20.97)\n\n[[[[[[[[r111, r107], r108], r113], r112], r110], r109], [r115, r114]], r117](20.97)\t\tr116(10.00)\t\ts\t\t[[[[[[[[[r111, r107], r108], r113], r112], r110], r109], [r115, r114]], r117], r116](30.97)\n\nThe equivalent resistance is 30.97\n\nThe total current is 0.32\n\nR(ohms)\t\t\tV(Volts)\t\tI(Amps)\n\nr116(10.00)\t\t 3.23\t\t 0.32\n\nr117(10.00)\t\t 3.23\t\t 0.32\n\nr115(10.00)\t\t 1.77\t\t 0.18\n\nr114(10.00)\t\t 1.77\t\t 0.18\n\nr109(10.00)\t\t 1.46\t\t 0.15\n\nr110(10.00)\t\t 1.46\t\t 0.15\n\nr112(10.00)\t\t 0.63\t\t 0.06\n\nr113(10.00)\t\t 0.63\t\t 0.06\n\nr108(10.00)\t\t 0.21\t\t 0.02\n\nr107(10.00)\t\t 0.21\t\t 0.02\n\nr111(10.00)\t\t 0.21\t\t 0.02\n\n",
          "name": "stdout"
        }
      ]
    },
    {
      "metadata": {
        "trusted": true
      },
      "cell_type": "code",
      "source": "help(Resistor_Simplification)\nresistors = [['r116', 10], \\\n             ['r117', 10], \\\n             ['r115', 10], \\\n             ['r114', 10],\\\n             ['r109', 10], \\\n             ['r110', 10], \\\n             ['r112', 10], \\\n             ['r113', 10], \\\n             ['r108', 10],\\\n             ['r107', 10],\\\n             ['r111', 10]] \nheader = print('R1(ohms)\\t\\tR2(ohms)\\t\\tS/P\\t\\tReq(ohms)\\n')\nr = Resistor_Simplification(resistors[-1], resistors[-2], 's')\nr = Resistor_Simplification(r, resistors[-3], 's')\nr = Resistor_Simplification(r, resistors[-4], 'p')\nr = Resistor_Simplification(r, resistors[-5], 'p')\nr = Resistor_Simplification(r, resistors[5], 's')\nr = Resistor_Simplification(r, resistors[4], 's')\nr1 = Resistor_Simplification(resistors[2], resistors[3], 's')\nr = Resistor_Simplification(r, r1, 'p')\nr = Resistor_Simplification(r, resistors[1], 's')\nr = Resistor_Simplification(r, resistors[0], 's')\nprint(f'The equivalent resistance is {r[1]:.2f}')\n      \ni = 10/r[1]\nprint(f'The total current is {i:.2f}')",
      "execution_count": 30,
      "outputs": [
        {
          "output_type": "stream",
          "text": "Help on function Resistor_Simplification in module __main__:\n\nResistor_Simplification(r1, r2, c)\n\nR1(ohms)\t\tR2(ohms)\t\tS/P\t\tReq(ohms)\n\nr111(10.00)\t\tr107(10.00)\t\ts\t\t[r111, r107](20.00)\n\n[r111, r107](20.00)\t\tr108(10.00)\t\ts\t\t[[r111, r107], r108](30.00)\n\n[[r111, r107], r108](30.00)\t\tr113(10.00)\t\tp\t\t[[[r111, r107], r108], r113]( 7.50)\n\n[[[r111, r107], r108], r113]( 7.50)\t\tr112(10.00)\t\tp\t\t[[[[r111, r107], r108], r113], r112]( 4.29)\n\n[[[[r111, r107], r108], r113], r112]( 4.29)\t\tr110(10.00)\t\ts\t\t[[[[[r111, r107], r108], r113], r112], r110](14.29)\n\n[[[[[r111, r107], r108], r113], r112], r110](14.29)\t\tr109(10.00)\t\ts\t\t[[[[[[r111, r107], r108], r113], r112], r110], r109](24.29)\n\nr115(10.00)\t\tr114(10.00)\t\ts\t\t[r115, r114](20.00)\n\n[[[[[[r111, r107], r108], r113], r112], r110], r109](24.29)\t\t[r115, r114](20.00)\t\tp\t\t[[[[[[[r111, r107], r108], r113], r112], r110], r109], [r115, r114]](10.97)\n\n[[[[[[[r111, r107], r108], r113], r112], r110], r109], [r115, r114]](10.97)\t\tr117(10.00)\t\ts\t\t[[[[[[[[r111, r107], r108], r113], r112], r110], r109], [r115, r114]], r117](20.97)\n\n[[[[[[[[r111, r107], r108], r113], r112], r110], r109], [r115, r114]], r117](20.97)\t\tr116(10.00)\t\ts\t\t[[[[[[[[[r111, r107], r108], r113], r112], r110], r109], [r115, r114]], r117], r116](30.97)\n\nThe equivalent resistance is 30.97\nThe total current is 0.32\n",
          "name": "stdout"
        }
      ]
    },
    {
      "metadata": {},
      "cell_type": "markdown",
      "source": "***"
    }
  ],
  "metadata": {
    "kernelspec": {
      "name": "python36",
      "display_name": "Python 3.6",
      "language": "python"
    },
    "language_info": {
      "mimetype": "text/x-python",
      "nbconvert_exporter": "python",
      "name": "python",
      "pygments_lexer": "ipython3",
      "version": "3.6.6",
      "file_extension": ".py",
      "codemirror_mode": {
        "version": 3,
        "name": "ipython"
      }
    }
  },
  "nbformat": 4,
  "nbformat_minor": 2
}