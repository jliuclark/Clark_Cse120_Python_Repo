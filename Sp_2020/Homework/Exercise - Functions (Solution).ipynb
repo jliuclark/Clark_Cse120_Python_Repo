{
  "cells": [
    {
      "metadata": {
        "collapsed": true
      },
      "cell_type": "markdown",
      "source": "# Exercises - Functions (60 pts)"
    },
    {
      "metadata": {},
      "cell_type": "markdown",
      "source": "Name: Solution"
    },
    {
      "metadata": {},
      "cell_type": "markdown",
      "source": "1. Change notebook name to include your name. For example, Exercises - Functions(Jing Liu)\n2. Type your answers in the code cells below. \n    - A code cell can contain multiple lines of code. \n    - You need to run the cell to verify the answers. \n    - Make sure to match the answers in the same order of questions."
    },
    {
      "metadata": {},
      "cell_type": "markdown",
      "source": "***"
    },
    {
      "metadata": {},
      "cell_type": "markdown",
      "source": "**Celsius to Fahrenheit Convertor (20 pts)**\n\nUse the 1st cell to define a function named as `Celsius_to_Fahrenheit` that \n- Takes temperature in Celsius as argument\n- Converts and **returns** Celsius to Fahrenheit\n- Use **document string** clearly specify what this function does, argument and return value\n\nUse the 2nd cell to write a main program that\n- Use help(Celsius_to_Fahrenheit) to verify the documentation for this function\n- Takes temperature in Celsius input from users\n- Call `Celsius_to_Fahrenheit` to get the temperature in Fahrenheit\n- Print out the Fahrenheit values as **integers**. _Example output: 1 Celsius degree -> 33 Fahrenheit degree_\n\n\nHint: Formula - f = 9/5*c + 32 Assume: For c = 0,1,2,3,4,5, f = 32, 33, 35, 37, 39, 41"
    },
    {
      "metadata": {
        "trusted": true
      },
      "cell_type": "code",
      "source": "def Celsius_to_Fehrenheit(c):\n    \"\"\"\n    A function that converts Celsius to Fehrenheit and return the Fehrenheit result  \n      \n    Arguments:\n        c(int or float):degree in Celsius       \n    Returns:\n        float: result of converted Fehrenheit\n    \"\"\"\n    return ((9/5) * float(c) + 32)  ",
      "execution_count": 1,
      "outputs": []
    },
    {
      "metadata": {
        "trusted": true
      },
      "cell_type": "code",
      "source": "help(Celsius_to_Fehrenheit)\nc = input (\"Enter a Celsius degree: \")\nf = Celsius_to_Fehrenheit(c)\nprint(str(c) + \" Celsius degree -> \" + str(int(f)) + \" Fahrenheit degree\")",
      "execution_count": 2,
      "outputs": [
        {
          "output_type": "stream",
          "text": "Help on function Celsius_to_Fehrenheit in module __main__:\n\nCelsius_to_Fehrenheit(c)\n    A function that converts Celsius to Fehrenheit and return the Fehrenheit result  \n      \n    Arguments:\n        c(int or float):degree in Celsius       \n    Returns:\n        float: result of converted Fehrenheit\n\nEnter a Celsius degree: 0\n0 Celsius degree -> 32 Fahrenheit degree\n",
          "name": "stdout"
        }
      ]
    },
    {
      "metadata": {},
      "cell_type": "markdown",
      "source": "***"
    },
    {
      "metadata": {},
      "cell_type": "markdown",
      "source": "**Built-in functions (10 pts)**\nWrite a program that asks for a word from the user using input() and convert it to binary and hex. Hint: you can google or use help() to find out the usage of ord(), hex() and bin() functions. For example: \n\n_Enter a word: abc_\n\nExpected Output:\n\n_Word is: abc_\n\n_In hex: 0x61 0x62 0x63_\n\n_In binary: 0b1100001 0b1100010 0b1100011_"
    },
    {
      "metadata": {
        "trusted": true
      },
      "cell_type": "code",
      "source": "word = input(\"Enter a word: \")\nprint(\"Word is: \" + word)\nh = \"\"\nb = \"\"\n\nfor x in word:\n    h += hex(ord(x)) + \" \"\n    b += bin(ord(x)) + \" \"\n\nprint(\"In hex: \" + h)\nprint(\"In binray: \" + b)",
      "execution_count": 27,
      "outputs": [
        {
          "output_type": "stream",
          "name": "stdout",
          "text": "Enter a word: abc\nWord is: abc\nIn hex: 0x61 0x62 0x63 \nIn binray: 0b1100001 0b1100010 0b1100011 \n"
        }
      ]
    },
    {
      "metadata": {},
      "cell_type": "markdown",
      "source": "***"
    },
    {
      "metadata": {},
      "cell_type": "markdown",
      "source": "**Letter Grade Convertor (30 pts)**\n\nUse the 1st cell to define a function named as `Raw_to_Letter_Grade` that \n- Takes raw grade as argument\n- You can assume the input passed in as raw grade are integers, but you need to validate if raw grade is beyond (0,100) are `Invalid`\n- Converts and **returns** Letter grade, based on the following algorithm (all range is inclusive):\n    * Letter Grade:\tPercentage\n    * A:\t90%-100%\n    * B:\t80%-89%\n    * C:\t70%-79%\n    * D:\t60%-69%\n    * F:\t0%-59%\n    * Invalid: other\n\nUse the 2nd cell to write a main program that\n- Creat a list for the grade roster with 10 students and their raw grade, as _[Elsa, 98], [Oscar, -6], [Jonny, 70], [Sophia, 89], [Fiona, 60] , [Zach, 69], [Wendy,100], [Kevin, 105], [Regis, 80], [Reina, 79]\n- Call `Raw_to_Letter_Grade` to get the lettered grade for **each** student\n- Print out the grade for whole class as following format as a **table**(including the header): \n\n    No.  Name        Raw        Letter\n    1.   Elsa        98               A\n    2.   Oscar       85               B\n  \n    ..."
    },
    {
      "metadata": {
        "trusted": true
      },
      "cell_type": "code",
      "source": "def Raw_to_Letter_Grade(raw):\n    if raw >=0 and raw <=100:\n        if raw >= 90:\n            letter = \"A\"\n        elif raw >= 80:    \n            letter = \"B\"\n        elif raw >= 70:\n            letter = \"C\"\n        elif raw >= 60:\n            letter = \"D\"\n        else:                 \n            letter = \"F\"\n    else:\n        letter = 'Invalid'\n    return letter",
      "execution_count": 25,
      "outputs": []
    },
    {
      "metadata": {
        "trusted": true
      },
      "cell_type": "code",
      "source": "grade_roster = [['Elsa', 98], ['Oscar', -6], ['Jonny', 70], ['Sophia', 89], ['Fiona', 60] , \n                ['Zach', 69], ['Wendy',100], ['Kevin', 105], ['Regis', 80], ['Reina', 79]]\nprint(\"{}\\t{}\\t{}\\t{}\".format('No.', 'Name', 'Raw', 'Letter'))\nnumber = 0\nfor student in grade_roster:\n    number += 1\n    name = student[0]\n    raw = student[1]\n    letter = Raw_to_Letter_Grade(raw)\n    print(\"{}\\t{}\\t{}\\t{}\".format(number, name, raw, letter))",
      "execution_count": 26,
      "outputs": [
        {
          "output_type": "stream",
          "text": "No.\tName\tRaw\tLetter\n1\tElsa\t98\tA\n2\tOscar\t-6\tInvalid\n3\tJonny\t70\tC\n4\tSophia\t89\tB\n5\tFiona\t60\tD\n6\tZach\t69\tD\n7\tWendy\t100\tA\n8\tKevin\t105\tInvalid\n9\tRegis\t80\tB\n10\tReina\t79\tC\n",
          "name": "stdout"
        }
      ]
    },
    {
      "metadata": {},
      "cell_type": "markdown",
      "source": "***"
    }
  ],
  "metadata": {
    "kernelspec": {
      "name": "python36",
      "display_name": "Python 3.6",
      "language": "python"
    },
    "language_info": {
      "mimetype": "text/x-python",
      "nbconvert_exporter": "python",
      "name": "python",
      "pygments_lexer": "ipython3",
      "version": "3.6.6",
      "file_extension": ".py",
      "codemirror_mode": {
        "version": 3,
        "name": "ipython"
      }
    }
  },
  "nbformat": 4,
  "nbformat_minor": 2
}