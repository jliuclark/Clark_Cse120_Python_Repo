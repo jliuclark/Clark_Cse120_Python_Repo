{
  "cells": [
    {
      "metadata": {
        "collapsed": true,
        "slideshow": {
          "slide_type": "fragment"
        }
      },
      "cell_type": "markdown",
      "source": "# Project - Resistor Decode Automation (40 pts)"
    },
    {
      "metadata": {},
      "cell_type": "markdown",
      "source": "Name: Solution"
    },
    {
      "metadata": {},
      "cell_type": "markdown",
      "source": "1. Change notebook name to include your name. For example, Exercises - Resistor Decode Automation(Jing Liu)\n2. Type your answers in the code cells below. \n    - A code cell can contain multiple lines of code. \n    - You need to run the cell to verify the answers. \n    - Make sure to match the answers in the same order of questions."
    },
    {
      "metadata": {},
      "cell_type": "markdown",
      "source": "***"
    },
    {
      "metadata": {},
      "cell_type": "markdown",
      "source": "**Resistor Decode Automation (40 pts)**\n\nOne of the most important uses of Python is **automation**. Python can help us automate repetitious and tedious work, such as resistor decode in the _Resistor Decode_ Quiz.\n\n(20 pts) Use the 1st cell to define a function named as `Resistor_Decode` that \n- Takes 4 color bands on a resistor as arguments, \n- Converts and **returns** a list containing the norminal value and tolerance in ohms of this resistor\n- Use **document string** clearly specify what this function does, arguments and return value\n- Feel free to define any other functions as building blocks\n\n(20 pts) Use the 2nd cell to write a main program that\n- Make a list of resistors with bands for all the questions you got from Resistor Decode Quiz, as follows: \n\n`resistors = [['Red', 'Red', 'Red', 'Gold'], \\\n             ['Brown', 'Black', 'Black', 'Silver'], \\\n             ['Orange', 'Yellow', 'Green', 'None'], \\\n             ['Green', 'Black', 'Green', 'Silver'],\\\n             ['Violet', 'Green', 'Blue', 'Gold'], \\\n             ['Brown', 'Green', 'Orange', 'None'], \\\n             ['Red', 'Orange', 'Yellow', 'Silver'], \\\n             ['Blue', 'Black', 'Blue', 'Gold'], \\\n             ['Brown', 'Black', 'Green', 'Silver']]`\n             \n- Use `Resistor_Decode` you defined in first cell to get the resistor norminal value and tolerance in ohms for each resistor from the list `resistors`\n- Display the result of the resistor value as **two places** after decimal point for each resistor with a table, including header\n\n_Example output:_\n\n_Resitor Color Bands\t\tNorminal\tTolerance_\n\n_Red, Red, Red, Gold\t\t2200.00\t\t110.00_\n\n...\n\n- Testing: `resistors` list also serves as test cases for the function you defined for resistor decode. Verify the output is consistent with manual calculation from _Resistor Decode_ Quiz."
    },
    {
      "metadata": {
        "trusted": true
      },
      "cell_type": "code",
      "source": "def my_function()\ndef Resistor_Decode(first, second, third, fourth)",
      "execution_count": null,
      "outputs": []
    },
    {
      "metadata": {
        "trusted": true
      },
      "cell_type": "code",
      "source": "",
      "execution_count": null,
      "outputs": []
    },
    {
      "metadata": {},
      "cell_type": "markdown",
      "source": "***"
    }
  ],
  "metadata": {
    "kernelspec": {
      "name": "python36",
      "display_name": "Python 3.6",
      "language": "python"
    },
    "language_info": {
      "mimetype": "text/x-python",
      "nbconvert_exporter": "python",
      "name": "python",
      "pygments_lexer": "ipython3",
      "version": "3.6.6",
      "file_extension": ".py",
      "codemirror_mode": {
        "version": 3,
        "name": "ipython"
      }
    }
  },
  "nbformat": 4,
  "nbformat_minor": 2
}