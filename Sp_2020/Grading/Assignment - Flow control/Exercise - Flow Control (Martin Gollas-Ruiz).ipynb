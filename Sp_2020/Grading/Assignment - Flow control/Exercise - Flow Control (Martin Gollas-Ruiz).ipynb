{
 "cells": [
  {
   "cell_type": "markdown",
   "metadata": {
    "collapsed": true
   },
   "source": [
    "# Exercises - Flow Control (45 pts)"
   ]
  },
  {
   "cell_type": "markdown",
   "metadata": {},
   "source": [
    "Martin Gollas"
   ]
  },
  {
   "cell_type": "markdown",
   "metadata": {},
   "source": [
    "1. Change notebook name to include your name. For example, Exercises - Flow Control(Jing Liu)\n",
    "2. Type your answers in the code cells below. \n",
    "    - A code cell can contain multiple lines of code. \n",
    "    - You need to run the cell to verify the answers. \n",
    "    - Make sure to match the answers in the same order of questions."
   ]
  },
  {
   "cell_type": "markdown",
   "metadata": {},
   "source": [
    "***"
   ]
  },
  {
   "cell_type": "markdown",
   "metadata": {},
   "source": [
    "## `if` Statements"
   ]
  },
  {
   "cell_type": "markdown",
   "metadata": {},
   "source": [
    "(10 pts) Write an program that asks the user to key in their breakfast choice, and make use of `if` statements and returns the price of a breakfast menu option. If the user ask for anything apart from the following choices, return \"Not part of the breakfast choice\". Hint: google or run `help(input)` for the use of `input()` to get user input.\n",
    "\n",
    "- muffin, 1.99\n",
    " \n",
    "- chicken, 2.99\n",
    " \n",
    "- egg, 2.89\n",
    " \n",
    "- toast, 3.50\n",
    "\n",
    "Example output: \n",
    "\n",
    "_Breakfast choice(muffin, chicken, egg or toast): egg_\n",
    "\n",
    "_2.89_"
   ]
  },
  {
   "cell_type": "code",
   "execution_count": null,
   "metadata": {},
   "outputs": [],
   "source": [
    "choice = input(\"breakfast choice?: \")\n",
    "if choice == \"muffin\":\n",
    "    print(1.99)\n",
    "elif choice == \"chicken\":\n",
    "    print(2.99)\n",
    "elif choice == \"egg\":\n",
    "    print(2.89)\n",
    "elif choice == \"toast\":\n",
    "    print(3.50)\n",
    "else:\n",
    "    print(\"Not part of the breakfast choice, sorry\")"
   ]
  },
  {
   "cell_type": "markdown",
   "metadata": {},
   "source": [
    "## Loop"
   ]
  },
  {
   "cell_type": "markdown",
   "metadata": {},
   "source": [
    "(10 pts) Use `for` loop, write a program that finds numbers which are divisible by 13 but are not a multiple of 3, between 100 and 200 (**inclusive**). Print the result on screen"
   ]
  },
  {
   "cell_type": "code",
   "execution_count": null,
   "metadata": {},
   "outputs": [],
   "source": [
    "for oo in range(100, 200):\n",
    "    if (oo % 13==0) & (oo % 3 != 0):\n",
    "        print(oo)"
   ]
  },
  {
   "cell_type": "markdown",
   "metadata": {},
   "source": [
    "(10 pts) Rewrite the program above use a `while` loop"
   ]
  },
  {
   "cell_type": "code",
   "execution_count": null,
   "metadata": {},
   "outputs": [],
   "source": [
    "while oo in range(100, 200):\n",
    "    if (oo % 13==0) & (oo % 3 != 0):\n",
    "        print(oo)"
   ]
  },
  {
   "cell_type": "markdown",
   "metadata": {},
   "source": [
    "(15 pts) `range()` is a powerful function. Google or use `help(range)` to learn how to sse `range()` to generate the following lists:\n",
    "\n",
    "1. A list starting from 15 and ends at 21\n",
    "2. [101, 103, 105, 107, 109]\n",
    "3. [100, 96, 92, 88, 84]\n"
   ]
  },
  {
   "cell_type": "code",
   "execution_count": null,
   "metadata": {},
   "outputs": [],
   "source": [
    "list(range(15, 22))"
   ]
  },
  {
   "cell_type": "code",
   "execution_count": null,
   "metadata": {},
   "outputs": [],
   "source": [
    "list(range(101, 110, 2))"
   ]
  },
  {
   "cell_type": "code",
   "execution_count": null,
   "metadata": {},
   "outputs": [],
   "source": [
    "list(range(100, 80, -4))"
   ]
  },
  {
   "cell_type": "markdown",
   "metadata": {},
   "source": [
    "***"
   ]
  },
  {
   "cell_type": "code",
   "execution_count": null,
   "metadata": {},
   "outputs": [],
   "source": []
  }
 ],
 "metadata": {
  "kernelspec": {
   "display_name": "Python 3.6",
   "language": "python",
   "name": "python36"
  },
  "language_info": {
   "codemirror_mode": {
    "name": "ipython",
    "version": 3
   },
   "file_extension": ".py",
   "mimetype": "text/x-python",
   "name": "python",
   "nbconvert_exporter": "python",
   "pygments_lexer": "ipython3",
   "version": "3.6.6"
  }
 },
 "nbformat": 4,
 "nbformat_minor": 2
}
