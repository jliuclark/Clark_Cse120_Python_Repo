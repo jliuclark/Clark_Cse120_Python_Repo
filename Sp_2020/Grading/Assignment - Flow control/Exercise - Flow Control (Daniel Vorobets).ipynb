{
  "cells": [
    {
      "metadata": {
        "collapsed": true
      },
      "cell_type": "markdown",
      "source": "# Exercises - Flow Control (45 pts)"
    },
    {
      "metadata": {},
      "cell_type": "markdown",
      "source": "Name: Write your name here"
    },
    {
      "metadata": {},
      "cell_type": "markdown",
      "source": "1. Change notebook name to include your name. For example, Exercises - Flow Control(Jing Liu)\n2. Type your answers in the code cells below. \n    - A code cell can contain multiple lines of code. \n    - You need to run the cell to verify the answers. \n    - Make sure to match the answers in the same order of questions."
    },
    {
      "metadata": {},
      "cell_type": "markdown",
      "source": "***"
    },
    {
      "metadata": {},
      "cell_type": "markdown",
      "source": "## `if` Statements"
    },
    {
      "metadata": {},
      "cell_type": "markdown",
      "source": "(10 pts) Write an program that asks the user to key in their breakfast choice, and make use of `if` statements and returns the price of a breakfast menu option. If the user ask for anything apart from the following choices, return \"Not part of the breakfast choice\". Hint: google or run `help(input)` for the use of `input()` to get user input.\n\n- muffin, 1.99\n \n- chicken, 2.99\n \n- egg, 2.89\n \n- toast, 3.50\n\nExample output: \n\n_Breakfast choice(muffin, chicken, egg or toast): egg_\n\n_2.89_"
    },
    {
      "metadata": {
        "trusted": true
      },
      "cell_type": "code",
      "source": "breakfast = input(\"What is your breakfast choice? \")\nif(breakfast == \"muffin\"):\n    print(\"1.99\")\nelif(breakfast == \"chicken\"):\n    print(\"2.99\")\nelif(breakfast == \"egg\"):\n    print(\"2.89\")\nelif(breakfast == \"taost\"):\n    print(\"3.50\")\nelse:\n    print(\"Not part of the breakfast choice\")",
      "execution_count": 7,
      "outputs": [
        {
          "output_type": "stream",
          "name": "stdout",
          "text": "What is your breakfast choice? egg\n2.89\n"
        }
      ]
    },
    {
      "metadata": {},
      "cell_type": "markdown",
      "source": "## Loop"
    },
    {
      "metadata": {},
      "cell_type": "markdown",
      "source": "(10 pts) Use `for` loop, write a program that finds numbers which are divisible by 13 but are not a multiple of 3, between 100 and 200 (**inclusive**). Print the result on screen"
    },
    {
      "metadata": {
        "trusted": true
      },
      "cell_type": "code",
      "source": "x = 100\nfor x in range(100, 200):\n    if(x%13 == 0 and x%3 != 0):\n        print(x)",
      "execution_count": 8,
      "outputs": [
        {
          "output_type": "stream",
          "text": "104\n130\n143\n169\n182\n",
          "name": "stdout"
        }
      ]
    },
    {
      "metadata": {},
      "cell_type": "markdown",
      "source": "(10 pts) Rewrite the program above use a `while` loop"
    },
    {
      "metadata": {
        "trusted": true
      },
      "cell_type": "code",
      "source": "x = 100\nwhile(x < 200 and x >= 100):\n    if(x%13 == 0 and x%3 != 0):\n        print(x)\n    x += 1    ",
      "execution_count": 12,
      "outputs": [
        {
          "output_type": "stream",
          "text": "104\n130\n143\n169\n182\n",
          "name": "stdout"
        }
      ]
    },
    {
      "metadata": {},
      "cell_type": "markdown",
      "source": "(15 pts) `range()` is a powerful function. Google or use `help(range)` to learn how to sse `range()` to generate the following lists:\n\n1. A list starting from 15 and ends at 21\n2. [101, 103, 105, 107, 109]\n3. [100, 96, 92, 88, 84]\n"
    },
    {
      "metadata": {
        "trusted": true
      },
      "cell_type": "code",
      "source": "x = []\ny = 15\nfor y in range(15, 22):\n    x.append(y)\nprint(x)    ",
      "execution_count": 15,
      "outputs": [
        {
          "output_type": "stream",
          "text": "[15, 16, 17, 18, 19, 20, 21]\n",
          "name": "stdout"
        }
      ]
    },
    {
      "metadata": {
        "trusted": true
      },
      "cell_type": "code",
      "source": "r = []\nq = 101\nfor q in range(101, 110):\n    if(q%2 != 0):\n        r.append(q)\nprint(r)    ",
      "execution_count": 17,
      "outputs": [
        {
          "output_type": "stream",
          "text": "[101, 103, 105, 107, 109]\n",
          "name": "stdout"
        }
      ]
    },
    {
      "metadata": {
        "trusted": true
      },
      "cell_type": "code",
      "source": "w = []\nz = 100\nwhile (z in range(83, 101)):\n    if(z%4 == 0):\n        w.append(z)\n    z -= 1   \nprint(w)   ",
      "execution_count": 23,
      "outputs": [
        {
          "output_type": "stream",
          "text": "[100, 96, 92, 88, 84]\n",
          "name": "stdout"
        }
      ]
    },
    {
      "metadata": {},
      "cell_type": "markdown",
      "source": "***"
    }
  ],
  "metadata": {
    "kernelspec": {
      "name": "python36",
      "display_name": "Python 3.6",
      "language": "python"
    },
    "language_info": {
      "mimetype": "text/x-python",
      "nbconvert_exporter": "python",
      "name": "python",
      "pygments_lexer": "ipython3",
      "version": "3.6.6",
      "file_extension": ".py",
      "codemirror_mode": {
        "version": 3,
        "name": "ipython"
      }
    }
  },
  "nbformat": 4,
  "nbformat_minor": 2
}