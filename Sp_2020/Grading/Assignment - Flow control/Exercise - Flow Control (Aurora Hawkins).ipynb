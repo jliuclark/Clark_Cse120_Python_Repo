{
  "cells": [
    {
      "metadata": {
        "collapsed": true
      },
      "cell_type": "markdown",
      "source": "# Exercises - Flow Control (45 pts)"
    },
    {
      "metadata": {},
      "cell_type": "markdown",
      "source": "Name: Aurora Hawkins"
    },
    {
      "metadata": {},
      "cell_type": "markdown",
      "source": "1. Change notebook name to include your name. For example, Exercises - Flow Control(Jing Liu)\n2. Type your answers in the code cells below. \n    - A code cell can contain multiple lines of code. \n    - You need to run the cell to verify the answers. \n    - Make sure to match the answers in the same order of questions."
    },
    {
      "metadata": {},
      "cell_type": "markdown",
      "source": "***"
    },
    {
      "metadata": {},
      "cell_type": "markdown",
      "source": "## `if` Statements"
    },
    {
      "metadata": {},
      "cell_type": "markdown",
      "source": "(10 pts) Write an program that asks the user to key in their breakfast choice, and make use of `if` statements and returns the price of a breakfast menu option. If the user ask for anything apart from the following choices, return \"Not part of the breakfast choice\". Hint: google or run `help(input)` for the use of `input()` to get user input.\n\n- muffin, 1.99\n \n- chicken, 2.99\n \n- egg, 2.89\n \n- toast, 3.50\n\nExample output: \n\n_Breakfast choice(muffin, chicken, egg or toast): egg_\n\n_2.89_"
    },
    {
      "metadata": {
        "trusted": true
      },
      "cell_type": "code",
      "source": "result = str(input('Breakfast choice(muffin, chicken, egg or toast): '))\nanswer1='muffin'; answer2='chicken'; answer3='egg'; answer4='toast'\nif result==answer1:\n    print(1.99)\nelif result==answer2:\n    print(2.99)\nelif result==answer3:\n    print(2.89)\nelif result==answer4:\n    print(3.50)\nelse:\n    print('Not part of the breakfast choice')",
      "execution_count": 27,
      "outputs": [
        {
          "output_type": "stream",
          "name": "stdout",
          "text": "Breakfast choice(muffin, chicken, egg or toast): egg\n2.89\n"
        }
      ]
    },
    {
      "metadata": {},
      "cell_type": "markdown",
      "source": "## Loop"
    },
    {
      "metadata": {},
      "cell_type": "markdown",
      "source": "(10 pts) Use `for` loop, write a program that finds numbers which are divisible by 13 but are not a multiple of 3, between 100 and 200 (**inclusive**). Print the result on screen"
    },
    {
      "metadata": {
        "trusted": true
      },
      "cell_type": "code",
      "source": "for x in range (100,201):\n    if not(x%13) and (x%3):\n        print(x)",
      "execution_count": 4,
      "outputs": [
        {
          "output_type": "stream",
          "text": "104\n130\n143\n169\n182\n",
          "name": "stdout"
        }
      ]
    },
    {
      "metadata": {},
      "cell_type": "markdown",
      "source": "(10 pts) Rewrite the program above use a `while` loop"
    },
    {
      "metadata": {
        "trusted": true
      },
      "cell_type": "code",
      "source": "x=100",
      "execution_count": 5,
      "outputs": []
    },
    {
      "metadata": {
        "trusted": true
      },
      "cell_type": "code",
      "source": "while x<201:\n    if not(x%13) and (x%3):\n        print(x)\n    x = x + 1",
      "execution_count": 6,
      "outputs": [
        {
          "output_type": "stream",
          "text": "104\n130\n143\n169\n182\n",
          "name": "stdout"
        }
      ]
    },
    {
      "metadata": {
        "trusted": true
      },
      "cell_type": "code",
      "source": "",
      "execution_count": 21,
      "outputs": [
        {
          "output_type": "stream",
          "text": "No Python documentation found for 'i'.\nUse help() to get the interactive help utility.\nUse help(str) for help on the str class.\n\n",
          "name": "stdout"
        }
      ]
    },
    {
      "metadata": {},
      "cell_type": "markdown",
      "source": "***"
    }
  ],
  "metadata": {
    "kernelspec": {
      "name": "python36",
      "display_name": "Python 3.6",
      "language": "python"
    },
    "language_info": {
      "mimetype": "text/x-python",
      "nbconvert_exporter": "python",
      "name": "python",
      "pygments_lexer": "ipython3",
      "version": "3.6.6",
      "file_extension": ".py",
      "codemirror_mode": {
        "version": 3,
        "name": "ipython"
      }
    }
  },
  "nbformat": 4,
  "nbformat_minor": 2
}