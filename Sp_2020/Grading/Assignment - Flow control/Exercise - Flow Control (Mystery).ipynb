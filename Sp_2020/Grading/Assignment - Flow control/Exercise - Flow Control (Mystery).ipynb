{
  "cells": [
    {
      "metadata": {
        "collapsed": true
      },
      "cell_type": "markdown",
      "source": "# Exercises - Flow Control (45 pts)"
    },
    {
      "metadata": {
        "trusted": true
      },
      "cell_type": "markdown",
      "source": "Name: Mystery\n\n1. Change notebook name to include your name. For example, Exercises - Flow Control(Jing Liu)\n2. Type your answers in the code cells below. \n    - A code cell can contain multiple lines of code. \n    - You need to run the cell to verify the answers. \n    - Make sure to match the answers in the same order of questions."
    },
    {
      "metadata": {},
      "cell_type": "markdown",
      "source": "***"
    },
    {
      "metadata": {},
      "cell_type": "markdown",
      "source": "## `if` Statements"
    },
    {
      "metadata": {},
      "cell_type": "markdown",
      "source": "(10 pts) Write an program that asks the user to key in their breakfast choice, and make use of `if` statements and returns the price of a breakfast menu option. If the user ask for anything apart from the following choices, return \"Not part of the breakfast choice\". Hint: google or run `help(input)` for the use of `input()` to get user input.\n\n- muffin, 1.99\n \n- chicken, 2.99\n \n- egg, 2.89\n \n- toast, 3.50\n\nExample output: \n\n_Breakfast choice(muffin, chicken, egg or toast): egg_\n\n_2.89_"
    },
    {
      "metadata": {
        "trusted": true
      },
      "cell_type": "code",
      "source": "items = ['muffin','$1.99','chicken','$2.99','egg','$2.89','toast','$3.50']\nimport time\nsucess = 0\nprint(\"muffin, chicken, egg, or toast\")       \n\nwhile sucess == 0:\n    user = input('select food to calculate price: ')\n    if user in items:\n        print(\"The price of your\", user, \"is \", end = '')\n        print(items[items.index(user) + 1])\n        sucess = 1\n    else:\n        print(\"i didnt quite understand please try again\")\n        time.sleep(3)\n  ",
      "execution_count": 57,
      "outputs": [
        {
          "output_type": "stream",
          "text": "muffin, chicken, egg, or toast\nselect food to calculate price: fuck\ni didnt quite under stand try again\nselect food to calculate price: fuck\ni didnt quite under stand try again\nselect food to calculate price: muffin\nThe price of your muffin is $1.99\n",
          "name": "stdout"
        }
      ]
    },
    {
      "metadata": {},
      "cell_type": "markdown",
      "source": "## Loop"
    },
    {
      "metadata": {},
      "cell_type": "markdown",
      "source": "(10 pts) Use `for` loop, write a program that finds numbers which are divisible by 13 but are not a multiple of 3, between 100 and 200 (**inclusive**). Print the result on screen"
    },
    {
      "metadata": {
        "trusted": true
      },
      "cell_type": "code",
      "source": "for x in range(100,200):\n    if x % 13 == 0 and x % 3 != 0:\n        print(x // 13)",
      "execution_count": 83,
      "outputs": [
        {
          "output_type": "stream",
          "text": "8\n10\n11\n13\n14\n",
          "name": "stdout"
        }
      ]
    },
    {
      "metadata": {},
      "cell_type": "markdown",
      "source": "(10 pts) Rewrite the program above use a `while` loop"
    },
    {
      "metadata": {
        "trusted": true
      },
      "cell_type": "code",
      "source": "x = 100\nwhile x<200:\n    x= x+1\n    if x % 13 == 0 and x % 3 != 0:\n        print(x // 13)",
      "execution_count": 88,
      "outputs": [
        {
          "output_type": "stream",
          "text": "8\n10\n11\n13\n14\n",
          "name": "stdout"
        }
      ]
    },
    {
      "metadata": {},
      "cell_type": "markdown",
      "source": "(15 pts) `range()` is a powerful function. Google or use `help(range)` to learn how to sse `range()` to generate the following lists:\n\n1. A list starting from 15 and ends at 21\n2. [101, 103, 105, 107, 109]\n3. [100, 96, 92, 88, 84]\n"
    },
    {
      "metadata": {
        "trusted": true
      },
      "cell_type": "code",
      "source": "x = range(15,21,1)\nfor n in x:\n    print(n)",
      "execution_count": 91,
      "outputs": [
        {
          "output_type": "stream",
          "text": "15\n16\n17\n18\n19\n20\n",
          "name": "stdout"
        }
      ]
    },
    {
      "metadata": {
        "trusted": true
      },
      "cell_type": "code",
      "source": "x = range(101,109,2)\nfor n in x:\n    print(n)",
      "execution_count": 92,
      "outputs": [
        {
          "output_type": "stream",
          "text": "101\n103\n105\n107\n",
          "name": "stdout"
        }
      ]
    },
    {
      "metadata": {
        "trusted": true
      },
      "cell_type": "code",
      "source": "x = range(100,84,-4)\nfor n in x:\n    print(n)",
      "execution_count": 95,
      "outputs": [
        {
          "output_type": "stream",
          "text": "100\n96\n92\n88\n",
          "name": "stdout"
        }
      ]
    },
    {
      "metadata": {},
      "cell_type": "markdown",
      "source": "***"
    }
  ],
  "metadata": {
    "kernelspec": {
      "name": "python36",
      "display_name": "Python 3.6",
      "language": "python"
    },
    "language_info": {
      "mimetype": "text/x-python",
      "nbconvert_exporter": "python",
      "name": "python",
      "pygments_lexer": "ipython3",
      "version": "3.6.6",
      "file_extension": ".py",
      "codemirror_mode": {
        "version": 3,
        "name": "ipython"
      }
    }
  },
  "nbformat": 4,
  "nbformat_minor": 2
}