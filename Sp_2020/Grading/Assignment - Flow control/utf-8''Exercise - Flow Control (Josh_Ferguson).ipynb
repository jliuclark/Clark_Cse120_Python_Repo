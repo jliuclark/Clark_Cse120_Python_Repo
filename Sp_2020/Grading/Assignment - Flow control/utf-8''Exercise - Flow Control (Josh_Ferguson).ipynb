{
  "cells": [
    {
      "metadata": {
        "collapsed": true
      },
      "cell_type": "markdown",
      "source": "# Exercises - Flow Control (45 pts)"
    },
    {
      "metadata": {},
      "cell_type": "markdown",
      "source": "Name: Write your name here"
    },
    {
      "metadata": {},
      "cell_type": "markdown",
      "source": "1. Change notebook name to include your name. For example, Exercises - Flow Control(Jing Liu)\n2. Type your answers in the code cells below. \n    - A code cell can contain multiple lines of code. \n    - You need to run the cell to verify the answers. \n    - Make sure to match the answers in the same order of questions."
    },
    {
      "metadata": {},
      "cell_type": "markdown",
      "source": "***"
    },
    {
      "metadata": {},
      "cell_type": "markdown",
      "source": "## `if` Statements"
    },
    {
      "metadata": {},
      "cell_type": "markdown",
      "source": "(10 pts) Write an program that asks the user to key in their breakfast choice, and make use of `if` statements and returns the price of a breakfast menu option. If the user ask for anything apart from the following choices, return \"Not part of the breakfast choice\". Hint: google or run `help(input)` for the use of `input()` to get user input.\n\n- muffin, 1.99\n \n- chicken, 2.99\n \n- egg, 2.89\n \n- toast, 3.50\n\nExample output: \n\n_Breakfast choice(muffin, chicken, egg or toast): egg_\n\n_2.89_"
    },
    {
      "metadata": {
        "trusted": true
      },
      "cell_type": "code",
      "source": "yum = input(\"What is your favorite of the following breakfast items? Muffin, chicken, egg, toast? \")\nif yum == 'muffin':\n    print(1.99)\nelif yum == 'chicken':\n    print(2.99)\nelif yum == 'egg':\n    print(2.89)\nelif yum == 'toast':\n    print(3.50)\nelse:\n    print('Not part of the breakfast choice')",
      "execution_count": 3,
      "outputs": [
        {
          "output_type": "stream",
          "name": "stdout",
          "text": "What is your favorite of the following breakfast items? Muffin, chicken, egg, toast? muffin\n1.99\n"
        }
      ]
    },
    {
      "metadata": {},
      "cell_type": "markdown",
      "source": "## Loop"
    },
    {
      "metadata": {},
      "cell_type": "markdown",
      "source": "(10 pts) Use `for` loop, write a program that finds numbers which are divisible by 13 but are not a multiple of 3, between 100 and 200 (**inclusive**). Print the result on screen"
    },
    {
      "metadata": {
        "trusted": true,
        "scrolled": true
      },
      "cell_type": "code",
      "source": "for my_num in range(100,200):\n    if my_num % 13 == 0 and my_num % 3 != 0:\n        print(my_num)",
      "execution_count": 4,
      "outputs": [
        {
          "output_type": "stream",
          "text": "104\n130\n143\n169\n182\n",
          "name": "stdout"
        }
      ]
    },
    {
      "metadata": {},
      "cell_type": "markdown",
      "source": "(10 pts) Rewrite the program above use a `while` loop"
    },
    {
      "metadata": {
        "trusted": true
      },
      "cell_type": "code",
      "source": "my_num = 100\nwhile my_num <= 200:\n    if my_num % 13 == 0 and my_num % 3 != 0:\n        print(my_num)\n    my_num = my_num + 1\n    ",
      "execution_count": 5,
      "outputs": [
        {
          "output_type": "stream",
          "text": "104\n130\n143\n169\n182\n",
          "name": "stdout"
        }
      ]
    },
    {
      "metadata": {},
      "cell_type": "markdown",
      "source": "(15 pts) `range()` is a powerful function. Google or use `help(range)` to learn how to sse `range()` to generate the following lists:\n\n1. A list starting from 15 and ends at 21\n2. [101, 103, 105, 107, 109]\n3. [100, 96, 92, 88, 84]\n"
    },
    {
      "metadata": {
        "trusted": true
      },
      "cell_type": "code",
      "source": "for n in range(15,21):\n    print(n)",
      "execution_count": 6,
      "outputs": [
        {
          "output_type": "stream",
          "text": "15\n16\n17\n18\n19\n20\n",
          "name": "stdout"
        }
      ]
    },
    {
      "metadata": {
        "trusted": true
      },
      "cell_type": "code",
      "source": "for x in range(101,110,2):\n    print(x)\n    x = x + 2",
      "execution_count": 7,
      "outputs": [
        {
          "output_type": "stream",
          "text": "101\n103\n105\n107\n109\n",
          "name": "stdout"
        }
      ]
    },
    {
      "metadata": {
        "trusted": true
      },
      "cell_type": "code",
      "source": "for l in range(100,83,-4):\n    print(l)",
      "execution_count": 8,
      "outputs": [
        {
          "output_type": "stream",
          "text": "100\n96\n92\n88\n84\n",
          "name": "stdout"
        }
      ]
    },
    {
      "metadata": {},
      "cell_type": "markdown",
      "source": "***"
    }
  ],
  "metadata": {
    "kernelspec": {
      "name": "python36",
      "display_name": "Python 3.6",
      "language": "python"
    },
    "language_info": {
      "mimetype": "text/x-python",
      "nbconvert_exporter": "python",
      "name": "python",
      "pygments_lexer": "ipython3",
      "version": "3.6.6",
      "file_extension": ".py",
      "codemirror_mode": {
        "version": 3,
        "name": "ipython"
      }
    }
  },
  "nbformat": 4,
  "nbformat_minor": 2
}