{
  "cells": [
    {
      "metadata": {
        "collapsed": true
      },
      "cell_type": "markdown",
      "source": "# Exercises - Flow Control (45 pts)"
    },
    {
      "metadata": {},
      "cell_type": "markdown",
      "source": "Name: Benjamin Salisbury"
    },
    {
      "metadata": {},
      "cell_type": "markdown",
      "source": "1. Change notebook name to include your name. For example, Exercises - Flow Control(Jing Liu)\n2. Type your answers in the code cells below. \n    - A code cell can contain multiple lines of code. \n    - You need to run the cell to verify the answers. \n    - Make sure to match the answers in the same order of questions."
    },
    {
      "metadata": {},
      "cell_type": "markdown",
      "source": "***"
    },
    {
      "metadata": {},
      "cell_type": "markdown",
      "source": "## `if` Statements"
    },
    {
      "metadata": {},
      "cell_type": "markdown",
      "source": "(10 pts) Write an program that asks the user to key in their breakfast choice, and make use of `if` statements and returns the price of a breakfast menu option. If the user ask for anything apart from the following choices, return \"Not part of the breakfast choice\". Hint: google or run `help(input)` for the use of `input()` to get user input.\n\n- muffin, 1.99\n \n- chicken, 2.99\n \n- egg, 2.89\n \n- toast, 3.50\n\nExample output: \n\n_Breakfast choice(muffin, chicken, egg or toast): egg_\n\n_2.89_"
    },
    {
      "metadata": {
        "trusted": true
      },
      "cell_type": "code",
      "source": "while True:\n        \n    choice = input(\"Breakfast choice(muffin, chicken, egg or toast):\")\n            \n    if choice== 'muffin':\n        print (\"1.99\")\n    elif choice == 'chicken':\n        print (\"2.99\")\n    elif choice == 'egg':\n        print (\"2.89\")\n    elif choice ==  'toast':\n        print ('3.50')\n    else:\n        print (\"Not part of the breakfast choice\")\n",
      "execution_count": null,
      "outputs": []
    },
    {
      "metadata": {},
      "cell_type": "markdown",
      "source": "## Loop"
    },
    {
      "metadata": {},
      "cell_type": "markdown",
      "source": "(10 pts) Use `for` loop, write a program that finds numbers which are divisible by 13 but are not a multiple of 3, between 100 and 200 (**inclusive**). Print the result on screen"
    },
    {
      "metadata": {
        "trusted": true
      },
      "cell_type": "code",
      "source": "for num in range (100,200):\n    if num % 13 == 0 and num % 3 != 0:\n        print (num)\n        \n        #this one works on computer both in idle and script. I don't know why its not printing here. Same with the one above",
      "execution_count": null,
      "outputs": []
    },
    {
      "metadata": {},
      "cell_type": "markdown",
      "source": "(10 pts) Rewrite the program above use a `while` loop"
    },
    {
      "metadata": {
        "trusted": false
      },
      "cell_type": "code",
      "source": "num = [*range(100,200)]\nwhile True:\n    if num % 13 == 0 and num % 3 != 0: \n        print (num)\n        \n        ### so with this one I'm having trouble getting it going. I don't think I'll have it done by class and so I'll end up turning it in anyways. However, I will continue to try and figure this one out. \n        # this isn't the way to do it I know and I have a few different tries on my computer.",
      "execution_count": null,
      "outputs": []
    },
    {
      "metadata": {},
      "cell_type": "markdown",
      "source": "(15 pts) `range()` is a powerful function. Google or use `help(range)` to learn how to sse `range()` to generate the following lists:\n\n1. A list starting from 15 and ends at 21\n2. [101, 103, 105, 107, 109]\n3. [100, 96, 92, 88, 84]\n"
    },
    {
      "metadata": {
        "trusted": true
      },
      "cell_type": "code",
      "source": "list1= [*range (15,21)]\nprint (list1)",
      "execution_count": null,
      "outputs": []
    },
    {
      "metadata": {
        "trusted": true
      },
      "cell_type": "code",
      "source": "def list2():\n\n    list2 =[]\n    for num2 in range (100,110):\n        if num2 %2 !=0:\n            num2.append(list2)\n        return list2\n    \n    #I'll try and clean this one up later, but list2 will now output the desired output. ",
      "execution_count": null,
      "outputs": []
    },
    {
      "metadata": {
        "trusted": true
      },
      "cell_type": "code",
      "source": "n=1\ny= -4*n+104\ngroup1=[]\nwhile True:\n    if y < 83: break\n    y= -4*n+104\n    n=n+1\n    group1.append(y)\n    print (group1)\n#unfortunatly the output is all groups. I need to limit it to only printing at the end, I'll look into fixing this one. ",
      "execution_count": null,
      "outputs": []
    },
    {
      "metadata": {},
      "cell_type": "markdown",
      "source": "***"
    }
  ],
  "metadata": {
    "kernelspec": {
      "name": "python36",
      "display_name": "Python 3.6",
      "language": "python"
    },
    "language_info": {
      "mimetype": "text/x-python",
      "nbconvert_exporter": "python",
      "name": "python",
      "pygments_lexer": "ipython3",
      "version": "3.6.6",
      "file_extension": ".py",
      "codemirror_mode": {
        "version": 3,
        "name": "ipython"
      }
    }
  },
  "nbformat": 4,
  "nbformat_minor": 2
}