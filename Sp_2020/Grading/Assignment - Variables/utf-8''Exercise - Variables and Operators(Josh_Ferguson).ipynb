{
  "cells": [
    {
      "metadata": {},
      "cell_type": "markdown",
      "source": "# Excercise - Variables, Data types and Operators : 56pts"
    },
    {
      "metadata": {
        "trusted": true
      },
      "cell_type": "code",
      "source": "deduction = 2\ntotal = 56\nprint(f'Your score is {total - deduction:.1f} out of {total:d}')",
      "execution_count": 1,
      "outputs": [
        {
          "output_type": "stream",
          "text": "Your score is 54.0 out of 56\n",
          "name": "stdout"
        }
      ]
    },
    {
      "metadata": {},
      "cell_type": "markdown",
      "source": "***"
    },
    {
      "metadata": {},
      "cell_type": "raw",
      "source": "Name: Josh Ferguson"
    },
    {
      "metadata": {},
      "cell_type": "markdown",
      "source": "1. Change notebook name to include your name. For example, Exercise - Variables and Operators(Jing Liu)\n2. Type your answers in the code cells below. \n    - A code cell can contain multiple lines of code. \n    - You need to run the cell to verify the answers. \n    - Make sure to match the answers in the same order of questions."
    },
    {
      "metadata": {},
      "cell_type": "markdown",
      "source": "***"
    },
    {
      "metadata": {},
      "cell_type": "markdown",
      "source": "## Using Python as a Calculator (2pts * 7)\n\nPerform the following computations:\n1. 3 + 4\n2. 5 / 6\n3. 22 / 7.\n4. 3 + 6 / 8\n5. 1 / 0\n6. Calculate the number 27's square?\n7. Calculate the number 27's cube root?\n\nExample: 1 / 2. / 4 * 7 "
    },
    {
      "metadata": {
        "trusted": false
      },
      "cell_type": "code",
      "source": "1 / 2. / 4 * 7 #Example answer",
      "execution_count": 1,
      "outputs": [
        {
          "data": {
            "text/plain": "0.875"
          },
          "execution_count": 1,
          "metadata": {},
          "output_type": "execute_result"
        }
      ]
    },
    {
      "metadata": {
        "trusted": true
      },
      "cell_type": "code",
      "source": "3+4",
      "execution_count": 1,
      "outputs": [
        {
          "output_type": "execute_result",
          "execution_count": 1,
          "data": {
            "text/plain": "7"
          },
          "metadata": {}
        }
      ]
    },
    {
      "metadata": {
        "trusted": true
      },
      "cell_type": "code",
      "source": "5/6",
      "execution_count": 2,
      "outputs": [
        {
          "output_type": "execute_result",
          "execution_count": 2,
          "data": {
            "text/plain": "0.8333333333333334"
          },
          "metadata": {}
        }
      ]
    },
    {
      "metadata": {
        "trusted": true
      },
      "cell_type": "code",
      "source": "22/7",
      "execution_count": 3,
      "outputs": [
        {
          "output_type": "execute_result",
          "execution_count": 3,
          "data": {
            "text/plain": "3.142857142857143"
          },
          "metadata": {}
        }
      ]
    },
    {
      "metadata": {
        "trusted": true
      },
      "cell_type": "code",
      "source": "3+6/8",
      "execution_count": 4,
      "outputs": [
        {
          "output_type": "execute_result",
          "execution_count": 4,
          "data": {
            "text/plain": "3.75"
          },
          "metadata": {}
        }
      ]
    },
    {
      "metadata": {
        "trusted": true
      },
      "cell_type": "code",
      "source": "1/0",
      "execution_count": 5,
      "outputs": [
        {
          "output_type": "error",
          "ename": "ZeroDivisionError",
          "evalue": "division by zero",
          "traceback": [
            "\u001b[0;31m---------------------------------------------------------------------------\u001b[0m",
            "\u001b[0;31mZeroDivisionError\u001b[0m                         Traceback (most recent call last)",
            "\u001b[0;32m<ipython-input-5-9e1622b385b6>\u001b[0m in \u001b[0;36m<module>\u001b[0;34m\u001b[0m\n\u001b[0;32m----> 1\u001b[0;31m \u001b[0;36m1\u001b[0m\u001b[0;34m/\u001b[0m\u001b[0;36m0\u001b[0m\u001b[0;34m\u001b[0m\u001b[0m\n\u001b[0m",
            "\u001b[0;31mZeroDivisionError\u001b[0m: division by zero"
          ]
        }
      ]
    },
    {
      "metadata": {
        "trusted": true
      },
      "cell_type": "code",
      "source": "27**2",
      "execution_count": 6,
      "outputs": [
        {
          "output_type": "execute_result",
          "execution_count": 6,
          "data": {
            "text/plain": "729"
          },
          "metadata": {}
        }
      ]
    },
    {
      "metadata": {
        "trusted": true
      },
      "cell_type": "code",
      "source": "27**(1/3)",
      "execution_count": 1,
      "outputs": [
        {
          "output_type": "execute_result",
          "execution_count": 1,
          "data": {
            "text/plain": "3.0"
          },
          "metadata": {}
        }
      ]
    },
    {
      "metadata": {},
      "cell_type": "markdown",
      "source": "***"
    },
    {
      "metadata": {},
      "cell_type": "markdown",
      "source": "### Strings (3pts * 8)\n\n1. Assign the variable `sentence` the following string.\n\n\"Rising prices are more of a threat to the global economy this year than joblessness\"\n\nUsing **slicing**, extract\n\n2. Rising\n3. threat\n4. lessness\n5. ssensselboj naht raey siht ymonoce labolg eht ot taerht a fo erom era secirp gnisiR (Reverse the string. You may need to google how to do this)\n6. gnisiR\n7. Get the length (number of characters) of `sentence`?\n8. We know that strings are immutable.Hhow might you go about change a string in Python? Change `rain` to `raining`"
    },
    {
      "metadata": {
        "trusted": true
      },
      "cell_type": "code",
      "source": "sentence = ('Rising prices are more of a threat to the global economy this year than joblessness')\nsentence",
      "execution_count": 7,
      "outputs": [
        {
          "output_type": "execute_result",
          "execution_count": 7,
          "data": {
            "text/plain": "'Rising prices are more of a threat to the global economy this year than joblessness'"
          },
          "metadata": {}
        }
      ]
    },
    {
      "metadata": {
        "trusted": true
      },
      "cell_type": "code",
      "source": "print(sentence[0:6])",
      "execution_count": 12,
      "outputs": [
        {
          "output_type": "stream",
          "text": "Rising\n",
          "name": "stdout"
        }
      ]
    },
    {
      "metadata": {
        "trusted": true
      },
      "cell_type": "code",
      "source": "print(sentence[28:35])",
      "execution_count": 14,
      "outputs": [
        {
          "output_type": "stream",
          "text": "threat \n",
          "name": "stdout"
        }
      ]
    },
    {
      "metadata": {
        "trusted": true
      },
      "cell_type": "code",
      "source": "print(sentence[75:83])",
      "execution_count": 18,
      "outputs": [
        {
          "output_type": "stream",
          "text": "lessness\n",
          "name": "stdout"
        }
      ]
    },
    {
      "metadata": {
        "trusted": true
      },
      "cell_type": "code",
      "source": "print(sentence[83::-1])",
      "execution_count": 21,
      "outputs": [
        {
          "output_type": "stream",
          "text": "ssensselboj naht raey siht ymonoce labolg eht ot taerht a fo erom era secirp gnisiR\n",
          "name": "stdout"
        }
      ]
    },
    {
      "metadata": {
        "trusted": true
      },
      "cell_type": "code",
      "source": "print(sentence[6::-1]) # incorerct (-1) sentence[5::-1] ",
      "execution_count": 22,
      "outputs": [
        {
          "output_type": "stream",
          "text": " gnisiR\n",
          "name": "stdout"
        }
      ]
    },
    {
      "metadata": {
        "trusted": true
      },
      "cell_type": "code",
      "source": "len(sentence)",
      "execution_count": 23,
      "outputs": [
        {
          "output_type": "execute_result",
          "execution_count": 23,
          "data": {
            "text/plain": "83"
          },
          "metadata": {}
        }
      ]
    },
    {
      "metadata": {
        "trusted": true
      },
      "cell_type": "code",
      "source": "weather = (\"There's rain outside\")\nweather",
      "execution_count": 25,
      "outputs": [
        {
          "output_type": "execute_result",
          "execution_count": 25,
          "data": {
            "text/plain": "\"There's rain outside\""
          },
          "metadata": {}
        }
      ]
    },
    {
      "metadata": {
        "trusted": true
      },
      "cell_type": "code",
      "source": "Weather = 'It\\'s raining'\nWeather",
      "execution_count": 31,
      "outputs": [
        {
          "output_type": "execute_result",
          "execution_count": 31,
          "data": {
            "text/plain": "\"It's raining\""
          },
          "metadata": {}
        }
      ]
    },
    {
      "metadata": {
        "trusted": true
      },
      "cell_type": "code",
      "source": "weather = (Weather + ' outside')\nweather",
      "execution_count": 32,
      "outputs": [
        {
          "output_type": "execute_result",
          "execution_count": 32,
          "data": {
            "text/plain": "\"It's raining outside\""
          },
          "metadata": {}
        }
      ]
    },
    {
      "metadata": {},
      "cell_type": "markdown",
      "source": "***"
    },
    {
      "metadata": {},
      "cell_type": "markdown",
      "source": "## Lists (3pts * 6)\n\n1. Create a list of odd numbers until 20\n2. Slice the first 5 odd numbers\n3. Change the 3rd odd number to 22\n4. Append [24, 26, 28, 30] to the end of the list created in 1.\n5. Construct a nested list to hold the following matrix, calling it matrix_b. Hint: Each row or colume can be a list\n\\begin{bmatrix}\n    1 &amp; 2 \\\\\n    3 &amp; 4 \\\\\n\\end{bmatrix}\n6. Slice each number out from matrix_b, so you can calculate the determinant by taking the left diagonal values multiplied together and subtract the right diagonal values from it. For matrix_b, the determinant is: `1 * 4 - 2 * 3`"
    },
    {
      "metadata": {
        "trusted": true
      },
      "cell_type": "code",
      "source": "odd_numbers = [1, 3, 5, 7, 9, 11, 13, 15, 17, 19]\nodd_numbers",
      "execution_count": 3,
      "outputs": [
        {
          "output_type": "execute_result",
          "execution_count": 3,
          "data": {
            "text/plain": "[1, 3, 5, 7, 9, 11, 13, 15, 17, 19]"
          },
          "metadata": {}
        }
      ]
    },
    {
      "metadata": {
        "trusted": true
      },
      "cell_type": "code",
      "source": "print(odd_numbers[0:5])",
      "execution_count": 4,
      "outputs": [
        {
          "output_type": "stream",
          "text": "[1, 3, 5, 7, 9]\n",
          "name": "stdout"
        }
      ]
    },
    {
      "metadata": {
        "trusted": true
      },
      "cell_type": "code",
      "source": "odd_numbers[2] = 22\nprint(odd_numbers)",
      "execution_count": 5,
      "outputs": [
        {
          "output_type": "stream",
          "text": "[1, 3, 22, 7, 9, 11, 13, 15, 17, 19]\n",
          "name": "stdout"
        }
      ]
    },
    {
      "metadata": {
        "trusted": true
      },
      "cell_type": "code",
      "source": "even_numbers = 24, 26, 28, 30\neven_numbers",
      "execution_count": 6,
      "outputs": [
        {
          "output_type": "execute_result",
          "execution_count": 6,
          "data": {
            "text/plain": "(24, 26, 28, 30)"
          },
          "metadata": {}
        }
      ]
    },
    {
      "metadata": {
        "trusted": true
      },
      "cell_type": "code",
      "source": "odd_numbers.append(even_numbers)\nodd_numbers # inccorrect (-1) odd_list + [24, 26, 28, 30]",
      "execution_count": 7,
      "outputs": [
        {
          "output_type": "execute_result",
          "execution_count": 7,
          "data": {
            "text/plain": "[1, 3, 22, 7, 9, 11, 13, 15, 17, 19, (24, 26, 28, 30)]"
          },
          "metadata": {}
        }
      ]
    },
    {
      "metadata": {
        "trusted": true
      },
      "cell_type": "code",
      "source": "matrix_b = ([1, 2],[3, 4])\nmatrix_b",
      "execution_count": 15,
      "outputs": [
        {
          "output_type": "execute_result",
          "execution_count": 15,
          "data": {
            "text/plain": "([1, 2], [3, 4])"
          },
          "metadata": {}
        }
      ]
    },
    {
      "metadata": {
        "trusted": true
      },
      "cell_type": "code",
      "source": "print((matrix_b[0][0]*matrix_b[1][1])-(matrix_b[0][1]*matrix_b[1][0]))",
      "execution_count": 20,
      "outputs": [
        {
          "output_type": "stream",
          "text": "-2\n",
          "name": "stdout"
        }
      ]
    }
  ],
  "metadata": {
    "kernelspec": {
      "name": "python36",
      "display_name": "Python 3.6",
      "language": "python"
    },
    "language_info": {
      "mimetype": "text/x-python",
      "nbconvert_exporter": "python",
      "name": "python",
      "pygments_lexer": "ipython3",
      "version": "3.6.6",
      "file_extension": ".py",
      "codemirror_mode": {
        "version": 3,
        "name": "ipython"
      }
    }
  },
  "nbformat": 4,
  "nbformat_minor": 2
}