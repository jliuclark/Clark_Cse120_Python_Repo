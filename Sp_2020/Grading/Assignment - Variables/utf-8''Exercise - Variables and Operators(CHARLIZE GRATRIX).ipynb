{
  "cells": [
    {
      "metadata": {},
      "cell_type": "markdown",
      "source": "# Excercise - Variables, Data types and Operators : 56pts"
    },
    {
      "metadata": {
        "trusted": true
      },
      "cell_type": "code",
      "source": "# Grading ONLY! Do NOT use this cell\ndeduction = 7\ntotal = 56\nprint(f'Your score is {total - deduction:.1f} out of {total:d}')",
      "execution_count": 1,
      "outputs": [
        {
          "output_type": "stream",
          "text": "Your score is 49.0 out of 56\n",
          "name": "stdout"
        }
      ]
    },
    {
      "metadata": {},
      "cell_type": "raw",
      "source": "Name: Write you name here"
    },
    {
      "metadata": {},
      "cell_type": "markdown",
      "source": "1. Change notebook name to include your name. For example, Exercise - Variables and Operators(Jing Liu)\n2. Type your answers in the code cells below. \n    - A code cell can contain multiple lines of code. \n    - You need to run the cell to verify the answers. \n    - Make sure to match the answers in the same order of questions."
    },
    {
      "metadata": {},
      "cell_type": "markdown",
      "source": "***"
    },
    {
      "metadata": {},
      "cell_type": "markdown",
      "source": "## Using Python as a Calculator (2pts * 7)\n\nPerform the following computations:\n1. 3 + 4\n2. 5 / 6\n3. 22 / 7.\n4. 3 + 6 / 8\n5. 1 / 0\n6. Calculate the number 27's square?\n7. Calculate the number 27's cube root?\n\nExample: 1 / 2. / 4 * 7 "
    },
    {
      "metadata": {
        "trusted": false
      },
      "cell_type": "code",
      "source": "1 / 2. / 4 * 7 #Example answer",
      "execution_count": 1,
      "outputs": [
        {
          "data": {
            "text/plain": "0.875"
          },
          "execution_count": 1,
          "metadata": {},
          "output_type": "execute_result"
        }
      ]
    },
    {
      "metadata": {
        "trusted": true
      },
      "cell_type": "code",
      "source": "3+4",
      "execution_count": 1,
      "outputs": [
        {
          "output_type": "execute_result",
          "execution_count": 1,
          "data": {
            "text/plain": "7"
          },
          "metadata": {}
        }
      ]
    },
    {
      "metadata": {
        "trusted": true
      },
      "cell_type": "code",
      "source": "5/6",
      "execution_count": 3,
      "outputs": [
        {
          "output_type": "execute_result",
          "execution_count": 3,
          "data": {
            "text/plain": "0.8333333333333334"
          },
          "metadata": {}
        }
      ]
    },
    {
      "metadata": {
        "trusted": true
      },
      "cell_type": "code",
      "source": "22/7",
      "execution_count": 2,
      "outputs": [
        {
          "output_type": "execute_result",
          "execution_count": 2,
          "data": {
            "text/plain": "3.142857142857143"
          },
          "metadata": {}
        }
      ]
    },
    {
      "metadata": {
        "trusted": true
      },
      "cell_type": "code",
      "source": "3+6/8",
      "execution_count": 4,
      "outputs": [
        {
          "output_type": "execute_result",
          "execution_count": 4,
          "data": {
            "text/plain": "3.75"
          },
          "metadata": {}
        }
      ]
    },
    {
      "metadata": {
        "trusted": true
      },
      "cell_type": "code",
      "source": "1/0",
      "execution_count": 5,
      "outputs": [
        {
          "output_type": "error",
          "ename": "ZeroDivisionError",
          "evalue": "division by zero",
          "traceback": [
            "\u001b[0;31m---------------------------------------------------------------------------\u001b[0m",
            "\u001b[0;31mZeroDivisionError\u001b[0m                         Traceback (most recent call last)",
            "\u001b[0;32m<ipython-input-5-9e1622b385b6>\u001b[0m in \u001b[0;36m<module>\u001b[0;34m\u001b[0m\n\u001b[0;32m----> 1\u001b[0;31m \u001b[0;36m1\u001b[0m\u001b[0;34m/\u001b[0m\u001b[0;36m0\u001b[0m\u001b[0;34m\u001b[0m\u001b[0m\n\u001b[0m",
            "\u001b[0;31mZeroDivisionError\u001b[0m: division by zero"
          ]
        }
      ]
    },
    {
      "metadata": {
        "trusted": true
      },
      "cell_type": "code",
      "source": "27 * 1/2 # (-1) 27 ** 2",
      "execution_count": 10,
      "outputs": [
        {
          "output_type": "execute_result",
          "execution_count": 10,
          "data": {
            "text/plain": "13.5"
          },
          "metadata": {}
        }
      ]
    },
    {
      "metadata": {
        "trusted": true
      },
      "cell_type": "code",
      "source": "27 * 1/3 #(-1) 27 ** (1/3)",
      "execution_count": 9,
      "outputs": [
        {
          "output_type": "execute_result",
          "execution_count": 9,
          "data": {
            "text/plain": "9.0"
          },
          "metadata": {}
        }
      ]
    },
    {
      "metadata": {},
      "cell_type": "markdown",
      "source": "***"
    },
    {
      "metadata": {},
      "cell_type": "markdown",
      "source": "### Strings (3pts * 8)\n\n1. Assign the variable `sentence` the following string.\n\n\"Rising prices are more of a threat to the global economy this year than joblessness\"\n\nUsing **slicing**, extract\n\n2. Rising\n3. threat\n4. lessness\n5. ssensselboj naht raey siht ymonoce labolg eht ot taerht a fo erom era secirp gnisiR (Reverse the string. You may need to google how to do this)\n6. gnisiR\n7. Get the length (number of characters) of `sentence`?\n8. We know that strings are immutable.Hhow might you go about change a string in Python? Change `rain` to `raining`"
    },
    {
      "metadata": {
        "trusted": true
      },
      "cell_type": "code",
      "source": "sentence = \"Rising prices are more of a threat to the global economy this year than joblessness\"\nprint(sentence)",
      "execution_count": 47,
      "outputs": [
        {
          "output_type": "stream",
          "text": "Rising prices are more of a threat to the global economy this year than joblessness\n",
          "name": "stdout"
        }
      ]
    },
    {
      "metadata": {
        "trusted": true
      },
      "cell_type": "code",
      "source": "sentence[:6]",
      "execution_count": 45,
      "outputs": [
        {
          "output_type": "execute_result",
          "execution_count": 45,
          "data": {
            "text/plain": "'Rising'"
          },
          "metadata": {}
        }
      ]
    },
    {
      "metadata": {
        "trusted": true
      },
      "cell_type": "code",
      "source": "sentence[28:34]",
      "execution_count": 44,
      "outputs": [
        {
          "output_type": "execute_result",
          "execution_count": 44,
          "data": {
            "text/plain": "'threat'"
          },
          "metadata": {}
        }
      ]
    },
    {
      "metadata": {
        "trusted": true
      },
      "cell_type": "code",
      "source": "sentence[75:83]",
      "execution_count": 50,
      "outputs": [
        {
          "output_type": "execute_result",
          "execution_count": 50,
          "data": {
            "text/plain": "'lessness'"
          },
          "metadata": {}
        }
      ]
    },
    {
      "metadata": {
        "trusted": true
      },
      "cell_type": "code",
      "source": "sentence[::-1]",
      "execution_count": 42,
      "outputs": [
        {
          "output_type": "execute_result",
          "execution_count": 42,
          "data": {
            "text/plain": "'ssensselboj naht raey siht ymonoce labolg eht ot taerht a fo erom era secirp gnisiR'"
          },
          "metadata": {}
        }
      ]
    },
    {
      "metadata": {
        "trusted": true
      },
      "cell_type": "code",
      "source": "sentence[5::-1]",
      "execution_count": 41,
      "outputs": [
        {
          "output_type": "execute_result",
          "execution_count": 41,
          "data": {
            "text/plain": "'gnisiR'"
          },
          "metadata": {}
        }
      ]
    },
    {
      "metadata": {
        "trusted": true
      },
      "cell_type": "code",
      "source": "len(sentence)",
      "execution_count": 49,
      "outputs": [
        {
          "output_type": "execute_result",
          "execution_count": 49,
          "data": {
            "text/plain": "83"
          },
          "metadata": {}
        }
      ]
    },
    {
      "metadata": {
        "trusted": true
      },
      "cell_type": "code",
      "source": "word = 'It is rain outside'\nprint(word)",
      "execution_count": 51,
      "outputs": [
        {
          "output_type": "stream",
          "text": "It is rain outside\n",
          "name": "stdout"
        }
      ]
    },
    {
      "metadata": {
        "trusted": true
      },
      "cell_type": "code",
      "source": "print(word.replace('rain', 'raining'))",
      "execution_count": 53,
      "outputs": [
        {
          "output_type": "stream",
          "text": "It is raining outside\n",
          "name": "stdout"
        }
      ]
    },
    {
      "metadata": {},
      "cell_type": "markdown",
      "source": "***"
    },
    {
      "metadata": {},
      "cell_type": "markdown",
      "source": "# Lists (3pts * 6)\n\n1. Create a list of odd numbers until 20\n2. Slice the first 5 odd numbers\n3. Change the 3rd odd number to 22\n4. Append [24, 26, 28, 30] to the end of the list created in 1.\n5. Construct a nested list to hold the following matrix, calling it matrix_b. Hint: Each row or colume can be a list\n\\begin{bmatrix}\n    1 &amp; 2 \\\\\n    3 &amp; 4 \\\\\n\\end{bmatrix}\n6. Slice each number out from matrix_b, so you can calculate the determinant by taking the left diagonal values multiplied together and subtract the right diagonal values from it. For matrix_b, the determinant is: `1 * 4 - 2 * 3`"
    },
    {
      "metadata": {
        "trusted": true
      },
      "cell_type": "code",
      "source": "list = [1,3,5,7,9,11,13,15,17,19]\nprint(list)",
      "execution_count": 86,
      "outputs": [
        {
          "output_type": "stream",
          "text": "[1, 3, 5, 7, 9, 11, 13, 15, 17, 19]\n",
          "name": "stdout"
        }
      ]
    },
    {
      "metadata": {
        "trusted": true
      },
      "cell_type": "code",
      "source": "list[-5::] #(-1) first 5 odd_list[:5] ",
      "execution_count": 87,
      "outputs": [
        {
          "output_type": "execute_result",
          "execution_count": 87,
          "data": {
            "text/plain": "[11, 13, 15, 17, 19]"
          },
          "metadata": {}
        }
      ]
    },
    {
      "metadata": {
        "trusted": true
      },
      "cell_type": "code",
      "source": "list[2] = (22)\nprint(list)",
      "execution_count": 94,
      "outputs": [
        {
          "output_type": "stream",
          "text": "[1, 3, 22, 7, 9, 11, 13, 15, 17, 19]\n",
          "name": "stdout"
        }
      ]
    },
    {
      "metadata": {
        "trusted": true
      },
      "cell_type": "code",
      "source": "list.append(24)\nlist.extend((26,28,30))\nprint(list)",
      "execution_count": 116,
      "outputs": [
        {
          "output_type": "stream",
          "text": "[1, 3, 22, 7, 9, 11, 13, 15, 17, 19, 24, 26, 28, 30]\n",
          "name": "stdout"
        }
      ]
    },
    {
      "metadata": {
        "trusted": true
      },
      "cell_type": "code",
      "source": "matrix_b = [1,'amp;',2,3,'amp;',4]\nprint(matrix_b) #(-2) using nested list",
      "execution_count": 142,
      "outputs": [
        {
          "output_type": "stream",
          "text": "[1, 'amp;', 2, 3, 'amp;', 4]\n",
          "name": "stdout"
        }
      ]
    },
    {
      "metadata": {
        "trusted": true
      },
      "cell_type": "code",
      "source": "matrix_b[:1]\nmatrix_b[2:3]\nmatrix_b[3:4]\nmatrix_b[5:6]",
      "execution_count": 150,
      "outputs": [
        {
          "output_type": "execute_result",
          "execution_count": 150,
          "data": {
            "text/plain": "[4]"
          },
          "metadata": {}
        }
      ]
    },
    {
      "metadata": {
        "trusted": true
      },
      "cell_type": "code",
      "source": "1*4-2*3 #(-2) using indexing",
      "execution_count": 151,
      "outputs": [
        {
          "output_type": "execute_result",
          "execution_count": 151,
          "data": {
            "text/plain": "-2"
          },
          "metadata": {}
        }
      ]
    },
    {
      "metadata": {},
      "cell_type": "markdown",
      "source": "***"
    },
    {
      "metadata": {},
      "cell_type": "markdown",
      "source": "***"
    }
  ],
  "metadata": {
    "kernelspec": {
      "name": "python36",
      "display_name": "Python 3.6",
      "language": "python"
    },
    "language_info": {
      "mimetype": "text/x-python",
      "nbconvert_exporter": "python",
      "name": "python",
      "pygments_lexer": "ipython3",
      "version": "3.6.6",
      "file_extension": ".py",
      "codemirror_mode": {
        "version": 3,
        "name": "ipython"
      }
    }
  },
  "nbformat": 4,
  "nbformat_minor": 2
}