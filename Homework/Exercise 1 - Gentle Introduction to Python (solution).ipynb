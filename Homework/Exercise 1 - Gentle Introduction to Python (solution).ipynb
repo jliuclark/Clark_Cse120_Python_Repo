{
  "cells": [
    {
      "metadata": {},
      "cell_type": "markdown",
      "source": "# Exercises"
    },
    {
      "metadata": {},
      "cell_type": "markdown",
      "source": "16 Feb 2018. Course release\n\n23 Feb 2018. Exercises covering the topic of gentle introduction\n\n2 Mar 2018. Exercises covering the topic of Flow control \n\n9 Mar 2018. Exercises  covering the topics of data structures and modules\n\n16 Mar 2018. Exercises covering input and outputs, and errors and exceptions\n\n23 Mar 2018. Capstone project 1\n\n30 Mar 2018. Capstone project 2 "
    },
    {
      "metadata": {},
      "cell_type": "markdown",
      "source": "***"
    },
    {
      "metadata": {},
      "cell_type": "markdown",
      "source": "# An Informal Introduction to Python"
    },
    {
      "metadata": {},
      "cell_type": "markdown",
      "source": "\n\n## Getting Used to the Jupyter Notebook Interface\n1. Print the version of Python or distribution you are using"
    },
    {
      "metadata": {
        "trusted": true
      },
      "cell_type": "code",
      "source": "import sys",
      "execution_count": 1,
      "outputs": []
    },
    {
      "metadata": {
        "trusted": true
      },
      "cell_type": "code",
      "source": "sys.version",
      "execution_count": 2,
      "outputs": [
        {
          "output_type": "execute_result",
          "execution_count": 2,
          "data": {
            "text/plain": "'3.6.6 |Anaconda, Inc.| (default, Jun 28 2018, 17:14:51) \\n[GCC 7.2.0]'"
          },
          "metadata": {}
        }
      ]
    },
    {
      "metadata": {},
      "cell_type": "markdown",
      "source": "***"
    },
    {
      "metadata": {},
      "cell_type": "markdown",
      "source": "## Using Python as a Calculator\n\nPerform the following computations:\n1. 3 + 4\n2. 5 / 6\n3. 22 / 7.\n4. 3 + 6 / 8\n5. 1 / 0\n\n\n*NB: The following are all stretch questions. It is not covered. You can google for the answer*\n\n1. How do you calculate the number 27's square and cube root?\n2. How to you convert a float (24.6) to integer? \n3. How do you convert an integer (5.6) to a hex number? \n\nExample: 1 / 2. / 4 * 7"
    },
    {
      "metadata": {
        "trusted": false
      },
      "cell_type": "code",
      "source": "1 / 2. / 4 * 7",
      "execution_count": 3,
      "outputs": [
        {
          "data": {
            "text/plain": "0.875"
          },
          "execution_count": 3,
          "metadata": {},
          "output_type": "execute_result"
        }
      ]
    },
    {
      "metadata": {
        "trusted": false
      },
      "cell_type": "code",
      "source": "3 + 4",
      "execution_count": 4,
      "outputs": [
        {
          "data": {
            "text/plain": "7"
          },
          "execution_count": 4,
          "metadata": {},
          "output_type": "execute_result"
        }
      ]
    },
    {
      "metadata": {
        "trusted": false
      },
      "cell_type": "code",
      "source": "5 / 6",
      "execution_count": 5,
      "outputs": [
        {
          "data": {
            "text/plain": "0.8333333333333334"
          },
          "execution_count": 5,
          "metadata": {},
          "output_type": "execute_result"
        }
      ]
    },
    {
      "metadata": {
        "trusted": false
      },
      "cell_type": "code",
      "source": "22 / 7.",
      "execution_count": 6,
      "outputs": [
        {
          "data": {
            "text/plain": "3.142857142857143"
          },
          "execution_count": 6,
          "metadata": {},
          "output_type": "execute_result"
        }
      ]
    },
    {
      "metadata": {
        "trusted": false
      },
      "cell_type": "code",
      "source": "3 + 6 / 8",
      "execution_count": 7,
      "outputs": [
        {
          "data": {
            "text/plain": "3.75"
          },
          "execution_count": 7,
          "metadata": {},
          "output_type": "execute_result"
        }
      ]
    },
    {
      "metadata": {
        "trusted": false
      },
      "cell_type": "code",
      "source": "1 / 0",
      "execution_count": 8,
      "outputs": [
        {
          "ename": "ZeroDivisionError",
          "evalue": "division by zero",
          "output_type": "error",
          "traceback": [
            "\u001b[0;31m---------------------------------------------------------------------------\u001b[0m",
            "\u001b[0;31mZeroDivisionError\u001b[0m                         Traceback (most recent call last)",
            "\u001b[0;32m<ipython-input-8-bc757c3fda29>\u001b[0m in \u001b[0;36m<module>\u001b[0;34m()\u001b[0m\n\u001b[0;32m----> 1\u001b[0;31m \u001b[0;36m1\u001b[0m \u001b[0;34m/\u001b[0m \u001b[0;36m0\u001b[0m\u001b[0;34m\u001b[0m\u001b[0m\n\u001b[0m",
            "\u001b[0;31mZeroDivisionError\u001b[0m: division by zero"
          ]
        }
      ]
    },
    {
      "metadata": {
        "trusted": false
      },
      "cell_type": "code",
      "source": "27 ** 2",
      "execution_count": 9,
      "outputs": [
        {
          "data": {
            "text/plain": "729"
          },
          "execution_count": 9,
          "metadata": {},
          "output_type": "execute_result"
        }
      ]
    },
    {
      "metadata": {
        "trusted": false
      },
      "cell_type": "code",
      "source": "27 ** (1/3)",
      "execution_count": 10,
      "outputs": [
        {
          "data": {
            "text/plain": "3.0"
          },
          "execution_count": 10,
          "metadata": {},
          "output_type": "execute_result"
        }
      ]
    },
    {
      "metadata": {
        "trusted": false
      },
      "cell_type": "code",
      "source": "type(int(24.6))",
      "execution_count": 11,
      "outputs": [
        {
          "data": {
            "text/plain": "int"
          },
          "execution_count": 11,
          "metadata": {},
          "output_type": "execute_result"
        }
      ]
    },
    {
      "metadata": {
        "trusted": false
      },
      "cell_type": "code",
      "source": "hex(5)",
      "execution_count": 12,
      "outputs": [
        {
          "data": {
            "text/plain": "'0x5'"
          },
          "execution_count": 12,
          "metadata": {},
          "output_type": "execute_result"
        }
      ]
    },
    {
      "metadata": {},
      "cell_type": "markdown",
      "source": "***"
    },
    {
      "metadata": {},
      "cell_type": "markdown",
      "source": "## Value Assignment\n\nAssign each of the following to a variable name:\n1. 99\n2. 3.14\n3. 1/7\n4. \"Hello World\"\n5. 4 + 6j\n\nExample: `latest_ios_version = \"11.2.5\"`"
    },
    {
      "metadata": {
        "trusted": false
      },
      "cell_type": "code",
      "source": "latest_ios_version = \"11.2.5\"",
      "execution_count": 13,
      "outputs": []
    },
    {
      "metadata": {
        "trusted": false
      },
      "cell_type": "code",
      "source": "val_1 = 99",
      "execution_count": 14,
      "outputs": []
    },
    {
      "metadata": {
        "trusted": false
      },
      "cell_type": "code",
      "source": "val_2 = 3.14",
      "execution_count": 15,
      "outputs": []
    },
    {
      "metadata": {
        "trusted": false
      },
      "cell_type": "code",
      "source": "val_3 = 1/7",
      "execution_count": 16,
      "outputs": []
    },
    {
      "metadata": {
        "trusted": false
      },
      "cell_type": "code",
      "source": "val_4 = \"Hello World\"",
      "execution_count": 17,
      "outputs": []
    },
    {
      "metadata": {
        "trusted": false
      },
      "cell_type": "code",
      "source": "val_5 = 4 + 6j",
      "execution_count": 18,
      "outputs": []
    },
    {
      "metadata": {},
      "cell_type": "markdown",
      "source": "***"
    },
    {
      "metadata": {},
      "cell_type": "markdown",
      "source": "## Determine the data type\nTest the data type of the variable that you defined in the previous section (value assignment)\n\nExample: type(latest_ios_version)"
    },
    {
      "metadata": {
        "trusted": false
      },
      "cell_type": "code",
      "source": "type(latest_ios_version)",
      "execution_count": 19,
      "outputs": [
        {
          "data": {
            "text/plain": "str"
          },
          "execution_count": 19,
          "metadata": {},
          "output_type": "execute_result"
        }
      ]
    },
    {
      "metadata": {
        "trusted": false
      },
      "cell_type": "code",
      "source": "type(val_1)",
      "execution_count": 20,
      "outputs": [
        {
          "data": {
            "text/plain": "int"
          },
          "execution_count": 20,
          "metadata": {},
          "output_type": "execute_result"
        }
      ]
    },
    {
      "metadata": {
        "trusted": false
      },
      "cell_type": "code",
      "source": "type(val_2)",
      "execution_count": 21,
      "outputs": [
        {
          "data": {
            "text/plain": "float"
          },
          "execution_count": 21,
          "metadata": {},
          "output_type": "execute_result"
        }
      ]
    },
    {
      "metadata": {
        "trusted": false
      },
      "cell_type": "code",
      "source": "type(val_3)",
      "execution_count": 22,
      "outputs": [
        {
          "data": {
            "text/plain": "float"
          },
          "execution_count": 22,
          "metadata": {},
          "output_type": "execute_result"
        }
      ]
    },
    {
      "metadata": {
        "trusted": false
      },
      "cell_type": "code",
      "source": "type(val_4)",
      "execution_count": 23,
      "outputs": [
        {
          "data": {
            "text/plain": "str"
          },
          "execution_count": 23,
          "metadata": {},
          "output_type": "execute_result"
        }
      ]
    },
    {
      "metadata": {
        "trusted": false
      },
      "cell_type": "code",
      "source": "type(val_5)",
      "execution_count": 24,
      "outputs": [
        {
          "data": {
            "text/plain": "complex"
          },
          "execution_count": 24,
          "metadata": {},
          "output_type": "execute_result"
        }
      ]
    },
    {
      "metadata": {},
      "cell_type": "markdown",
      "source": "***"
    },
    {
      "metadata": {},
      "cell_type": "markdown",
      "source": "## Strings"
    },
    {
      "metadata": {},
      "cell_type": "markdown",
      "source": "Input into the variable `sentence` the following string.\n\n\"Rising prices are more of a threat to the global economy this year than joblessness\"\n\nUsing slicing, extract\n\n1. Rising\n2. threat\n3. lessness\n4. ssensselboj naht raey siht ymonoce labolg eht ot taerht a fo erom era secirp gnisiR (Reverse the string. You will need to google this)\n5. gnisiR\n6. How long (number of characters) is `sentence`?\n\n*NB: The following are all stretch questions. It is covered.*\n\n1. We know that strings are immutable, how might you go about change a string in Python? Change `rain` to `raining`\n"
    },
    {
      "metadata": {
        "trusted": false
      },
      "cell_type": "code",
      "source": "sentence = \"Rising prices are more of a threat to the global economy this year than joblessness\"",
      "execution_count": 25,
      "outputs": []
    },
    {
      "metadata": {
        "trusted": false
      },
      "cell_type": "code",
      "source": "sentence[:6]",
      "execution_count": 26,
      "outputs": [
        {
          "data": {
            "text/plain": "'Rising'"
          },
          "execution_count": 26,
          "metadata": {},
          "output_type": "execute_result"
        }
      ]
    },
    {
      "metadata": {
        "trusted": false
      },
      "cell_type": "code",
      "source": "sentence[28:34]",
      "execution_count": 27,
      "outputs": [
        {
          "data": {
            "text/plain": "'threat'"
          },
          "execution_count": 27,
          "metadata": {},
          "output_type": "execute_result"
        }
      ]
    },
    {
      "metadata": {
        "trusted": false
      },
      "cell_type": "code",
      "source": "sentence[-8:-1]",
      "execution_count": 28,
      "outputs": [
        {
          "data": {
            "text/plain": "'lessnes'"
          },
          "execution_count": 28,
          "metadata": {},
          "output_type": "execute_result"
        }
      ]
    },
    {
      "metadata": {
        "trusted": false
      },
      "cell_type": "code",
      "source": "sentence[::-1]",
      "execution_count": 29,
      "outputs": [
        {
          "data": {
            "text/plain": "'ssensselboj naht raey siht ymonoce labolg eht ot taerht a fo erom era secirp gnisiR'"
          },
          "execution_count": 29,
          "metadata": {},
          "output_type": "execute_result"
        }
      ]
    },
    {
      "metadata": {
        "trusted": false
      },
      "cell_type": "code",
      "source": "sentence[5::-1]",
      "execution_count": 30,
      "outputs": [
        {
          "data": {
            "text/plain": "'gnisiR'"
          },
          "execution_count": 30,
          "metadata": {},
          "output_type": "execute_result"
        }
      ]
    },
    {
      "metadata": {
        "trusted": false
      },
      "cell_type": "code",
      "source": "sentence[::-1][-6:]",
      "execution_count": 31,
      "outputs": [
        {
          "data": {
            "text/plain": "'gnisiR'"
          },
          "execution_count": 31,
          "metadata": {},
          "output_type": "execute_result"
        }
      ]
    },
    {
      "metadata": {
        "trusted": false
      },
      "cell_type": "code",
      "source": "len(sentence)",
      "execution_count": 32,
      "outputs": [
        {
          "data": {
            "text/plain": "83"
          },
          "execution_count": 32,
          "metadata": {},
          "output_type": "execute_result"
        }
      ]
    },
    {
      "metadata": {
        "trusted": false
      },
      "cell_type": "code",
      "source": "text_string = \"rain\"",
      "execution_count": 33,
      "outputs": []
    },
    {
      "metadata": {
        "trusted": false
      },
      "cell_type": "code",
      "source": "tmp = text_string + 'ing'",
      "execution_count": 34,
      "outputs": []
    },
    {
      "metadata": {
        "trusted": false
      },
      "cell_type": "code",
      "source": "tmp",
      "execution_count": 35,
      "outputs": [
        {
          "data": {
            "text/plain": "'raining'"
          },
          "execution_count": 35,
          "metadata": {},
          "output_type": "execute_result"
        }
      ]
    },
    {
      "metadata": {
        "trusted": false
      },
      "cell_type": "code",
      "source": "text_string = tmp",
      "execution_count": 36,
      "outputs": []
    },
    {
      "metadata": {
        "trusted": false
      },
      "cell_type": "code",
      "source": "text_string",
      "execution_count": 37,
      "outputs": [
        {
          "data": {
            "text/plain": "'raining'"
          },
          "execution_count": 37,
          "metadata": {},
          "output_type": "execute_result"
        }
      ]
    },
    {
      "metadata": {},
      "cell_type": "markdown",
      "source": "***"
    },
    {
      "metadata": {},
      "cell_type": "markdown",
      "source": "## Lists\n\n1. Create a list of odd numbers until 20\n2. Slice the first 5 odd numbers\n3. Change the 3rd odd number to 22\n4. Append [24, 26, 28, 30] to the end of the list created in 1.\n5. Construct a nested list to hold the following matrix, calling it matrix_b:\n\\begin{bmatrix}\n    1 & 2 \\\\\n    3 & 4 \\\\\n\\end{bmatrix}\n6. Multiply matrix_b from para 5 with 4. What do you get? Is that what you expected?\n7. Assign the matrix you just created first to `matrix_b`, and then assign `res = matrix_b`. Change res[1][0] to 42. What\nhappens to matrix_b? Is that behaviour expected?"
    },
    {
      "metadata": {},
      "cell_type": "markdown",
      "source": "References:\n* [Dan](https://dbader.org/blog/python-reverse-string)\n* [Rob](http://rlhick.people.wm.edu/stories/linear-algebra-python-basics.html)\n* [Chris](http://pbpython.com/)"
    },
    {
      "metadata": {
        "trusted": false
      },
      "cell_type": "code",
      "source": "odd_list = [1, 3, 5, 7, 9, 11, 13, 15, 17, 19]",
      "execution_count": 38,
      "outputs": []
    },
    {
      "metadata": {
        "trusted": false
      },
      "cell_type": "code",
      "source": "odd_list[0:5]",
      "execution_count": 39,
      "outputs": [
        {
          "data": {
            "text/plain": "[1, 3, 5, 7, 9]"
          },
          "execution_count": 39,
          "metadata": {},
          "output_type": "execute_result"
        }
      ]
    },
    {
      "metadata": {
        "trusted": false
      },
      "cell_type": "code",
      "source": "odd_list[:5]",
      "execution_count": 40,
      "outputs": [
        {
          "data": {
            "text/plain": "[1, 3, 5, 7, 9]"
          },
          "execution_count": 40,
          "metadata": {},
          "output_type": "execute_result"
        }
      ]
    },
    {
      "metadata": {
        "trusted": false
      },
      "cell_type": "code",
      "source": "odd_list[2] = 22",
      "execution_count": 41,
      "outputs": []
    },
    {
      "metadata": {
        "trusted": false
      },
      "cell_type": "code",
      "source": "odd_list",
      "execution_count": 42,
      "outputs": [
        {
          "data": {
            "text/plain": "[1, 3, 22, 7, 9, 11, 13, 15, 17, 19]"
          },
          "execution_count": 42,
          "metadata": {},
          "output_type": "execute_result"
        }
      ]
    },
    {
      "metadata": {
        "trusted": false
      },
      "cell_type": "code",
      "source": "odd_list + [24, 26, 28, 30]",
      "execution_count": 43,
      "outputs": [
        {
          "data": {
            "text/plain": "[1, 3, 22, 7, 9, 11, 13, 15, 17, 19, 24, 26, 28, 30]"
          },
          "execution_count": 43,
          "metadata": {},
          "output_type": "execute_result"
        }
      ]
    },
    {
      "metadata": {
        "trusted": false
      },
      "cell_type": "code",
      "source": "odd_list",
      "execution_count": 44,
      "outputs": [
        {
          "data": {
            "text/plain": "[1, 3, 22, 7, 9, 11, 13, 15, 17, 19]"
          },
          "execution_count": 44,
          "metadata": {},
          "output_type": "execute_result"
        }
      ]
    },
    {
      "metadata": {
        "trusted": false
      },
      "cell_type": "code",
      "source": "matrix_b = [[1, 2], [3, 4]]",
      "execution_count": 45,
      "outputs": []
    },
    {
      "metadata": {
        "trusted": false
      },
      "cell_type": "code",
      "source": "matrix_b * 4",
      "execution_count": 46,
      "outputs": [
        {
          "data": {
            "text/plain": "[[1, 2], [3, 4], [1, 2], [3, 4], [1, 2], [3, 4], [1, 2], [3, 4]]"
          },
          "execution_count": 46,
          "metadata": {},
          "output_type": "execute_result"
        }
      ]
    },
    {
      "metadata": {
        "trusted": false
      },
      "cell_type": "code",
      "source": "res = matrix_b",
      "execution_count": 47,
      "outputs": []
    },
    {
      "metadata": {
        "trusted": false
      },
      "cell_type": "code",
      "source": "res[1][0] = 42",
      "execution_count": 48,
      "outputs": []
    },
    {
      "metadata": {
        "trusted": false
      },
      "cell_type": "code",
      "source": "matrix_b",
      "execution_count": 49,
      "outputs": [
        {
          "data": {
            "text/plain": "[[1, 2], [42, 4]]"
          },
          "execution_count": 49,
          "metadata": {},
          "output_type": "execute_result"
        }
      ]
    },
    {
      "metadata": {},
      "cell_type": "markdown",
      "source": "***"
    },
    {
      "metadata": {},
      "cell_type": "markdown",
      "source": "## First Steps Towards Programming"
    },
    {
      "metadata": {},
      "cell_type": "markdown",
      "source": "Write a program that store the first 10 numbers that are divisable by 7 into a the variable called `div_7`. \n\n*NB: If you find this exercise challenging, that's okay. It is a stretch exercise. You should be able to tackle it after the flow control class.*"
    },
    {
      "metadata": {
        "trusted": false
      },
      "cell_type": "code",
      "source": "i, j = 0, 0\ndiv_7 =[]\nwhile j < 10:\n    i += 1\n    if i % 7 == 0:\n        j += 1        \n        div_7.append(i)\ndiv_7",
      "execution_count": 50,
      "outputs": [
        {
          "data": {
            "text/plain": "[7, 14, 21, 28, 35, 42, 49, 56, 63, 70]"
          },
          "execution_count": 50,
          "metadata": {},
          "output_type": "execute_result"
        }
      ]
    },
    {
      "metadata": {},
      "cell_type": "markdown",
      "source": "***"
    }
  ],
  "metadata": {
    "kernelspec": {
      "name": "python36",
      "display_name": "Python 3.6",
      "language": "python"
    },
    "language_info": {
      "mimetype": "text/x-python",
      "nbconvert_exporter": "python",
      "name": "python",
      "pygments_lexer": "ipython3",
      "version": "3.6.6",
      "file_extension": ".py",
      "codemirror_mode": {
        "version": 3,
        "name": "ipython"
      }
    }
  },
  "nbformat": 4,
  "nbformat_minor": 2
}