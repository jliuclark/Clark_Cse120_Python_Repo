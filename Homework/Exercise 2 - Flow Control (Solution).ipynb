{
  "cells": [
    {
      "metadata": {
        "collapsed": true
      },
      "cell_type": "markdown",
      "source": "# Exercises"
    },
    {
      "metadata": {},
      "cell_type": "markdown",
      "source": "16 Feb 2018. Course release\n\n23 Feb 2018. Exercises covering the topic of gentle introduction\n\n2 Mar 2018. Exercises covering the topic of Flow control \n\n9 Mar 2018. Exercises  covering the topics of data structures and modules\n\n16 Mar 2018. Exercises covering input and outputs, and errors and exceptions\n\n23 Mar 2018. Capstone project 1\n\n30 Mar 2018. Capstone project 2 "
    },
    {
      "metadata": {},
      "cell_type": "markdown",
      "source": "***"
    },
    {
      "metadata": {},
      "cell_type": "markdown",
      "source": "# Flow Control"
    },
    {
      "metadata": {},
      "cell_type": "markdown",
      "source": "## `if` Statements"
    },
    {
      "metadata": {},
      "cell_type": "markdown",
      "source": "Write an algorithm that ask the user to key in their breakfast choice, and make use of `if` statements and returns the price of a breakfast menu option. If the user ask for anything apart from the following choices, return \"Not part of the breakfast choice\".\n\nmuffin, 1.99\n \nchicken, 2.99\n \negg, 2.89\n \ntoast, 3.50"
    },
    {
      "metadata": {
        "trusted": false
      },
      "cell_type": "code",
      "source": "choice = input(\"breakfast choice: \")\n\nif choice == \"muffin\":\n    print(1.99)\nelif choice == \"chicken\":\n    print(2.99)\nelif choice == \"egg\":\n    print(2.89)\nelif choice == \"toast\":\n    print(3.50)\nelse:\n    print(\"Not part of the breakfast choice\")",
      "execution_count": 1,
      "outputs": [
        {
          "name": "stdout",
          "output_type": "stream",
          "text": "breakfast choice: egg\n2.89\n"
        }
      ]
    },
    {
      "metadata": {},
      "cell_type": "markdown",
      "source": "Write a simple program that takes temperature in Fahrenheit input from users and converts it to Celsius.\n"
    },
    {
      "metadata": {
        "trusted": false
      },
      "cell_type": "code",
      "source": "temp_in_f = input('Please Enter Temperature in  Fahrenheit:')\ntemp_in_c = (float(temp_in_f) - 32.) * 5. / 9.\nprint(\"{} degrees in Fahrenheit is {} degree in Celsius\".format(temp_in_f, temp_in_c))",
      "execution_count": 2,
      "outputs": [
        {
          "name": "stdout",
          "output_type": "stream",
          "text": "Please Enter Temperature in  Fahrenheit:32\n32 degrees in Fahrenheit is 0.0 degree in Celsius\n"
        }
      ]
    },
    {
      "metadata": {},
      "cell_type": "markdown",
      "source": "Write a program that takes percentage score from users and convert it to letter grade\n\n* Letter Grade:\tPercentage\n* A:\t90%-100%\n* B:\t80%-89%\n* C:\t70%-79%\n* D:\t60%-69%\n* F:\t0%-59%"
    },
    {
      "metadata": {
        "trusted": false
      },
      "cell_type": "code",
      "source": "result = int(input(\"Please enter raw scores: \"))\n\nif result >= 90:\n    print(\"A\")\nelif result >= 80:    \n    print(\"B\")\nelif result >= 70:\n    print(\"C\")\nelif result >= 60:\n    print(\"D\")\nelse:                 \n    print(\"F\")",
      "execution_count": 3,
      "outputs": [
        {
          "name": "stdout",
          "output_type": "stream",
          "text": "Please enter raw scores: 69\nD\n"
        }
      ]
    },
    {
      "metadata": {},
      "cell_type": "markdown",
      "source": "## `for` Statements"
    },
    {
      "metadata": {},
      "cell_type": "markdown",
      "source": "Use a `for` loop and `if` statement to identify and print the odd number in the following list."
    },
    {
      "metadata": {},
      "cell_type": "markdown",
      "source": "[reference](https://github.com/zhiwehu/Python-programming-exercises/blob/master/100%2B%20Python%20challenging%20programming%20exercises.txt)"
    },
    {
      "metadata": {
        "trusted": false
      },
      "cell_type": "code",
      "source": "num_list = [76, 64, 25, 23,  4, 17, 56, 14, 90, 28, 46, 89,  1,  8,  0, 65, 10, 30, 40, 47]",
      "execution_count": 4,
      "outputs": []
    },
    {
      "metadata": {
        "trusted": false
      },
      "cell_type": "code",
      "source": "for oo in num_list:\n    if oo % 2 != 0:\n        print(oo)",
      "execution_count": 5,
      "outputs": [
        {
          "name": "stdout",
          "output_type": "stream",
          "text": "25\n23\n17\n89\n1\n65\n47\n"
        }
      ]
    },
    {
      "metadata": {},
      "cell_type": "markdown",
      "source": "Write a Python program to construct the following pattern, using a nested for loop. **NB: This is a challenging question**"
    },
    {
      "metadata": {},
      "cell_type": "raw",
      "source": "* \n* * \n* * * \n* * * * \n* * * * * \n* * * * \n* * * \n* * \n*"
    },
    {
      "metadata": {},
      "cell_type": "markdown",
      "source": "[reference](https://www.w3resource.com/python-exercises/python-conditional-statements-and-loop-exercises.php)"
    },
    {
      "metadata": {
        "trusted": false
      },
      "cell_type": "code",
      "source": "for i in range(1, 13):\n    if i <= 6:\n        for j in range(1, i):\n            print(\"* \", end='')\n        print()\n    else:\n        for j in range(1, 12 - i):\n            print(\"* \", end='')\n        print()",
      "execution_count": 6,
      "outputs": [
        {
          "name": "stdout",
          "output_type": "stream",
          "text": "\n* \n* * \n* * * \n* * * * \n* * * * * \n* * * * \n* * * \n* * \n* \n\n\n"
        }
      ]
    },
    {
      "metadata": {},
      "cell_type": "markdown",
      "source": "## The `range()` Function"
    },
    {
      "metadata": {},
      "cell_type": "markdown",
      "source": "Write a program that finds numbers which are divisible by 13 but are not a multiple of 3, between 1000 and 1300 (inclusive). Print the result on screen"
    },
    {
      "metadata": {
        "trusted": false
      },
      "cell_type": "code",
      "source": "for oo in range(1000, 1301):\n    if (oo % 13==0) & (oo % 3 != 0):\n        print(oo)",
      "execution_count": 7,
      "outputs": [
        {
          "name": "stdout",
          "output_type": "stream",
          "text": "1001\n1027\n1040\n1066\n1079\n1105\n1118\n1144\n1157\n1183\n1196\n1222\n1235\n1261\n1274\n1300\n"
        }
      ]
    },
    {
      "metadata": {},
      "cell_type": "markdown",
      "source": "Use `range()` to generate the following scenarios:\n\n1. A list starting from 15 and ends at 21\n2. [101, 103, 105, 107, 109]\n3. [100, 96, 92, 88, 84]\n"
    },
    {
      "metadata": {
        "trusted": false
      },
      "cell_type": "code",
      "source": "list(range(15, 22))",
      "execution_count": 8,
      "outputs": [
        {
          "data": {
            "text/plain": "[15, 16, 17, 18, 19, 20, 21]"
          },
          "execution_count": 8,
          "metadata": {},
          "output_type": "execute_result"
        }
      ]
    },
    {
      "metadata": {
        "trusted": false
      },
      "cell_type": "code",
      "source": "list(range(101, 110, 2))",
      "execution_count": 9,
      "outputs": [
        {
          "data": {
            "text/plain": "[101, 103, 105, 107, 109]"
          },
          "execution_count": 9,
          "metadata": {},
          "output_type": "execute_result"
        }
      ]
    },
    {
      "metadata": {
        "trusted": false
      },
      "cell_type": "code",
      "source": "list(range(100, 80, -4))",
      "execution_count": 10,
      "outputs": [
        {
          "data": {
            "text/plain": "[100, 96, 92, 88, 84]"
          },
          "execution_count": 10,
          "metadata": {},
          "output_type": "execute_result"
        }
      ]
    },
    {
      "metadata": {},
      "cell_type": "markdown",
      "source": "## `break`, and `continue` Statements, and  `else` Clauses on Loops"
    },
    {
      "metadata": {},
      "cell_type": "markdown",
      "source": "Write a program that lop through a list of capitals and break out when the capital \"Wellington\" is found and print the name of the capital with leading sentence \"Windy City!!! -->\". For the rest of the capitals, print \"Love to visit one day -->\" follow by the capital name. Once \"Wellington\" is found, stop the program.\n\n"
    },
    {
      "metadata": {
        "trusted": false
      },
      "cell_type": "code",
      "source": "capital_list = ['Baku', 'Nouakchott', 'Oslo', 'San Jose', 'Wellington', 'Seoul', 'Tbilisi']",
      "execution_count": 11,
      "outputs": []
    },
    {
      "metadata": {
        "trusted": false
      },
      "cell_type": "code",
      "source": "for capital in capital_list:\n    if capital == 'Wellington':\n        print(\"Windy City!!! -->\", capital)\n        break\n    else:\n        print(\"Love to visit one day -->\", capital)\n        ",
      "execution_count": 12,
      "outputs": [
        {
          "name": "stdout",
          "output_type": "stream",
          "text": "Love to visit one day --> Baku\nLove to visit one day --> Nouakchott\nLove to visit one day --> Oslo\nLove to visit one day --> San Jose\nWindy City!!! --> Wellington\n"
        }
      ]
    },
    {
      "metadata": {},
      "cell_type": "markdown",
      "source": "How would you change your codes if you want to continue printing other capital names."
    },
    {
      "metadata": {
        "trusted": false
      },
      "cell_type": "code",
      "source": "for capital in capital_list:\n    if capital == 'Wellington':\n        print(\"Windy City!!! -->\", capital)\n        continue\n    else:\n        print(\"Love to visit one day -->\", capital)\n        ",
      "execution_count": 13,
      "outputs": [
        {
          "name": "stdout",
          "output_type": "stream",
          "text": "Love to visit one day --> Baku\nLove to visit one day --> Nouakchott\nLove to visit one day --> Oslo\nLove to visit one day --> San Jose\nWindy City!!! --> Wellington\nLove to visit one day --> Seoul\nLove to visit one day --> Tbilisi\n"
        }
      ]
    },
    {
      "metadata": {},
      "cell_type": "markdown",
      "source": "## Defining Functions"
    },
    {
      "metadata": {},
      "cell_type": "markdown",
      "source": "Create functions that perform the following:\n\n1. Return the square root of any numbers provided\n2. Return capital of any strings. **NB: You will need to google this.**\n3. Write a program which prints all permutations for the purpose of 4-number [Lotto](https://en.wikipedia.org/wiki/List_of_six-number_lottery_games). The 4 numbers are [12, 7, 38, 2]. **Hint:** Google itertools and permutations"
    },
    {
      "metadata": {
        "trusted": false
      },
      "cell_type": "code",
      "source": "def sqrt(x):\n    return x ** (0.5)",
      "execution_count": 14,
      "outputs": []
    },
    {
      "metadata": {
        "trusted": false
      },
      "cell_type": "code",
      "source": "sqrt(4)",
      "execution_count": 15,
      "outputs": [
        {
          "data": {
            "text/plain": "2.0"
          },
          "execution_count": 15,
          "metadata": {},
          "output_type": "execute_result"
        }
      ]
    },
    {
      "metadata": {
        "trusted": false
      },
      "cell_type": "code",
      "source": "def return_capital(object):\n    return object.upper()",
      "execution_count": 16,
      "outputs": []
    },
    {
      "metadata": {
        "trusted": false
      },
      "cell_type": "code",
      "source": "return_capital(\"cats\")",
      "execution_count": 17,
      "outputs": [
        {
          "data": {
            "text/plain": "'CATS'"
          },
          "execution_count": 17,
          "metadata": {},
          "output_type": "execute_result"
        }
      ]
    },
    {
      "metadata": {
        "trusted": false
      },
      "cell_type": "code",
      "source": "def generate_lotto_combo(object):\n    import itertools\n    return list(itertools.permutations(object))",
      "execution_count": 18,
      "outputs": []
    },
    {
      "metadata": {
        "trusted": false
      },
      "cell_type": "code",
      "source": "num_list = [12, 7, 38, 2]",
      "execution_count": 19,
      "outputs": []
    },
    {
      "metadata": {
        "scrolled": false,
        "trusted": false
      },
      "cell_type": "code",
      "source": "generate_lotto_combo(num_list)",
      "execution_count": 20,
      "outputs": [
        {
          "data": {
            "text/plain": "[(12, 7, 38, 2),\n (12, 7, 2, 38),\n (12, 38, 7, 2),\n (12, 38, 2, 7),\n (12, 2, 7, 38),\n (12, 2, 38, 7),\n (7, 12, 38, 2),\n (7, 12, 2, 38),\n (7, 38, 12, 2),\n (7, 38, 2, 12),\n (7, 2, 12, 38),\n (7, 2, 38, 12),\n (38, 12, 7, 2),\n (38, 12, 2, 7),\n (38, 7, 12, 2),\n (38, 7, 2, 12),\n (38, 2, 12, 7),\n (38, 2, 7, 12),\n (2, 12, 7, 38),\n (2, 12, 38, 7),\n (2, 7, 12, 38),\n (2, 7, 38, 12),\n (2, 38, 12, 7),\n (2, 38, 7, 12)]"
          },
          "execution_count": 20,
          "metadata": {},
          "output_type": "execute_result"
        }
      ]
    },
    {
      "metadata": {},
      "cell_type": "markdown",
      "source": "***"
    }
  ],
  "metadata": {
    "kernelspec": {
      "name": "python36",
      "display_name": "Python 3.6",
      "language": "python"
    },
    "language_info": {
      "mimetype": "text/x-python",
      "nbconvert_exporter": "python",
      "name": "python",
      "pygments_lexer": "ipython3",
      "version": "3.6.6",
      "file_extension": ".py",
      "codemirror_mode": {
        "version": 3,
        "name": "ipython"
      }
    }
  },
  "nbformat": 4,
  "nbformat_minor": 2
}